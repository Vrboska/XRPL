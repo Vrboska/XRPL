{
 "cells": [
  {
   "cell_type": "code",
   "execution_count": 2,
   "id": "26c5d096",
   "metadata": {
    "ExecuteTime": {
     "end_time": "2025-02-10T18:27:36.434146Z",
     "start_time": "2025-02-10T18:27:36.429149Z"
    }
   },
   "outputs": [],
   "source": [
    "import sys\n",
    "sys.path.append(r'C:/Users/andrej/Projects/XRPL/')"
   ]
  },
  {
   "cell_type": "code",
   "execution_count": 3,
   "id": "599a14e4",
   "metadata": {
    "ExecuteTime": {
     "end_time": "2025-02-10T18:27:38.104869Z",
     "start_time": "2025-02-10T18:27:36.949185Z"
    }
   },
   "outputs": [],
   "source": [
    "import cfRestApiV3 as cfApi\n",
    "import datetime\n",
    "import pandas as pd\n",
    "import json\n",
    "import matplotlib.pyplot as plt\n",
    "import os"
   ]
  },
  {
   "cell_type": "code",
   "execution_count": 3,
   "id": "8f4ae0f3",
   "metadata": {
    "ExecuteTime": {
     "end_time": "2025-02-10T13:27:13.407588Z",
     "start_time": "2025-02-10T13:27:13.399031Z"
    }
   },
   "outputs": [],
   "source": [
    "from Utilities.email_sending import send_plain_email, send_html_email\n",
    "\n",
    "EMAIL_PASSWORD = os.getenv('EMAIL_PASSWORD') # the password needs to be set as EMAIL_PASSWORD in system variables of the computer where the process is running, it is located in S:/Algo/email_password.txt\n",
    "if EMAIL_PASSWORD is None:\n",
    "    raise ValueError(\"EMAIL_PASSWORD system variable not set\")\n",
    "\n",
    "RECIPIENT = [\"azubal@hotmail.com\"] # can also be a list of recipients"
   ]
  },
  {
   "cell_type": "code",
   "execution_count": 4,
   "id": "08460ec3",
   "metadata": {
    "ExecuteTime": {
     "end_time": "2025-02-10T18:27:40.676498Z",
     "start_time": "2025-02-10T18:27:40.664784Z"
    },
    "code_folding": [
     0,
     10
    ]
   },
   "outputs": [],
   "source": [
    "def convert_to_html_content(input_string):\n",
    "    # Split the input string by the newline character\n",
    "    lines = input_string.split('\\n')\n",
    "    # Wrap each line in a <p> tag\n",
    "    html_lines = [f\"<p>{line}</p>\" for line in lines]\n",
    "    # Join the lines into a single HTML string\n",
    "    html_content = '\\n'.join(html_lines)\n",
    "    return html_content\n",
    "\n",
    "\n",
    "def convert_dataframe_to_html_content(df):\n",
    "    # Convert the DataFrame to an HTML table\n",
    "    html_content = '<table border=\"1\" cellpadding=\"5\" cellspacing=\"0\" style=\"border-collapse: collapse;\">\\n'\n",
    "\n",
    "    # Add the header row\n",
    "    name = 'Order Book'\n",
    "    html_content += '  <tr>\\n'\n",
    "    html_content += f'    <th>{name}</th>\\n'\n",
    "    for column in df.columns:\n",
    "        html_content += f'    <th>{column}</th>\\n'\n",
    "    html_content += '  </tr>\\n'\n",
    "\n",
    "    # Add the data rows\n",
    "    for idx, row in df.iterrows():\n",
    "        html_content += '  <tr>\\n'\n",
    "        html_content += f'    <td>{idx}</td>\\n'  # Add the index as the first column\n",
    "        for item in row:\n",
    "            html_content += f'    <td>{item}</td>\\n'\n",
    "        html_content += '  </tr>\\n'\n",
    "\n",
    "    # Close the HTML table\n",
    "    html_content += '</table>'\n",
    "\n",
    "    return html_content"
   ]
  },
  {
   "cell_type": "code",
   "execution_count": 5,
   "id": "b8f2d3b0",
   "metadata": {
    "ExecuteTime": {
     "end_time": "2025-02-10T18:27:41.101986Z",
     "start_time": "2025-02-10T18:27:41.096349Z"
    },
    "code_folding": [
     0
    ]
   },
   "outputs": [],
   "source": [
    "# accessible on your Account page under Settings -> API Keys\n",
    "apiPublicKey = \"X0J+mG76qUHLfr7G4Yk0/cSX7+T7cApznHo2opaEOOqNZKed2AmDFuMI\"\n",
    "# accessible on your Account page under Settings -> API Keys\n",
    "apiPrivateKey = \"YMyZG6GhXNmvW/ZvLzFp5zxTX+dmfPJCp8Vzamz8LJ+CBmQmloF7yBC3/sD3mNrMw8i8CtNqMnd9233v3+6kpUlT\""
   ]
  },
  {
   "cell_type": "code",
   "execution_count": 6,
   "id": "c85a6c61",
   "metadata": {
    "ExecuteTime": {
     "end_time": "2025-02-10T18:27:41.329239Z",
     "start_time": "2025-02-10T18:27:41.324637Z"
    },
    "code_folding": [
     0
    ]
   },
   "outputs": [],
   "source": [
    "# use \"api.cryptofacilities.com\" if your IP is whitelisted (Settings -> API Keys -> IP Whitelist)\n",
    "apiPath = \"https://www.cryptofacilities.com\"\n",
    "timeout = 20\n",
    "checkCertificate = True  # when using the test environment, this must be set to \"False\"\n",
    "useNonce = False  # nonce is optional\n",
    "\n",
    "cfPublic = cfApi.cfApiMethods(\n",
    "    apiPath, timeout=timeout, checkCertificate=checkCertificate)\n",
    "cfPrivate = cfApi.cfApiMethods(apiPath, timeout=timeout, apiPublicKey=apiPublicKey,\n",
    "                               apiPrivateKey=apiPrivateKey, checkCertificate=checkCertificate, useNonce=useNonce)"
   ]
  },
  {
   "cell_type": "markdown",
   "id": "b53e0948",
   "metadata": {
    "ExecuteTime": {
     "end_time": "2025-02-07T14:37:52.449006Z",
     "start_time": "2025-02-07T14:37:52.443394Z"
    }
   },
   "source": [
    "# XRP FUTURE PRICE ON KRAKEN"
   ]
  },
  {
   "cell_type": "code",
   "execution_count": 7,
   "id": "eee95733",
   "metadata": {
    "ExecuteTime": {
     "end_time": "2025-02-10T18:27:42.565210Z",
     "start_time": "2025-02-10T18:27:42.158988Z"
    }
   },
   "outputs": [
    {
     "name": "stdout",
     "output_type": "stream",
     "text": [
      "2.43445\n"
     ]
    },
    {
     "data": {
      "text/html": [
       "<div>\n",
       "<style scoped>\n",
       "    .dataframe tbody tr th:only-of-type {\n",
       "        vertical-align: middle;\n",
       "    }\n",
       "\n",
       "    .dataframe tbody tr th {\n",
       "        vertical-align: top;\n",
       "    }\n",
       "\n",
       "    .dataframe thead th {\n",
       "        text-align: right;\n",
       "    }\n",
       "</style>\n",
       "<table border=\"1\" class=\"dataframe\">\n",
       "  <thead>\n",
       "    <tr style=\"text-align: right;\">\n",
       "      <th></th>\n",
       "      <th>0</th>\n",
       "      <th>1</th>\n",
       "      <th>2</th>\n",
       "      <th>3</th>\n",
       "    </tr>\n",
       "  </thead>\n",
       "  <tbody>\n",
       "    <tr>\n",
       "      <th>0</th>\n",
       "      <td>PI_XRPUSD</td>\n",
       "      <td>2.428</td>\n",
       "      <td>2.4336</td>\n",
       "      <td>2.4353</td>\n",
       "    </tr>\n",
       "  </tbody>\n",
       "</table>\n",
       "</div>"
      ],
      "text/plain": [
       "           0      1       2       3\n",
       "0  PI_XRPUSD  2.428  2.4336  2.4353"
      ]
     },
     "execution_count": 7,
     "metadata": {},
     "output_type": "execute_result"
    }
   ],
   "source": [
    "# # get prices\n",
    "symbol='PI_XRPUSD'\n",
    "tickers=json.loads(cfPublic.get_tickers())['tickers'] \n",
    "result =[(x['symbol'], x.get('last', None), x.get('bid', None),  x.get('ask', None)) for x in tickers if x['symbol']==symbol]\n",
    "mid_price=(result[0][3]+result[0][2])/2\n",
    "print(mid_price)\n",
    "pd.DataFrame(result)"
   ]
  },
  {
   "cell_type": "markdown",
   "id": "64a49dcc",
   "metadata": {},
   "source": [
    "# XRP LEDGER ORDERBOOK"
   ]
  },
  {
   "cell_type": "code",
   "execution_count": 9,
   "id": "94d5b619",
   "metadata": {
    "ExecuteTime": {
     "end_time": "2025-02-10T18:28:11.505728Z",
     "start_time": "2025-02-10T18:28:11.198840Z"
    },
    "code_folding": [
     67
    ]
   },
   "outputs": [
    {
     "name": "stdout",
     "output_type": "stream",
     "text": [
      "Response(status=<ResponseStatus.SUCCESS: 'success'>, result={'ledger_current_index': 94056864, 'offers': [{'Account': 'r4A3uDju7wh13cZ5Wo9goaEHpLoXqsXVn7', 'BookDirectory': 'DFA3B6DDAB58C7E8E5D944E736DA4B7046C30E4F460FD9DE4F08A2AC198B2686', 'BookNode': '0', 'Flags': 0, 'LedgerEntryType': 'Offer', 'OwnerNode': '0', 'PreviousTxnID': 'BB7ED2A0AE7998BA7E13A1793D856E8E1BD8617B3E5E2104642182F64C634E50', 'PreviousTxnLgrSeq': 94056683, 'Sequence': 93588112, 'TakerGets': '1324644', 'TakerPays': {'currency': 'USD', 'issuer': 'rvYAfWj5gh67oV6fW32ZzP3Aw4Eubs59B', 'value': '3.219759'}, 'index': 'A349E311A6017E3E5779A39A6C4B1CF0ABB220C6F54058219626E2C47D95B422', 'owner_funds': '510908374', 'quality': '0.000002430659860309638'}, {'Account': 'rLtCVnojydtQy7GYGTmDegkM15hLX8VuZk', 'BookDirectory': 'DFA3B6DDAB58C7E8E5D944E736DA4B7046C30E4F460FD9DE4F08A5CD11D90800', 'BookNode': '0', 'Flags': 131072, 'LedgerEntryType': 'Offer', 'OwnerNode': '0', 'PreviousTxnID': 'CA09D44DF4B4B114AB87603720D773DD54B094E3819791D5768A7EF06FC339D2', 'PreviousTxnLgrSeq': 94056720, 'Sequence': 90485385, 'TakerGets': '100000000', 'TakerPays': {'currency': 'USD', 'issuer': 'rvYAfWj5gh67oV6fW32ZzP3Aw4Eubs59B', 'value': '243.41'}, 'index': 'F4416B18E8CCAD09445C685E7D53BD1BEA16B7589CE20539898CE5D2482E3918', 'owner_funds': '18888440914', 'quality': '0.0000024341'}, {'Account': 'rBTwLga3i2gz3doX6Gva3MgEV8ZCD8jjah', 'BookDirectory': 'DFA3B6DDAB58C7E8E5D944E736DA4B7046C30E4F460FD9DE4F08CDB816FC5F40', 'BookNode': '0', 'Flags': 0, 'LedgerEntryType': 'Offer', 'OwnerNode': '0', 'PreviousTxnID': '4482AC4AED61205605A20F1DA0C27EB1B0A3EC35F1EE4556988B07CA07ED95D0', 'PreviousTxnLgrSeq': 94056863, 'Sequence': 167630968, 'TakerGets': '10963000000', 'TakerPays': {'currency': 'USD', 'issuer': 'rvYAfWj5gh67oV6fW32ZzP3Aw4Eubs59B', 'value': '27166.208283791'}, 'index': '902E34EB17C2BB8B8D4D3C43FBD9C7D8D00AAD279994F05E0648C598194458F7', 'owner_funds': '11059566664', 'quality': '0.000002477990357'}, {'Account': 'r3rhWeE31Jt5sWmi4QiGLMZnY3ENgqw96W', 'BookDirectory': 'DFA3B6DDAB58C7E8E5D944E736DA4B7046C30E4F460FD9DE4F08CDB83ABB1B50', 'BookNode': '0', 'Flags': 0, 'LedgerEntryType': 'Offer', 'OwnerNode': '1948d', 'PreviousTxnID': '9B56E48917A3E851BE01588AABC5C13E0B69ACA83E490E0337160F8E5ED3F5BC', 'PreviousTxnLgrSeq': 94056851, 'Sequence': 123597055, 'TakerGets': '36085745187', 'TakerPays': {'currency': 'USD', 'issuer': 'rvYAfWj5gh67oV6fW32ZzP3Aw4Eubs59B', 'value': '89420.15023925835'}, 'index': 'AFDEC30787A377D19767BA2880451AB59A782F7936B6E8A41B28ECC0341A3470', 'owner_funds': '99434922133', 'quality': '0.000002477990956702544'}, {'Account': 'r3rhWeE31Jt5sWmi4QiGLMZnY3ENgqw96W', 'BookDirectory': 'DFA3B6DDAB58C7E8E5D944E736DA4B7046C30E4F460FD9DE4F08CDB83ABB2DB6', 'BookNode': '0', 'Flags': 0, 'LedgerEntryType': 'Offer', 'OwnerNode': '1948d', 'PreviousTxnID': '0F63E637C2633AD89E0E834855D58F58294DA56EE8C71CD1860BD86E25E0E8B3', 'PreviousTxnLgrSeq': 94056851, 'Sequence': 123597060, 'TakerGets': '50779376159', 'TakerPays': {'currency': 'USD', 'issuer': 'rvYAfWj5gh67oV6fW32ZzP3Aw4Eubs59B', 'value': '125830.8349092379'}, 'index': '230DECA8462F01C85B059DC6893C1755E5889B29635ECDF083E8C4C6AE4EFBF3', 'quality': '0.000002477990956707254'}, {'Account': 'rLEReo9p26mQXQovZvCKW9U8BEcxnXegxS', 'BookDirectory': 'DFA3B6DDAB58C7E8E5D944E736DA4B7046C30E4F460FD9DE4F08CF8BFF0B0000', 'BookNode': '0', 'Flags': 131072, 'LedgerEntryType': 'Offer', 'OwnerNode': '0', 'PreviousTxnID': 'B1657225DDC90CD876773F5B41A6006157F81611C81B8A184502FDB48B30DE8E', 'PreviousTxnLgrSeq': 94055369, 'Sequence': 86650872, 'TakerGets': '200000000', 'TakerPays': {'currency': 'USD', 'issuer': 'rvYAfWj5gh67oV6fW32ZzP3Aw4Eubs59B', 'value': '496'}, 'index': 'EF3A17975AE42D8FAC2E9C9C00B37989569168D24708E9F0931286570986A4D3', 'owner_funds': '2148348897', 'quality': '0.00000248'}, {'Account': 'rBci5N2MQdXjZtUQzFxrQHM6kssarRASTi', 'BookDirectory': 'DFA3B6DDAB58C7E8E5D944E736DA4B7046C30E4F460FD9DE4F08D8A44D7DA000', 'BookNode': '0', 'Flags': 131072, 'LedgerEntryType': 'Offer', 'OwnerNode': '8', 'PreviousTxnID': '4E7C83AA9BFD8E9F782AC08B8F70514E17318DF89B5EB7AC6888F35E34AE4350', 'PreviousTxnLgrSeq': 94039901, 'Sequence': 17569, 'TakerGets': '100000000', 'TakerPays': {'currency': 'USD', 'issuer': 'rvYAfWj5gh67oV6fW32ZzP3Aw4Eubs59B', 'value': '249'}, 'index': 'B9AFC8F9D965BEF0A70BD8D209133E9776009CFFAF3785D4C4A47EDDACD7C05D', 'owner_funds': '2501056563', 'quality': '0.00000249'}, {'Account': 'rBci5N2MQdXjZtUQzFxrQHM6kssarRASTi', 'BookDirectory': 'DFA3B6DDAB58C7E8E5D944E736DA4B7046C30E4F460FD9DE4F08F3ED38D58000', 'BookNode': '0', 'Flags': 131072, 'LedgerEntryType': 'Offer', 'OwnerNode': '8', 'PreviousTxnID': '0B0A5CB977788974AFE6A4ED36EA9E6879AF70E7BE7B4723E1B69F98F405338E', 'PreviousTxnLgrSeq': 94039903, 'Sequence': 17570, 'TakerGets': '100000000', 'TakerPays': {'currency': 'USD', 'issuer': 'rvYAfWj5gh67oV6fW32ZzP3Aw4Eubs59B', 'value': '252'}, 'index': '52CD16CFA0785DEE42BFE816F85F8E314483435FC105D1CEB6BCEBAC70542125', 'quality': '0.00000252'}, {'Account': 'rsFaWztpAqZKoBSLTuhrhYfBV4nwYg7TFP', 'BookDirectory': 'DFA3B6DDAB58C7E8E5D944E736DA4B7046C30E4F460FD9DE4F090018DB906850', 'BookNode': '0', 'Flags': 0, 'LedgerEntryType': 'Offer', 'OwnerNode': '0', 'PreviousTxnID': 'DE432DC6574275182B9A3FEDB4088121DAD83EC18E778DCF3F223A03ACE8582A', 'PreviousTxnLgrSeq': 93945654, 'Sequence': 75621661, 'TakerGets': '774230', 'TakerPays': {'currency': 'USD', 'issuer': 'rvYAfWj5gh67oV6fW32ZzP3Aw4Eubs59B', 'value': '1.96142'}, 'index': 'B234E690273CBCEE42BCF3C44E4F08AA7183F0EE855BA0A0EA408F656813C112', 'owner_funds': '26735736', 'quality': '0.0000025333815532852'}, {'Account': 'rBci5N2MQdXjZtUQzFxrQHM6kssarRASTi', 'BookDirectory': 'DFA3B6DDAB58C7E8E5D944E736DA4B7046C30E4F460FD9DE4F092166C112A000', 'BookNode': '0', 'Flags': 131072, 'LedgerEntryType': 'Offer', 'OwnerNode': '8', 'PreviousTxnID': '90E990C404795BD9E22BE6D08B1378454C3EFE71752F8CEBE6D85462F4744E06', 'PreviousTxnLgrSeq': 93927163, 'Sequence': 17549, 'TakerGets': '100000000', 'TakerPays': {'currency': 'USD', 'issuer': 'rvYAfWj5gh67oV6fW32ZzP3Aw4Eubs59B', 'value': '257'}, 'index': 'FB01950F39662187059CB7BD4DD1CB6AC35EF0280ED1C7FB510892B7C6F25CF9', 'quality': '0.00000257'}, {'Account': 'rs8DcZui4G1tKEkdnaxTvjvbxJWAu1RxQ7', 'BookDirectory': 'DFA3B6DDAB58C7E8E5D944E736DA4B7046C30E4F460FD9DE4F0933975DF7E000', 'BookNode': '0', 'Flags': 131072, 'LedgerEntryType': 'Offer', 'OwnerNode': '0', 'PreviousTxnID': 'D4E1F305FF1F67CD8213FDF06FC3B41AF13A144E482AB1D127D1814069A8ECC6', 'PreviousTxnLgrSeq': 94009220, 'Sequence': 669, 'TakerGets': '1000000000', 'TakerPays': {'currency': 'USD', 'issuer': 'rvYAfWj5gh67oV6fW32ZzP3Aw4Eubs59B', 'value': '2590'}, 'index': '0FC2F1721E8227D3F8764FD7ED1152E0CE92196C94F762268812A6463371C00F', 'owner_funds': '53746448698', 'quality': '0.00000259'}, {'Account': 'rBci5N2MQdXjZtUQzFxrQHM6kssarRASTi', 'BookDirectory': 'DFA3B6DDAB58C7E8E5D944E736DA4B7046C30E4F460FD9DE4F093CAFAC6A8000', 'BookNode': '0', 'Flags': 131072, 'LedgerEntryType': 'Offer', 'OwnerNode': '8', 'PreviousTxnID': 'CA11AE1D293547330618F1601D9F2E86C38DB0B01B92419A939E43CDD9508A01', 'PreviousTxnLgrSeq': 93927170, 'Sequence': 17550, 'TakerGets': '100000000', 'TakerPays': {'currency': 'USD', 'issuer': 'rvYAfWj5gh67oV6fW32ZzP3Aw4Eubs59B', 'value': '260'}, 'index': '0A7939CEE919098289EEB50A637DB3CCF2CB9A80035BF81715A1161DBE4A6B8E', 'quality': '0.0000026'}, {'Account': 'rsFaWztpAqZKoBSLTuhrhYfBV4nwYg7TFP', 'BookDirectory': 'DFA3B6DDAB58C7E8E5D944E736DA4B7046C30E4F460FD9DE4F09651CC4C0210B', 'BookNode': '0', 'Flags': 0, 'LedgerEntryType': 'Offer', 'OwnerNode': '0', 'PreviousTxnID': 'A0F33A44DF88212358421F50A9517FDE43AA95422AB0B27B2D2879CA88E4053C', 'PreviousTxnLgrSeq': 93943447, 'Sequence': 75621659, 'TakerGets': '776260', 'TakerPays': {'currency': 'USD', 'issuer': 'rvYAfWj5gh67oV6fW32ZzP3Aw4Eubs59B', 'value': '2.05278'}, 'index': 'B43EB40344F9F8ECDDFD2FC79ED48B6CF8818ACDE999759D6B3519B55776BC09', 'quality': '0.000002644449024811275'}, {'Account': 'rscvdDNNzpJCu4Lh3EHLSQd2Jq9iao89zF', 'BookDirectory': 'DFA3B6DDAB58C7E8E5D944E736DA4B7046C30E4F460FD9DE4F09651D1188EE56', 'BookNode': '0', 'Flags': 131072, 'LedgerEntryType': 'Offer', 'OwnerNode': '0', 'PreviousTxnID': '194C18F3748E2D8E372F2F614E5699A9D7E4795B3425E5B2A7D55D75ED164ECD', 'PreviousTxnLgrSeq': 94038343, 'Sequence': 94038230, 'TakerGets': '776260', 'TakerPays': {'currency': 'USD', 'issuer': 'rvYAfWj5gh67oV6fW32ZzP3Aw4Eubs59B', 'value': '2.052781'}, 'index': '4A7B81284274AEA8EEB625B1423920602A0C30F8338ECF4A43D7BD303346FA3D', 'owner_funds': '855686', 'quality': '0.000002644450313039446'}, {'Account': 'rscvdDNNzpJCu4Lh3EHLSQd2Jq9iao89zF', 'BookDirectory': 'DFA3B6DDAB58C7E8E5D944E736DA4B7046C30E4F460FD9DE4F09651D1188EE56', 'BookNode': '0', 'Flags': 131072, 'LedgerEntryType': 'Offer', 'OwnerNode': '0', 'PreviousTxnID': 'AEA8C1820B13FD559B23DCE2FB171BB0227454FCB974982BAB96721B797D637E', 'PreviousTxnLgrSeq': 94038443, 'Sequence': 94038232, 'TakerGets': '776260', 'TakerPays': {'currency': 'USD', 'issuer': 'rvYAfWj5gh67oV6fW32ZzP3Aw4Eubs59B', 'value': '2.052781'}, 'index': 'FF806C6A29B6EC780F5689403739D11C217121C5A3D104F04FEC3428BE9371AA', 'quality': '0.000002644450313039446', 'taker_gets_funded': '79426', 'taker_pays_funded': {'currency': 'USD', 'issuer': 'rvYAfWj5gh67oV6fW32ZzP3Aw4Eubs59B', 'value': '0.210038110563471'}}, {'Account': 'rsFaWztpAqZKoBSLTuhrhYfBV4nwYg7TFP', 'BookDirectory': 'DFA3B6DDAB58C7E8E5D944E736DA4B7046C30E4F460FD9DE4F09CF2FAC6075FA', 'BookNode': '0', 'Flags': 0, 'LedgerEntryType': 'Offer', 'OwnerNode': '0', 'PreviousTxnID': 'C5584C15C4B590008C78B260F0CE87F87063A0E554B701FE7252C71FD70C9FB8', 'PreviousTxnLgrSeq': 93911736, 'Sequence': 75621655, 'TakerGets': '777410', 'TakerPays': {'currency': 'USD', 'issuer': 'rvYAfWj5gh67oV6fW32ZzP3Aw4Eubs59B', 'value': '2.14649'}, 'index': 'A46182E9A7AAC1F62EAC6CCFB21AB83F773D858A41563D663734573E012C4DC1', 'quality': '0.000002761078452811258'}, {'Account': 'rQ3ndVHjPktjyif34PHtBxXgFy8TpbXiqE', 'BookDirectory': 'DFA3B6DDAB58C7E8E5D944E736DA4B7046C30E4F460FD9DE4F09FAC2A9757E91', 'BookNode': '0', 'Flags': 131072, 'LedgerEntryType': 'Offer', 'OwnerNode': '16', 'PreviousTxnID': '31B17BF82C9EB01A79690272B5B709A8CA9F02437150FCC5C79ECEE6C2D413C0', 'PreviousTxnLgrSeq': 93924796, 'Sequence': 92136273, 'TakerGets': '443104751', 'TakerPays': {'currency': 'USD', 'issuer': 'rvYAfWj5gh67oV6fW32ZzP3Aw4Eubs59B', 'value': '1244.676266853933'}, 'index': '036B7AA716041A68FD57F177049A8099541D87501A79B055381AEDD080532FF2', 'owner_funds': '657065997', 'quality': '0.000002808988764044945'}, {'Account': 'rU1tArrr24FMw3iztqeVBJqQwiGFyj97ju', 'BookDirectory': 'DFA3B6DDAB58C7E8E5D944E736DA4B7046C30E4F460FD9DE4F0A04C66A444000', 'BookNode': '0', 'Expiration': 823610067, 'Flags': 131072, 'LedgerEntryType': 'Offer', 'OwnerNode': '14f', 'PreviousTxnID': 'DC774A77A7FC0138F486100A37FE3BAFEBB3528F57B1DE824FD5076D776B5483', 'PreviousTxnLgrSeq': 93939778, 'Sequence': 60175060, 'TakerGets': '100000000', 'TakerPays': {'currency': 'USD', 'issuer': 'rvYAfWj5gh67oV6fW32ZzP3Aw4Eubs59B', 'value': '282'}, 'index': '3B72ADC65FEE71FBF912F347778BA5B04639B747F32AACBDC97D3B028BFF3E81', 'owner_funds': '3912512680', 'quality': '0.00000282'}, {'Account': 'rBci5N2MQdXjZtUQzFxrQHM6kssarRASTi', 'BookDirectory': 'DFA3B6DDAB58C7E8E5D944E736DA4B7046C30E4F460FD9DE4F0A16F707298000', 'BookNode': '0', 'Flags': 131072, 'LedgerEntryType': 'Offer', 'OwnerNode': '7', 'PreviousTxnID': '9B2BC4F31B6F08C0D6A9A8BDDE8F473A31B6AED57A495C5F7DB5A813DC9BD0BD', 'PreviousTxnLgrSeq': 93879855, 'Sequence': 17425, 'TakerGets': '100000000', 'TakerPays': {'currency': 'USD', 'issuer': 'rvYAfWj5gh67oV6fW32ZzP3Aw4Eubs59B', 'value': '284'}, 'index': 'B3FF26A388ABAFA9B04F9D7CDFF8EA5ABD8E04E380B5448345EFC1125640AA4A', 'quality': '0.00000284'}, {'Account': 'rN6eJPWPqBZ81Xhi9HQRHzN4NxGYG63fK3', 'BookDirectory': 'DFA3B6DDAB58C7E8E5D944E736DA4B7046C30E4F460FD9DE4F0A16F707298000', 'BookNode': '0', 'Expiration': 823432872, 'Flags': 131072, 'LedgerEntryType': 'Offer', 'OwnerNode': '0', 'PreviousTxnID': 'EDB222DA9C9B6EBCF58FED20896982D3B24F137C10885633912223CB839BE3F7', 'PreviousTxnLgrSeq': 93895248, 'Sequence': 74141628, 'TakerGets': '5000000000', 'TakerPays': {'currency': 'USD', 'issuer': 'rvYAfWj5gh67oV6fW32ZzP3Aw4Eubs59B', 'value': '14200'}, 'index': '2E743490DEE8F485E420BFCFA671403F98E81873B0C6202A70DCA8C7ED7E4E20', 'owner_funds': '51609799749', 'quality': '0.00000284'}, {'Account': 'rBci5N2MQdXjZtUQzFxrQHM6kssarRASTi', 'BookDirectory': 'DFA3B6DDAB58C7E8E5D944E736DA4B7046C30E4F460FD9DE4F0A200F559C2000', 'BookNode': '0', 'Flags': 131072, 'LedgerEntryType': 'Offer', 'OwnerNode': '7', 'PreviousTxnID': '0CC9EBD1C9111846556F79A794D0434B339FA7238FCABCE29AE7A2576E32A468', 'PreviousTxnLgrSeq': 93879873, 'Sequence': 17426, 'TakerGets': '100000000', 'TakerPays': {'currency': 'USD', 'issuer': 'rvYAfWj5gh67oV6fW32ZzP3Aw4Eubs59B', 'value': '285'}, 'index': '022CC99A311A23AB4634CCBF82A067EE00D3B90CDA51DF3EFC6509DFB0A66B19', 'quality': '0.00000285'}, {'Account': 'rPJ2kXNTseFAD1qotRXBtv7cd3x8ZN4BkP', 'BookDirectory': 'DFA3B6DDAB58C7E8E5D944E736DA4B7046C30E4F460FD9DE4F0A3B5829CF9D60', 'BookNode': '0', 'Flags': 0, 'LedgerEntryType': 'Offer', 'OwnerNode': '77a8', 'PreviousTxnID': '7A4860C416C4E55C41E8F0BD3F9F7F529082B6F700B4BE85B66456C350FF95B3', 'PreviousTxnLgrSeq': 94056723, 'Sequence': 88145494, 'TakerGets': '10384780', 'TakerPays': {'currency': 'USD', 'issuer': 'rvYAfWj5gh67oV6fW32ZzP3Aw4Eubs59B', 'value': '29.908162368'}, 'index': 'E59F40B46E66E7F19B8F3D2FE5C9E05F3E7513540A74B713949A76B186D0EB30', 'owner_funds': '766976171', 'quality': '0.000002879999611739488'}, {'Account': 'rBci5N2MQdXjZtUQzFxrQHM6kssarRASTi', 'BookDirectory': 'DFA3B6DDAB58C7E8E5D944E736DA4B7046C30E4F460FD9DE4F0A3B5840F40000', 'BookNode': '0', 'Flags': 131072, 'LedgerEntryType': 'Offer', 'OwnerNode': '7', 'PreviousTxnID': '617F1778517D80CA4E6E2377F2A9638AB52D4B65186FFB51741D70EAC4E33068', 'PreviousTxnLgrSeq': 93874513, 'Sequence': 17416, 'TakerGets': '100000000', 'TakerPays': {'currency': 'USD', 'issuer': 'rvYAfWj5gh67oV6fW32ZzP3Aw4Eubs59B', 'value': '288'}, 'index': 'A103220357F73133D110A169DE8127B720C9010E72370BF0D00ED33BAC0B2A2C', 'quality': '0.00000288'}, {'Account': 'rBci5N2MQdXjZtUQzFxrQHM6kssarRASTi', 'BookDirectory': 'DFA3B6DDAB58C7E8E5D944E736DA4B7046C30E4F460FD9DE4F0A44708F66A000', 'BookNode': '0', 'Flags': 131072, 'LedgerEntryType': 'Offer', 'OwnerNode': '7', 'PreviousTxnID': '48501843DF738D7ABB68ECF2B7756BE59DA9316E1F58775A5EC8351AF61AB2C5', 'PreviousTxnLgrSeq': 93874499, 'Sequence': 17415, 'TakerGets': '100000000', 'TakerPays': {'currency': 'USD', 'issuer': 'rvYAfWj5gh67oV6fW32ZzP3Aw4Eubs59B', 'value': '289'}, 'index': 'FD83446E2AB20CF85435DBEF8458E068A2AB31D43D150A52B8759867AF9391C0', 'quality': '0.00000289'}, {'Account': 'rBci5N2MQdXjZtUQzFxrQHM6kssarRASTi', 'BookDirectory': 'DFA3B6DDAB58C7E8E5D944E736DA4B7046C30E4F460FD9DE4F0A4D88DDD94000', 'BookNode': '0', 'Flags': 131072, 'LedgerEntryType': 'Offer', 'OwnerNode': '7', 'PreviousTxnID': 'F14F5B27C047A1B4B62FACFC8FCD2D185074284C07E2B74D376763F67A211A71', 'PreviousTxnLgrSeq': 93874431, 'Sequence': 17413, 'TakerGets': '100000000', 'TakerPays': {'currency': 'USD', 'issuer': 'rvYAfWj5gh67oV6fW32ZzP3Aw4Eubs59B', 'value': '290'}, 'index': '595AA0E79E2819B1883344BBBE9F2B3F88C34EBE588EC9C92A4183BD04264270', 'quality': '0.0000029'}, {'Account': 'rBci5N2MQdXjZtUQzFxrQHM6kssarRASTi', 'BookDirectory': 'DFA3B6DDAB58C7E8E5D944E736DA4B7046C30E4F460FD9DE4F0A56A12C4BE000', 'BookNode': '0', 'Flags': 131072, 'LedgerEntryType': 'Offer', 'OwnerNode': '7', 'PreviousTxnID': '567A23485F55A497FBFC566C8374624826A118A064D50E98D1049EDE8E3CCB0A', 'PreviousTxnLgrSeq': 93874174, 'Sequence': 17409, 'TakerGets': '100000000', 'TakerPays': {'currency': 'USD', 'issuer': 'rvYAfWj5gh67oV6fW32ZzP3Aw4Eubs59B', 'value': '291'}, 'index': 'EA11101AE6234B360AE639BCB14AC1EB21F2BCC3873A114B2356D786AF79CE0A', 'quality': '0.00000291'}, {'Account': 'rBci5N2MQdXjZtUQzFxrQHM6kssarRASTi', 'BookDirectory': 'DFA3B6DDAB58C7E8E5D944E736DA4B7046C30E4F460FD9DE4F0A68D1C9312000', 'BookNode': '0', 'Flags': 131072, 'LedgerEntryType': 'Offer', 'OwnerNode': '7', 'PreviousTxnID': '99E7D1409623F8EFE5E05D989ADB089DAE19A914B1C5E1673CA06E1F5A8F4011', 'PreviousTxnLgrSeq': 93874183, 'Sequence': 17410, 'TakerGets': '100000000', 'TakerPays': {'currency': 'USD', 'issuer': 'rvYAfWj5gh67oV6fW32ZzP3Aw4Eubs59B', 'value': '293'}, 'index': '519A0793035466A316E616232ABF4F8D928F9967BD09A6BD79B713B4E2DAA1FA', 'quality': '0.00000293'}, {'Account': 'rBci5N2MQdXjZtUQzFxrQHM6kssarRASTi', 'BookDirectory': 'DFA3B6DDAB58C7E8E5D944E736DA4B7046C30E4F460FD9DE4F0A7B0266166000', 'BookNode': '0', 'Flags': 131072, 'LedgerEntryType': 'Offer', 'OwnerNode': '7', 'PreviousTxnID': '3332DF76332A6581DDDB01183703EFE26F9618C2CA6BCA3D19360F8306E682E4', 'PreviousTxnLgrSeq': 93867216, 'Sequence': 17405, 'TakerGets': '100000000', 'TakerPays': {'currency': 'USD', 'issuer': 'rvYAfWj5gh67oV6fW32ZzP3Aw4Eubs59B', 'value': '295'}, 'index': '7068C71C69A7591AAF78C1143B0D1ECF4A52DEAFD2AFC8D17137C8CE0604E8EC', 'quality': '0.00000295'}, {'Account': 'rBci5N2MQdXjZtUQzFxrQHM6kssarRASTi', 'BookDirectory': 'DFA3B6DDAB58C7E8E5D944E736DA4B7046C30E4F460FD9DE4F0A8D3302FBA000', 'BookNode': '0', 'Flags': 131072, 'LedgerEntryType': 'Offer', 'OwnerNode': '7', 'PreviousTxnID': 'EDABF12C90F7405463CA0C47B20FC15F8117D0513EB0C7CF472042EABC4E5AA9', 'PreviousTxnLgrSeq': 93879737, 'Sequence': 17424, 'TakerGets': '100000000', 'TakerPays': {'currency': 'USD', 'issuer': 'rvYAfWj5gh67oV6fW32ZzP3Aw4Eubs59B', 'value': '297'}, 'index': 'F26F9AA9D8184F5955033E7A4F831F8C8933BF2D45F5BC9E50AE4D7A7F636A64', 'quality': '0.00000297'}, {'Account': 'rBci5N2MQdXjZtUQzFxrQHM6kssarRASTi', 'BookDirectory': 'DFA3B6DDAB58C7E8E5D944E736DA4B7046C30E4F460FD9DE4F0A964B516E4000', 'BookNode': '0', 'Flags': 131072, 'LedgerEntryType': 'Offer', 'OwnerNode': '7', 'PreviousTxnID': '703895176F645602512E80B7BF6EA03EA65FECAE5A5C8042C33BB6DD52907400', 'PreviousTxnLgrSeq': 93874562, 'Sequence': 17417, 'TakerGets': '100000000', 'TakerPays': {'currency': 'USD', 'issuer': 'rvYAfWj5gh67oV6fW32ZzP3Aw4Eubs59B', 'value': '298'}, 'index': 'A4D2A4CC60F300FA210BBF2DE9A8CA7FE21F576FE51D48A7E1F0A7025600BE0B', 'quality': '0.00000298'}, {'Account': 'rBci5N2MQdXjZtUQzFxrQHM6kssarRASTi', 'BookDirectory': 'DFA3B6DDAB58C7E8E5D944E736DA4B7046C30E4F460FD9DE4F0A9F639FE0E000', 'BookNode': '0', 'Flags': 131072, 'LedgerEntryType': 'Offer', 'OwnerNode': '7', 'PreviousTxnID': 'BDA45E15B452D2CF0D58EF8DFE0B27BEF11A79462F67F751DC249F14708F988C', 'PreviousTxnLgrSeq': 93874191, 'Sequence': 17411, 'TakerGets': '100000000', 'TakerPays': {'currency': 'USD', 'issuer': 'rvYAfWj5gh67oV6fW32ZzP3Aw4Eubs59B', 'value': '299'}, 'index': '4EF621070A1D658E53340B0DF06083D7AD674074D9A6622FC979C2BA1951FF69', 'quality': '0.00000299'}, {'Account': 'rBci5N2MQdXjZtUQzFxrQHM6kssarRASTi', 'BookDirectory': 'DFA3B6DDAB58C7E8E5D944E736DA4B7046C30E4F460FD9DE4F0AA87BEE538000', 'BookNode': '0', 'Flags': 131072, 'LedgerEntryType': 'Offer', 'OwnerNode': '7', 'PreviousTxnID': '4FB392666F57AF322094F7DB2F5F87D652FD98DA906C9D544A7B1E52BD9DA1F5', 'PreviousTxnLgrSeq': 93867221, 'Sequence': 17406, 'TakerGets': '100000000', 'TakerPays': {'currency': 'USD', 'issuer': 'rvYAfWj5gh67oV6fW32ZzP3Aw4Eubs59B', 'value': '300'}, 'index': '4C76F1BD7C74AB40901E4C5C6669CFDC0696CB36BD65CC8A20398419C03D456F', 'quality': '0.000003'}, {'Account': 'rN6eJPWPqBZ81Xhi9HQRHzN4NxGYG63fK3', 'BookDirectory': 'DFA3B6DDAB58C7E8E5D944E736DA4B7046C30E4F460FD9DE4F0AA87BEE538000', 'BookNode': '0', 'Expiration': 823432894, 'Flags': 131072, 'LedgerEntryType': 'Offer', 'OwnerNode': '0', 'PreviousTxnID': 'B1D318B45E57D60F5A5570787A3157CCE94AE272A73E2557E3504632D9AADA32', 'PreviousTxnLgrSeq': 93895255, 'Sequence': 74141629, 'TakerGets': '5000000000', 'TakerPays': {'currency': 'USD', 'issuer': 'rvYAfWj5gh67oV6fW32ZzP3Aw4Eubs59B', 'value': '15000'}, 'index': '023AAF9C77BE9FB476C053308EE77381326F3551F62E97FB1F659DB848F7C585', 'quality': '0.000003'}, {'Account': 'rHkAbnpnyqp5VfCjUfnicMuSSTYyofuHiq', 'BookDirectory': 'DFA3B6DDAB58C7E8E5D944E736DA4B7046C30E4F460FD9DE4F0AA87BEE538000', 'BookNode': '0', 'Expiration': 823464623, 'Flags': 131072, 'LedgerEntryType': 'Offer', 'OwnerNode': '0', 'PreviousTxnID': '00E9B4F979E6EF9930D4EFF669305BA4A1E9C444C177FB00526E9700348BD96E', 'PreviousTxnLgrSeq': 93903390, 'Sequence': 88262657, 'TakerGets': '1000000000', 'TakerPays': {'currency': 'USD', 'issuer': 'rvYAfWj5gh67oV6fW32ZzP3Aw4Eubs59B', 'value': '3000'}, 'index': 'BC5EF5AE81EFF37F078926E1485A9EC3AABEA2879C366A71FD325573BCF9EA17', 'owner_funds': '7961897118', 'quality': '0.000003'}, {'Account': 'rBci5N2MQdXjZtUQzFxrQHM6kssarRASTi', 'BookDirectory': 'DFA3B6DDAB58C7E8E5D944E736DA4B7046C30E4F460FD9DE4F0AB1943CC62000', 'BookNode': '0', 'Flags': 131072, 'LedgerEntryType': 'Offer', 'OwnerNode': '7', 'PreviousTxnID': 'AD5F944E4B5FF01C8121F19490495723C2C9585934A7DE7EABCDFBBA3F5964D5', 'PreviousTxnLgrSeq': 93861995, 'Sequence': 17401, 'TakerGets': '100000000', 'TakerPays': {'currency': 'USD', 'issuer': 'rvYAfWj5gh67oV6fW32ZzP3Aw4Eubs59B', 'value': '301'}, 'index': 'E486600084602D20539F85FFD81A01444BA162B223425A60F6397C690A719A07', 'quality': '0.00000301'}, {'Account': 'rBci5N2MQdXjZtUQzFxrQHM6kssarRASTi', 'BookDirectory': 'DFA3B6DDAB58C7E8E5D944E736DA4B7046C30E4F460FD9DE4F0ADF0DC5034000', 'BookNode': '0', 'Flags': 131072, 'LedgerEntryType': 'Offer', 'OwnerNode': '7', 'PreviousTxnID': '4660C10125F630C9DE97940E687ADCA46A3BBF3DCF6D5883CC5892584905A75C', 'PreviousTxnLgrSeq': 93861992, 'Sequence': 17400, 'TakerGets': '100000000', 'TakerPays': {'currency': 'USD', 'issuer': 'rvYAfWj5gh67oV6fW32ZzP3Aw4Eubs59B', 'value': '306'}, 'index': 'E9066B0CE555E5B7491CB2B5D98AB66C5D39F952182E408EC3605CB1104AB22A', 'quality': '0.00000306'}, {'Account': 'rBci5N2MQdXjZtUQzFxrQHM6kssarRASTi', 'BookDirectory': 'DFA3B6DDAB58C7E8E5D944E736DA4B7046C30E4F460FD9DE4F0AFA56B05B2000', 'BookNode': '0', 'Flags': 131072, 'LedgerEntryType': 'Offer', 'OwnerNode': '7', 'PreviousTxnID': 'F36C3AAF1EE0FB85BD930CB47B91A3CD73F885D92A5AB434DF5095D31A8A94B6', 'PreviousTxnLgrSeq': 93849707, 'Sequence': 17396, 'TakerGets': '100000000', 'TakerPays': {'currency': 'USD', 'issuer': 'rvYAfWj5gh67oV6fW32ZzP3Aw4Eubs59B', 'value': '309'}, 'index': '42E6327B6C7233261785358281B5A0637D49DE9EBAE047E6F7B8972C903471A7', 'quality': '0.00000309'}, {'Account': 'raoRxkZecHEYvifc9A8SbHk1niyiwiWamj', 'BookDirectory': 'DFA3B6DDAB58C7E8E5D944E736DA4B7046C30E4F460FD9DE4F0B677A5DBAA000', 'BookNode': '0', 'Expiration': 822915090, 'Flags': 131072, 'LedgerEntryType': 'Offer', 'OwnerNode': '3', 'PreviousTxnID': 'A2F8F1155A0EAF3EC33F0532E53E7C39D1420809A7B5B328C5AD07A0892D25C4', 'PreviousTxnLgrSeq': 93761994, 'Sequence': 67512445, 'TakerGets': '20000000', 'TakerPays': {'currency': 'USD', 'issuer': 'rvYAfWj5gh67oV6fW32ZzP3Aw4Eubs59B', 'value': '64.2'}, 'index': 'E5B9EC1B1996A37A3141E73110FFCF866B372CB3BF56E3EE7E7679A247B79ECA', 'owner_funds': '30455455', 'quality': '0.00000321'}, {'Account': 'rG4tHmd83KJ6FFPnwzTGPDtif7UCoEdU3m', 'BookDirectory': 'DFA3B6DDAB58C7E8E5D944E736DA4B7046C30E4F460FD9DE4F0B7092AC2D4000', 'BookNode': '0', 'Flags': 131072, 'LedgerEntryType': 'Offer', 'OwnerNode': '2fa', 'PreviousTxnID': 'F56891BF11F4AB62DEEF38B2EF0A807ABEC963787AEF69FE8698FABE45A6411D', 'PreviousTxnLgrSeq': 93757968, 'Sequence': 1859825, 'TakerGets': '89334238', 'TakerPays': {'currency': 'USD', 'issuer': 'rvYAfWj5gh67oV6fW32ZzP3Aw4Eubs59B', 'value': '287.656248912859'}, 'index': '880D72BD58872F61EDD33D41450D6351003533A805E2DE410B628EADCA18107D', 'owner_funds': '64756308273', 'quality': '0.00000322'}, {'Account': 'rDbutFrcU53Nqu9fbZ5zZvQ9c5eqVAsNiR', 'BookDirectory': 'DFA3B6DDAB58C7E8E5D944E736DA4B7046C30E4F460FD9DE4F0B734D2A1C7000', 'BookNode': '0', 'Flags': 131072, 'LedgerEntryType': 'Offer', 'OwnerNode': 'a', 'PreviousTxnID': '9B33B6B109478A81A8645EFC3F90E87016BEBBC0F75FFE7CC973DEECF38EB2ED', 'PreviousTxnLgrSeq': 93665620, 'Sequence': 65838186, 'TakerGets': '3000000000', 'TakerPays': {'currency': 'USD', 'issuer': 'rvYAfWj5gh67oV6fW32ZzP3Aw4Eubs59B', 'value': '9669'}, 'index': 'CB32A3F091D702EADD5BF3A4796E4CF0A807C99652229106FCC648E29424E395', 'owner_funds': '212836950277', 'quality': '0.000003223'}, {'Account': 'r4cxYeySU3amEW7jBTVWyNVAfTSmCctEJr', 'BookDirectory': 'DFA3B6DDAB58C7E8E5D944E736DA4B7046C30E4F460FD9DE4F0B7993B228F800', 'BookNode': '0', 'Flags': 131072, 'LedgerEntryType': 'Offer', 'OwnerNode': '17', 'PreviousTxnID': '175F75CED539DC00D82BF228D828EAD3A01304DCC55042B01F5BCA5F30C596D9', 'PreviousTxnLgrSeq': 93887854, 'Sequence': 67499996, 'TakerGets': '580000000', 'TakerPays': {'currency': 'USD', 'issuer': 'rvYAfWj5gh67oV6fW32ZzP3Aw4Eubs59B', 'value': '1873.342'}, 'index': '609AC450BE66349CD49B84D5BB76C15D5FC764000790EAA2CF532293EE4F9207', 'owner_funds': '907768225', 'quality': '0.0000032299'}, {'Account': 'r3kwYVKFpU8CpVJSKUGS2YVifVpJFrjFK7', 'BookDirectory': 'DFA3B6DDAB58C7E8E5D944E736DA4B7046C30E4F460FD9DE4F0B8CC46C2A3000', 'BookNode': '0', 'Flags': 131072, 'LedgerEntryType': 'Offer', 'OwnerNode': '1b', 'PreviousTxnID': '775D6DA7BEFA745EC5D378AF19383E8D6EFC97C2E20DCD818F21838342024CA0', 'PreviousTxnLgrSeq': 93743990, 'Sequence': 67597143, 'TakerGets': '539887348', 'TakerPays': {'currency': 'USD', 'issuer': 'rvYAfWj5gh67oV6fW32ZzP3Aw4Eubs59B', 'value': '1755.173768348'}, 'index': '2DC3E1D955082895539BC96C8424F584D57FF4ABBBFC5A8988A00282DC32EF67', 'owner_funds': '234939254', 'quality': '0.000003251', 'taker_gets_funded': '234939254', 'taker_pays_funded': {'currency': 'USD', 'issuer': 'rvYAfWj5gh67oV6fW32ZzP3Aw4Eubs59B', 'value': '763.787514754'}}, {'Account': 'r3kwYVKFpU8CpVJSKUGS2YVifVpJFrjFK7', 'BookDirectory': 'DFA3B6DDAB58C7E8E5D944E736DA4B7046C30E4F460FD9DE4F0BABB0AA165000', 'BookNode': '0', 'Flags': 131072, 'LedgerEntryType': 'Offer', 'OwnerNode': '1c', 'PreviousTxnID': '47276A17BE527994F22ED2A5019E9B3B397838E39046154ABEF65739752C1E20', 'PreviousTxnLgrSeq': 93877295, 'Sequence': 67597188, 'TakerGets': '308789613', 'TakerPays': {'currency': 'USD', 'issuer': 'rvYAfWj5gh67oV6fW32ZzP3Aw4Eubs59B', 'value': '1014.373878705'}, 'index': '7847DC6F0E5B44C8C57245ED0C263099B03087ED16B8617A69B471471BFAC155', 'quality': '0.000003285', 'taker_gets_funded': '0', 'taker_pays_funded': {'currency': 'USD', 'issuer': 'rvYAfWj5gh67oV6fW32ZzP3Aw4Eubs59B', 'value': '0'}}, {'Account': 'raoRxkZecHEYvifc9A8SbHk1niyiwiWamj', 'BookDirectory': 'DFA3B6DDAB58C7E8E5D944E736DA4B7046C30E4F460FD9DE4F0BB03CD14FA000', 'BookNode': '0', 'Expiration': 822527355, 'Flags': 131072, 'LedgerEntryType': 'Offer', 'OwnerNode': '3', 'PreviousTxnID': 'BD9B4FC23BF6A64639132B268EFDB8BE32DC6F4260E7A3A896BB58A9454E118C', 'PreviousTxnLgrSeq': 93662604, 'Sequence': 67512442, 'TakerGets': '20000000', 'TakerPays': {'currency': 'USD', 'issuer': 'rvYAfWj5gh67oV6fW32ZzP3Aw4Eubs59B', 'value': '65.8'}, 'index': '5365D1CF59AF8BEB983FC28A531DA35316CF28BA3E5ECE16CFF707BE8D0F6889', 'quality': '0.00000329', 'taker_gets_funded': '10455455', 'taker_pays_funded': {'currency': 'USD', 'issuer': 'rvYAfWj5gh67oV6fW32ZzP3Aw4Eubs59B', 'value': '34.39844695'}}, {'Account': 'rJ519J5JFoRKFuAyZPraeZgEWPs6V3V7M9', 'BookDirectory': 'DFA3B6DDAB58C7E8E5D944E736DA4B7046C30E4F460FD9DE4F0BC26D6E34E000', 'BookNode': '0', 'Flags': 131072, 'LedgerEntryType': 'Offer', 'OwnerNode': '0', 'PreviousTxnID': '1753AFDAC65743399A404363B30FE6AFEB7B4AB7D693367CDF53375D1AD99CFB', 'PreviousTxnLgrSeq': 93639132, 'Sequence': 87060061, 'TakerGets': '500000000', 'TakerPays': {'currency': 'USD', 'issuer': 'rvYAfWj5gh67oV6fW32ZzP3Aw4Eubs59B', 'value': '1655'}, 'index': 'CFDE77DD780EE2AA4D2AF613EDE71A9929918CA87981C1C813D309AD71D9881C', 'owner_funds': '5476875', 'quality': '0.00000331', 'taker_gets_funded': '5476875', 'taker_pays_funded': {'currency': 'USD', 'issuer': 'rvYAfWj5gh67oV6fW32ZzP3Aw4Eubs59B', 'value': '18.12845625'}}, {'Account': 'rKG8V2Wfmd4JcfDDWhdhy8DGH9ztPAcDer', 'BookDirectory': 'DFA3B6DDAB58C7E8E5D944E736DA4B7046C30E4F460FD9DE4F0BCB85BCA78000', 'BookNode': '0', 'Expiration': 822299859, 'Flags': 131072, 'LedgerEntryType': 'Offer', 'OwnerNode': '36', 'PreviousTxnID': '30150BB333D1A29F747DE2905734E9BD09B6A5D6BD4EF150AEBF9F128D085A29', 'PreviousTxnLgrSeq': 93604191, 'Sequence': 63857837, 'TakerGets': '100000000', 'TakerPays': {'currency': 'USD', 'issuer': 'rvYAfWj5gh67oV6fW32ZzP3Aw4Eubs59B', 'value': '332'}, 'index': '83E77B1D317092CC6BAC31957DB3D07D37085653458DCB968E69A21CD8784648', 'owner_funds': '333354695', 'quality': '0.00000332'}, {'Account': 'rN6eJPWPqBZ81Xhi9HQRHzN4NxGYG63fK3', 'BookDirectory': 'DFA3B6DDAB58C7E8E5D944E736DA4B7046C30E4F460FD9DE4F0BD49E0B1A2000', 'BookNode': '0', 'Expiration': 823432919, 'Flags': 131072, 'LedgerEntryType': 'Offer', 'OwnerNode': '0', 'PreviousTxnID': 'A2E66521A81F4C2B8A684014F08D72D8D443A4103638D1C976706EBC29D83432', 'PreviousTxnLgrSeq': 93895260, 'Sequence': 74141630, 'TakerGets': '5000000000', 'TakerPays': {'currency': 'USD', 'issuer': 'rvYAfWj5gh67oV6fW32ZzP3Aw4Eubs59B', 'value': '16650'}, 'index': 'CC8E16D3F1D83B2DB4A65BCD4D92CBADD34D8FC4E92390FEA5E6A00D42A83C41', 'quality': '0.00000333'}, {'Account': 'rG4tHmd83KJ6FFPnwzTGPDtif7UCoEdU3m', 'BookDirectory': 'DFA3B6DDAB58C7E8E5D944E736DA4B7046C30E4F460FD9DE4F0BE6CEA7FF6000', 'BookNode': '0', 'Flags': 131072, 'LedgerEntryType': 'Offer', 'OwnerNode': '2f9', 'PreviousTxnID': 'A8A76CE3A050860EC94A39F8EC412534ABF7FF6B3729BF2B515707693A32F46D', 'PreviousTxnLgrSeq': 93508781, 'Sequence': 1859647, 'TakerGets': '200000000', 'TakerPays': {'currency': 'USD', 'issuer': 'rvYAfWj5gh67oV6fW32ZzP3Aw4Eubs59B', 'value': '670'}, 'index': '081F695474C30B0BD6883849F670EB79B704F332BEA251ACB0BCECEBFF580C03', 'quality': '0.00000335'}, {'Account': 'rEPAMe1RGrXwgr8aDRFbu3SKqZG5vesfe2', 'BookDirectory': 'DFA3B6DDAB58C7E8E5D944E736DA4B7046C30E4F460FD9DE4F0BEC43A3DDC000', 'BookNode': '0', 'Flags': 131072, 'LedgerEntryType': 'Offer', 'OwnerNode': '8', 'PreviousTxnID': '3168325D9F69E89879EF9B3F3A37BA7F4EB397380DC2D961B9F575CDA553050F', 'PreviousTxnLgrSeq': 93730825, 'Sequence': 80559439, 'TakerGets': '104138844', 'TakerPays': {'currency': 'USD', 'issuer': 'rvYAfWj5gh67oV6fW32ZzP3Aw4Eubs59B', 'value': '349.489960464'}, 'index': '2AE352301712789271E24191625816786E24251732C842CED5DF4EB43797E0BE', 'owner_funds': '0', 'quality': '0.000003356', 'taker_gets_funded': '0', 'taker_pays_funded': {'currency': 'USD', 'issuer': 'rvYAfWj5gh67oV6fW32ZzP3Aw4Eubs59B', 'value': '0'}}, {'Account': 'rpxpbvmT9MDm7qCKADY5TvjwYJQxV3HWFa', 'BookDirectory': 'DFA3B6DDAB58C7E8E5D944E736DA4B7046C30E4F460FD9DE4F0BEFE6F6720000', 'BookNode': '0', 'Flags': 131072, 'LedgerEntryType': 'Offer', 'OwnerNode': '3', 'PreviousTxnID': 'D0F048AF7A1DACE55BF783993FA8A03D3B3665DB5DA5BD3E7FEA511C30AA2D1C', 'PreviousTxnLgrSeq': 93605910, 'Sequence': 68346756, 'TakerGets': '250000000', 'TakerPays': {'currency': 'USD', 'issuer': 'rvYAfWj5gh67oV6fW32ZzP3Aw4Eubs59B', 'value': '840'}, 'index': 'EC7F812BD4183C0A17BF8E5BED25BCAC9BB6D800764D527BA871FCF38004A557', 'owner_funds': '3530929568', 'quality': '0.00000336'}], 'validated': False}, id=None, type=<ResponseType.RESPONSE: 'response'>)\n",
      "2.43445\n",
      "\n",
      "🔹 **ORDER BOOK (Bids on Left, Asks on Right) 🔸\n",
      "BID Amount (XRP) Cumulative XRP  BID Price (USD/XRP) || ASK Price (USD/XRP) Cumulative XRP  ASK Amount (XRP)\n",
      "=====================================================================================\n",
      "100.00          100.00          2.414600           || 2.430660           1.32            1.32           \n",
      "200000.00       200100.00       2.361921           || 2.434100           101.32          100.00         \n",
      "6173.35         206273.35       2.361920           || 2.477990           11064.32        10963.00       \n",
      "101.00          206374.35       2.260000           || 2.477991           97929.45        86865.12       \n",
      "200.00          206574.35       2.250000           || 2.480000           98129.45        200.00         \n"
     ]
    }
   ],
   "source": [
    "import asyncio\n",
    "from collections import defaultdict\n",
    "from itertools import accumulate\n",
    "from xrpl.asyncio.clients import AsyncJsonRpcClient\n",
    "from xrpl.models.requests import BookOffers\n",
    "\n",
    "# Define the XRP Ledger JSON-RPC endpoint\n",
    "XRP_LEDGER_RPC = \"https://xrplcluster.com\"  # Public XRP Ledger Full-History Server\n",
    "\n",
    "# Create an async XRP Ledger API client\n",
    "client = AsyncJsonRpcClient(XRP_LEDGER_RPC)\n",
    "\n",
    "# Define the market pair: XRP/USD (Bitstamp Issuer)\n",
    "USD_ISSUER = \"rvYAfWj5gh67oV6fW32ZzP3Aw4Eubs59B\"  # Bitstamp USD issuer\n",
    "USD_CURRENCY = \"USD\"\n",
    "\n",
    "async def fetch_order_book():\n",
    "    \"\"\" Fetches and displays separate bid and ask offers with cumulative sums. \"\"\"\n",
    "    \n",
    "    # Request bid orders (buy orders) → Users want to BUY XRP, paying USD\n",
    "    bid_request = BookOffers(\n",
    "        taker_gets={\"currency\": \"XRP\"},  # Buyers receive XRP\n",
    "        taker_pays={\"currency\": USD_CURRENCY, \"issuer\": USD_ISSUER},  # Buyers pay USD\n",
    "        limit=50\n",
    "    )\n",
    "\n",
    "    # Request ask orders (sell orders) → Users want to SELL XRP, receiving USD\n",
    "    ask_request = BookOffers(\n",
    "        taker_gets={\"currency\": USD_CURRENCY, \"issuer\": USD_ISSUER},  # Sellers receive USD\n",
    "        taker_pays={\"currency\": \"XRP\"},  # Sellers pay XRP\n",
    "        limit=50\n",
    "    )\n",
    "\n",
    "    # Fetch order books concurrently\n",
    "    bid_response, ask_response = await asyncio.gather(\n",
    "        client.request(bid_request), client.request(ask_request)\n",
    "    )\n",
    "\n",
    "    bid_dict = defaultdict(float)  # Bids (Price -> Total XRP Amount)\n",
    "    ask_dict = defaultdict(float)  # Asks (Price -> Total XRP Amount)\n",
    "    \n",
    "    print(bid_response)\n",
    "    # Parse bid orders\n",
    "    for offer in bid_response.result[\"offers\"]:\n",
    "        price = round(float(offer[\"TakerPays\"][\"value\"]) / (float(offer[\"TakerGets\"])/1000000), 6)\n",
    "        bid_dict[price] += (float(offer[\"TakerGets\"])/1000000)  # Sum XRP amounts\n",
    "\n",
    "    # Parse ask orders\n",
    "    for offer in ask_response.result[\"offers\"]:\n",
    "        price = round(float(offer[\"TakerGets\"][\"value\"]) / (float(offer[\"TakerPays\"])/1000000), 6)\n",
    "        ask_dict[price] += (float(offer[\"TakerPays\"])/1000000)  # Sum XRP amounts\n",
    "\n",
    "    # Convert to sorted lists\n",
    "    bid_list = sorted(bid_dict.items(), key=lambda x: x[0], reverse=False)[:5]  # Highest bids first\n",
    "    ask_list = sorted(ask_dict.items(), key=lambda x: x[0], reverse=True)[:5]  # Lowest asks first\n",
    "\n",
    "    # Compute cumulative sums\n",
    "    bid_cumsum = list(accumulate(bid[1] for bid in bid_list))\n",
    "    ask_cumsum = list(accumulate(ask[1] for ask in ask_list))\n",
    "\n",
    "    # Print order book with bids on left, asks on right\n",
    "    print(mid_price)\n",
    "    print(\"\\n🔹 **ORDER BOOK (Bids on Left, Asks on Right) 🔸\")\n",
    "    print(f\"{'BID Amount (XRP)':<15} {'Cumulative XRP':<15} {'BID Price (USD/XRP)':<18} || {'ASK Price (USD/XRP)':<18} {'Cumulative XRP':<15} {'ASK Amount (XRP)':<15}\")\n",
    "    print(\"=\" * 85)\n",
    "\n",
    "    bid_result=[]\n",
    "    ask_result=[]\n",
    "\n",
    "    for i in range(max(len(ask_list), len(bid_list))):\n",
    "        bid_amount = f\"{ask_list[i][1]:.2f}\" if i < len(ask_list) else \"\"\n",
    "        bid_cumulative = f\"{ask_cumsum[i]:.2f}\" if i < len(ask_cumsum) else \"\"\n",
    "        bid_price = f\"{ask_list[i][0]:.6f}\" if i < len(ask_list) else \"\"\n",
    "\n",
    "        ask_price = f\"{bid_list[i][0]:.6f}\" if i < len(bid_list) else \"\"\n",
    "        ask_cumulative = f\"{bid_cumsum[i]:.2f}\" if i < len(bid_cumsum) else \"\"\n",
    "        ask_amount = f\"{bid_list[i][1]:.2f}\" if i < len(bid_list) else \"\"\n",
    "\n",
    "        print(f\"{bid_amount:<15} {bid_cumulative:<15} {bid_price:<18} || {ask_price:<18} {ask_cumulative:<15} {ask_amount:<15}\")\n",
    "        \n",
    "        bid_result.append((bid_price, bid_amount, bid_cumulative))\n",
    "        ask_result.append((ask_price, ask_amount, ask_cumulative))\n",
    "\n",
    "    return bid_result, ask_result\n",
    "\n",
    "# Run the async function in Jupyter Notebook\n",
    "bids, asks=await fetch_order_book()\n"
   ]
  },
  {
   "cell_type": "markdown",
   "id": "03d6d175",
   "metadata": {},
   "source": [
    "# Calculating opportunity"
   ]
  },
  {
   "cell_type": "code",
   "execution_count": 9,
   "id": "c33dd8d1",
   "metadata": {
    "ExecuteTime": {
     "end_time": "2025-02-10T13:27:15.488730Z",
     "start_time": "2025-02-10T13:27:15.485389Z"
    }
   },
   "outputs": [],
   "source": [
    "best_bid=max([float(x[0]) for x in bids])\n",
    "best_ask=min([float(x[0]) for x in asks])"
   ]
  },
  {
   "cell_type": "code",
   "execution_count": 10,
   "id": "bf655ef7",
   "metadata": {
    "ExecuteTime": {
     "end_time": "2025-02-10T13:27:15.495267Z",
     "start_time": "2025-02-10T13:27:15.489739Z"
    },
    "code_folding": []
   },
   "outputs": [
    {
     "name": "stdout",
     "output_type": "stream",
     "text": [
      "0\n"
     ]
    }
   ],
   "source": [
    "bid_opportunity=0\n",
    "if mid_price>0.997*best_bid:\n",
    "    pass\n",
    "else:\n",
    "    for bid in bids:\n",
    "        if mid_price<=0.997*float(bid[0]):\n",
    "            bid_opportunity+=(0.997*float(bid[0])-mid_price)*float(bid[1])\n",
    "print(bid_opportunity)            "
   ]
  },
  {
   "cell_type": "code",
   "execution_count": 11,
   "id": "069266bd",
   "metadata": {
    "ExecuteTime": {
     "end_time": "2025-02-10T13:27:15.502789Z",
     "start_time": "2025-02-10T13:27:15.496782Z"
    }
   },
   "outputs": [
    {
     "name": "stdout",
     "output_type": "stream",
     "text": [
      "0\n"
     ]
    }
   ],
   "source": [
    "ask_opportunity=0\n",
    "if mid_price<1.003*best_ask:\n",
    "    pass\n",
    "else:\n",
    "    for ask in asks:\n",
    "        if mid_price>=1.003*float(ask[0]):\n",
    "            ask_opportunity+=(mid_price-1.003*float(ask[0]))*float(ask[1])\n",
    "print(ask_opportunity)            "
   ]
  },
  {
   "cell_type": "code",
   "execution_count": 12,
   "id": "07a4be18",
   "metadata": {
    "ExecuteTime": {
     "end_time": "2025-02-10T13:27:15.510815Z",
     "start_time": "2025-02-10T13:27:15.504301Z"
    }
   },
   "outputs": [],
   "source": [
    "from datetime import datetime\n",
    "\n",
    "def log_opportunity(filename, opportunity_value):\n",
    "    \"\"\"Appends a timestamp and opportunity value to a text file.\"\"\"\n",
    "    timestamp = datetime.now().strftime('%Y-%m-%d %H:%M:%S')\n",
    "    with open(filename, \"a\") as file:\n",
    "        file.write(f\"{timestamp}, {opportunity_value}\\n\")\n",
    "\n",
    "if bid_opportunity+ask_opportunity>0:\n",
    "    # Example usage\n",
    "    log_opportunity(r'C:/Users/andrej/Projects/XRPL/opportunities_log.txt', bid_opportunity+ask_opportunity)  # Replace with actual opportunity value"
   ]
  },
  {
   "cell_type": "markdown",
   "id": "1aa4b7cf",
   "metadata": {},
   "source": [
    "# Sending email"
   ]
  },
  {
   "cell_type": "code",
   "execution_count": 13,
   "id": "b5233b02",
   "metadata": {
    "ExecuteTime": {
     "end_time": "2025-02-10T13:27:15.516407Z",
     "start_time": "2025-02-10T13:27:15.512341Z"
    }
   },
   "outputs": [],
   "source": [
    "html_content = f\"\"\"\\\n",
    "<html>\n",
    "    <body>\n",
    "        \n",
    "        <h1>The opportunity is high</h1>\n",
    "        <p>Opportunity: { bid_opportunity+ask_opportunity}</p> \n",
    "\n",
    "    </body>\n",
    "</html>\n",
    "\"\"\"\n",
    "\n",
    "\n",
    "if bid_opportunity+ask_opportunity>=100:\n",
    "    send_html_email(\n",
    "        RECIPIENT, \n",
    "        f\"XRP opportunity HIGH alert! {bid_opportunity+ask_opportunity}\", \"\", html_content, \"\",\n",
    "            email_password=EMAIL_PASSWORD\n",
    "\n",
    "            )"
   ]
  }
 ],
 "metadata": {
  "hide_input": false,
  "kernelspec": {
   "display_name": "Python 3 (ipykernel)",
   "language": "python",
   "name": "python3"
  },
  "language_info": {
   "codemirror_mode": {
    "name": "ipython",
    "version": 3
   },
   "file_extension": ".py",
   "mimetype": "text/x-python",
   "name": "python",
   "nbconvert_exporter": "python",
   "pygments_lexer": "ipython3",
   "version": "3.11.8"
  },
  "toc": {
   "base_numbering": 1,
   "nav_menu": {},
   "number_sections": true,
   "sideBar": true,
   "skip_h1_title": false,
   "title_cell": "Table of Contents",
   "title_sidebar": "Contents",
   "toc_cell": false,
   "toc_position": {},
   "toc_section_display": true,
   "toc_window_display": false
  },
  "varInspector": {
   "cols": {
    "lenName": 16,
    "lenType": 16,
    "lenVar": 40
   },
   "kernels_config": {
    "python": {
     "delete_cmd_postfix": "",
     "delete_cmd_prefix": "del ",
     "library": "var_list.py",
     "varRefreshCmd": "print(var_dic_list())"
    },
    "r": {
     "delete_cmd_postfix": ") ",
     "delete_cmd_prefix": "rm(",
     "library": "var_list.r",
     "varRefreshCmd": "cat(var_dic_list()) "
    }
   },
   "types_to_exclude": [
    "module",
    "function",
    "builtin_function_or_method",
    "instance",
    "_Feature"
   ],
   "window_display": false
  }
 },
 "nbformat": 4,
 "nbformat_minor": 5
}
