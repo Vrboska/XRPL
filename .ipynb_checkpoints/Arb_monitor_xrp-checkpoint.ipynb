{
 "cells": [
  {
   "cell_type": "code",
   "execution_count": 9,
   "id": "26c5d096",
   "metadata": {
    "ExecuteTime": {
     "end_time": "2025-02-07T18:05:31.868744Z",
     "start_time": "2025-02-07T18:05:31.865513Z"
    }
   },
   "outputs": [],
   "source": [
    "import sys\n",
    "sys.path.append(r'C:/Users/andrej/Projects/Untitled Folder/')"
   ]
  },
  {
   "cell_type": "code",
   "execution_count": 10,
   "id": "599a14e4",
   "metadata": {
    "ExecuteTime": {
     "end_time": "2025-02-07T18:05:31.890957Z",
     "start_time": "2025-02-07T18:05:31.870261Z"
    }
   },
   "outputs": [],
   "source": [
    "import cfRestApiV3 as cfApi\n",
    "import datetime\n",
    "import pandas as pd\n",
    "import json\n",
    "import matplotlib.pyplot as plt\n",
    "import os"
   ]
  },
  {
   "cell_type": "code",
   "execution_count": 11,
   "id": "8f4ae0f3",
   "metadata": {
    "ExecuteTime": {
     "end_time": "2025-02-07T18:05:31.895033Z",
     "start_time": "2025-02-07T18:05:31.890957Z"
    }
   },
   "outputs": [],
   "source": [
    "from Utilities.email_sending import send_plain_email, send_html_email\n",
    "\n",
    "EMAIL_PASSWORD = os.getenv('EMAIL_PASSWORD') # the password needs to be set as EMAIL_PASSWORD in system variables of the computer where the process is running, it is located in S:/Algo/email_password.txt\n",
    "if EMAIL_PASSWORD is None:\n",
    "    raise ValueError(\"EMAIL_PASSWORD system variable not set\")\n",
    "\n",
    "RECIPIENT = [\"azubal@hotmail.com\"] # can also be a list of recipients"
   ]
  },
  {
   "cell_type": "code",
   "execution_count": 12,
   "id": "08460ec3",
   "metadata": {
    "ExecuteTime": {
     "end_time": "2025-02-07T18:05:31.900139Z",
     "start_time": "2025-02-07T18:05:31.895033Z"
    },
    "code_folding": [
     0,
     10
    ]
   },
   "outputs": [],
   "source": [
    "def convert_to_html_content(input_string):\n",
    "    # Split the input string by the newline character\n",
    "    lines = input_string.split('\\n')\n",
    "    # Wrap each line in a <p> tag\n",
    "    html_lines = [f\"<p>{line}</p>\" for line in lines]\n",
    "    # Join the lines into a single HTML string\n",
    "    html_content = '\\n'.join(html_lines)\n",
    "    return html_content\n",
    "\n",
    "\n",
    "def convert_dataframe_to_html_content(df):\n",
    "    # Convert the DataFrame to an HTML table\n",
    "    html_content = '<table border=\"1\" cellpadding=\"5\" cellspacing=\"0\" style=\"border-collapse: collapse;\">\\n'\n",
    "\n",
    "    # Add the header row\n",
    "    name = 'Order Book'\n",
    "    html_content += '  <tr>\\n'\n",
    "    html_content += f'    <th>{name}</th>\\n'\n",
    "    for column in df.columns:\n",
    "        html_content += f'    <th>{column}</th>\\n'\n",
    "    html_content += '  </tr>\\n'\n",
    "\n",
    "    # Add the data rows\n",
    "    for idx, row in df.iterrows():\n",
    "        html_content += '  <tr>\\n'\n",
    "        html_content += f'    <td>{idx}</td>\\n'  # Add the index as the first column\n",
    "        for item in row:\n",
    "            html_content += f'    <td>{item}</td>\\n'\n",
    "        html_content += '  </tr>\\n'\n",
    "\n",
    "    # Close the HTML table\n",
    "    html_content += '</table>'\n",
    "\n",
    "    return html_content"
   ]
  },
  {
   "cell_type": "code",
   "execution_count": 13,
   "id": "b8f2d3b0",
   "metadata": {
    "ExecuteTime": {
     "end_time": "2025-02-07T18:05:31.904363Z",
     "start_time": "2025-02-07T18:05:31.900139Z"
    },
    "code_folding": [
     0
    ]
   },
   "outputs": [],
   "source": [
    "# accessible on your Account page under Settings -> API Keys\n",
    "apiPublicKey = \"X0J+mG76qUHLfr7G4Yk0/cSX7+T7cApznHo2opaEOOqNZKed2AmDFuMI\"\n",
    "# accessible on your Account page under Settings -> API Keys\n",
    "apiPrivateKey = \"YMyZG6GhXNmvW/ZvLzFp5zxTX+dmfPJCp8Vzamz8LJ+CBmQmloF7yBC3/sD3mNrMw8i8CtNqMnd9233v3+6kpUlT\""
   ]
  },
  {
   "cell_type": "code",
   "execution_count": 14,
   "id": "c85a6c61",
   "metadata": {
    "ExecuteTime": {
     "end_time": "2025-02-07T18:05:31.908606Z",
     "start_time": "2025-02-07T18:05:31.904363Z"
    },
    "code_folding": [
     0
    ]
   },
   "outputs": [],
   "source": [
    "# use \"api.cryptofacilities.com\" if your IP is whitelisted (Settings -> API Keys -> IP Whitelist)\n",
    "apiPath = \"https://www.cryptofacilities.com\"\n",
    "timeout = 20\n",
    "checkCertificate = True  # when using the test environment, this must be set to \"False\"\n",
    "useNonce = False  # nonce is optional\n",
    "\n",
    "cfPublic = cfApi.cfApiMethods(\n",
    "    apiPath, timeout=timeout, checkCertificate=checkCertificate)\n",
    "cfPrivate = cfApi.cfApiMethods(apiPath, timeout=timeout, apiPublicKey=apiPublicKey,\n",
    "                               apiPrivateKey=apiPrivateKey, checkCertificate=checkCertificate, useNonce=useNonce)"
   ]
  },
  {
   "cell_type": "markdown",
   "id": "b53e0948",
   "metadata": {
    "ExecuteTime": {
     "end_time": "2025-02-07T14:37:52.449006Z",
     "start_time": "2025-02-07T14:37:52.443394Z"
    }
   },
   "source": [
    "# XRP FUTURE PRICE ON KRAKEN"
   ]
  },
  {
   "cell_type": "code",
   "execution_count": 15,
   "id": "eee95733",
   "metadata": {
    "ExecuteTime": {
     "end_time": "2025-02-07T18:05:32.184747Z",
     "start_time": "2025-02-07T18:05:31.908606Z"
    }
   },
   "outputs": [
    {
     "name": "stdout",
     "output_type": "stream",
     "text": [
      "2.4458\n"
     ]
    },
    {
     "data": {
      "text/html": [
       "<div>\n",
       "<style scoped>\n",
       "    .dataframe tbody tr th:only-of-type {\n",
       "        vertical-align: middle;\n",
       "    }\n",
       "\n",
       "    .dataframe tbody tr th {\n",
       "        vertical-align: top;\n",
       "    }\n",
       "\n",
       "    .dataframe thead th {\n",
       "        text-align: right;\n",
       "    }\n",
       "</style>\n",
       "<table border=\"1\" class=\"dataframe\">\n",
       "  <thead>\n",
       "    <tr style=\"text-align: right;\">\n",
       "      <th></th>\n",
       "      <th>0</th>\n",
       "      <th>1</th>\n",
       "      <th>2</th>\n",
       "      <th>3</th>\n",
       "    </tr>\n",
       "  </thead>\n",
       "  <tbody>\n",
       "    <tr>\n",
       "      <th>0</th>\n",
       "      <td>PI_XRPUSD</td>\n",
       "      <td>2.4394</td>\n",
       "      <td>2.445</td>\n",
       "      <td>2.4466</td>\n",
       "    </tr>\n",
       "  </tbody>\n",
       "</table>\n",
       "</div>"
      ],
      "text/plain": [
       "           0       1      2       3\n",
       "0  PI_XRPUSD  2.4394  2.445  2.4466"
      ]
     },
     "execution_count": 15,
     "metadata": {},
     "output_type": "execute_result"
    }
   ],
   "source": [
    "# # get prices\n",
    "symbol='PI_XRPUSD'\n",
    "tickers=json.loads(cfPublic.get_tickers())['tickers'] \n",
    "result =[(x['symbol'], x.get('last', None), x.get('bid', None),  x.get('ask', None)) for x in tickers if x['symbol']==symbol]\n",
    "mid_price=(result[0][3]+result[0][2])/2\n",
    "print(mid_price)\n",
    "pd.DataFrame(result)"
   ]
  },
  {
   "cell_type": "markdown",
   "id": "64a49dcc",
   "metadata": {},
   "source": [
    "# XRP LEDGER ORDERBOOK"
   ]
  },
  {
   "cell_type": "code",
   "execution_count": 16,
   "id": "94d5b619",
   "metadata": {
    "ExecuteTime": {
     "end_time": "2025-02-07T18:05:42.760164Z",
     "start_time": "2025-02-07T18:05:32.185722Z"
    },
    "code_folding": [
     67
    ]
   },
   "outputs": [
    {
     "ename": "ConnectTimeout",
     "evalue": "",
     "output_type": "error",
     "traceback": [
      "\u001b[1;31m---------------------------------------------------------------------------\u001b[0m",
      "\u001b[1;31mCancelledError\u001b[0m                            Traceback (most recent call last)",
      "File \u001b[1;32m~\\anaconda3\\Lib\\site-packages\\httpcore\\backends\\asyncio.py:109\u001b[0m, in \u001b[0;36mAsyncIOBackend.connect_tcp\u001b[1;34m(self, host, port, timeout, local_address)\u001b[0m\n\u001b[0;32m    108\u001b[0m     \u001b[38;5;28;01mwith\u001b[39;00m anyio\u001b[38;5;241m.\u001b[39mfail_after(timeout):\n\u001b[1;32m--> 109\u001b[0m         stream: anyio\u001b[38;5;241m.\u001b[39mabc\u001b[38;5;241m.\u001b[39mByteStream \u001b[38;5;241m=\u001b[39m \u001b[38;5;28;01mawait\u001b[39;00m anyio\u001b[38;5;241m.\u001b[39mconnect_tcp(\n\u001b[0;32m    110\u001b[0m             remote_host\u001b[38;5;241m=\u001b[39mhost,\n\u001b[0;32m    111\u001b[0m             remote_port\u001b[38;5;241m=\u001b[39mport,\n\u001b[0;32m    112\u001b[0m             local_host\u001b[38;5;241m=\u001b[39mlocal_address,\n\u001b[0;32m    113\u001b[0m         )\n\u001b[0;32m    114\u001b[0m \u001b[38;5;28;01mreturn\u001b[39;00m AsyncIOStream(stream)\n",
      "File \u001b[1;32m~\\anaconda3\\Lib\\site-packages\\anyio\\_core\\_sockets.py:175\u001b[0m, in \u001b[0;36mconnect_tcp\u001b[1;34m(remote_host, remote_port, local_host, tls, ssl_context, tls_standard_compatible, tls_hostname, happy_eyeballs_delay)\u001b[0m\n\u001b[0;32m    174\u001b[0m oserrors: List[\u001b[38;5;167;01mOSError\u001b[39;00m] \u001b[38;5;241m=\u001b[39m []\n\u001b[1;32m--> 175\u001b[0m \u001b[38;5;28;01masync\u001b[39;00m \u001b[38;5;28;01mwith\u001b[39;00m create_task_group() \u001b[38;5;28;01mas\u001b[39;00m tg:\n\u001b[0;32m    176\u001b[0m     \u001b[38;5;28;01mfor\u001b[39;00m i, (af, addr) \u001b[38;5;129;01min\u001b[39;00m \u001b[38;5;28menumerate\u001b[39m(target_addrs):\n",
      "File \u001b[1;32m~\\anaconda3\\Lib\\site-packages\\anyio\\_backends\\_asyncio.py:574\u001b[0m, in \u001b[0;36mTaskGroup.__aexit__\u001b[1;34m(self, exc_type, exc_val, exc_tb)\u001b[0m\n\u001b[0;32m    573\u001b[0m     \u001b[38;5;28;01melif\u001b[39;00m exceptions \u001b[38;5;129;01mand\u001b[39;00m exceptions[\u001b[38;5;241m0\u001b[39m] \u001b[38;5;129;01mis\u001b[39;00m \u001b[38;5;129;01mnot\u001b[39;00m exc_val:\n\u001b[1;32m--> 574\u001b[0m         \u001b[38;5;28;01mraise\u001b[39;00m exceptions[\u001b[38;5;241m0\u001b[39m]\n\u001b[0;32m    575\u001b[0m \u001b[38;5;28;01mexcept\u001b[39;00m \u001b[38;5;167;01mBaseException\u001b[39;00m \u001b[38;5;28;01mas\u001b[39;00m exc:\n\u001b[0;32m    576\u001b[0m     \u001b[38;5;66;03m# Clear the context here, as it can only be done in-flight.\u001b[39;00m\n\u001b[0;32m    577\u001b[0m     \u001b[38;5;66;03m# If the context is not cleared, it can result in recursive tracebacks (see #145).\u001b[39;00m\n",
      "File \u001b[1;32m~\\anaconda3\\Lib\\site-packages\\anyio\\_backends\\_asyncio.py:636\u001b[0m, in \u001b[0;36mTaskGroup._spawn.<locals>.task_done\u001b[1;34m(_task)\u001b[0m\n\u001b[0;32m    635\u001b[0m \u001b[38;5;28;01mtry\u001b[39;00m:\n\u001b[1;32m--> 636\u001b[0m     exc \u001b[38;5;241m=\u001b[39m _task\u001b[38;5;241m.\u001b[39mexception()\n\u001b[0;32m    637\u001b[0m \u001b[38;5;28;01mexcept\u001b[39;00m CancelledError \u001b[38;5;28;01mas\u001b[39;00m e:\n",
      "File \u001b[1;32m~\\anaconda3\\Lib\\site-packages\\anyio\\_core\\_sockets.py:127\u001b[0m, in \u001b[0;36mconnect_tcp.<locals>.try_connect\u001b[1;34m(remote_host, event)\u001b[0m\n\u001b[0;32m    126\u001b[0m \u001b[38;5;28;01mtry\u001b[39;00m:\n\u001b[1;32m--> 127\u001b[0m     stream \u001b[38;5;241m=\u001b[39m \u001b[38;5;28;01mawait\u001b[39;00m asynclib\u001b[38;5;241m.\u001b[39mconnect_tcp(remote_host, remote_port, local_address)\n\u001b[0;32m    128\u001b[0m \u001b[38;5;28;01mexcept\u001b[39;00m \u001b[38;5;167;01mOSError\u001b[39;00m \u001b[38;5;28;01mas\u001b[39;00m exc:\n",
      "File \u001b[1;32m~\\anaconda3\\Lib\\site-packages\\anyio\\_backends\\_asyncio.py:1518\u001b[0m, in \u001b[0;36mconnect_tcp\u001b[1;34m(host, port, local_addr)\u001b[0m\n\u001b[0;32m   1514\u001b[0m \u001b[38;5;28;01masync\u001b[39;00m \u001b[38;5;28;01mdef\u001b[39;00m \u001b[38;5;21mconnect_tcp\u001b[39m(host: \u001b[38;5;28mstr\u001b[39m, port: \u001b[38;5;28mint\u001b[39m,\n\u001b[0;32m   1515\u001b[0m                       local_addr: Optional[Tuple[\u001b[38;5;28mstr\u001b[39m, \u001b[38;5;28mint\u001b[39m]] \u001b[38;5;241m=\u001b[39m \u001b[38;5;28;01mNone\u001b[39;00m) \u001b[38;5;241m-\u001b[39m\u001b[38;5;241m>\u001b[39m SocketStream:\n\u001b[0;32m   1516\u001b[0m     transport, protocol \u001b[38;5;241m=\u001b[39m cast(\n\u001b[0;32m   1517\u001b[0m         Tuple[asyncio\u001b[38;5;241m.\u001b[39mTransport, StreamProtocol],\n\u001b[1;32m-> 1518\u001b[0m         \u001b[38;5;28;01mawait\u001b[39;00m get_running_loop()\u001b[38;5;241m.\u001b[39mcreate_connection(StreamProtocol, host, port,\n\u001b[0;32m   1519\u001b[0m                                                    local_addr\u001b[38;5;241m=\u001b[39mlocal_addr)\n\u001b[0;32m   1520\u001b[0m     )\n\u001b[0;32m   1521\u001b[0m     transport\u001b[38;5;241m.\u001b[39mpause_reading()\n",
      "File \u001b[1;32m~\\anaconda3\\Lib\\asyncio\\base_events.py:1070\u001b[0m, in \u001b[0;36mBaseEventLoop.create_connection\u001b[1;34m(self, protocol_factory, host, port, ssl, family, proto, flags, sock, local_addr, server_hostname, ssl_handshake_timeout, ssl_shutdown_timeout, happy_eyeballs_delay, interleave)\u001b[0m\n\u001b[0;32m   1069\u001b[0m \u001b[38;5;28;01mtry\u001b[39;00m:\n\u001b[1;32m-> 1070\u001b[0m     sock \u001b[38;5;241m=\u001b[39m \u001b[38;5;28;01mawait\u001b[39;00m \u001b[38;5;28mself\u001b[39m\u001b[38;5;241m.\u001b[39m_connect_sock(\n\u001b[0;32m   1071\u001b[0m         exceptions, addrinfo, laddr_infos)\n\u001b[0;32m   1072\u001b[0m     \u001b[38;5;28;01mbreak\u001b[39;00m\n",
      "File \u001b[1;32m~\\anaconda3\\Lib\\asyncio\\base_events.py:974\u001b[0m, in \u001b[0;36mBaseEventLoop._connect_sock\u001b[1;34m(self, exceptions, addr_info, local_addr_infos)\u001b[0m\n\u001b[0;32m    973\u001b[0m             \u001b[38;5;28;01mraise\u001b[39;00m \u001b[38;5;167;01mOSError\u001b[39;00m(\u001b[38;5;124mf\u001b[39m\u001b[38;5;124m\"\u001b[39m\u001b[38;5;124mno matching local address with \u001b[39m\u001b[38;5;132;01m{\u001b[39;00mfamily\u001b[38;5;132;01m=}\u001b[39;00m\u001b[38;5;124m found\u001b[39m\u001b[38;5;124m\"\u001b[39m)\n\u001b[1;32m--> 974\u001b[0m \u001b[38;5;28;01mawait\u001b[39;00m \u001b[38;5;28mself\u001b[39m\u001b[38;5;241m.\u001b[39msock_connect(sock, address)\n\u001b[0;32m    975\u001b[0m \u001b[38;5;28;01mreturn\u001b[39;00m sock\n",
      "File \u001b[1;32m~\\anaconda3\\Lib\\asyncio\\selector_events.py:638\u001b[0m, in \u001b[0;36mBaseSelectorEventLoop.sock_connect\u001b[1;34m(self, sock, address)\u001b[0m\n\u001b[0;32m    637\u001b[0m \u001b[38;5;28;01mtry\u001b[39;00m:\n\u001b[1;32m--> 638\u001b[0m     \u001b[38;5;28;01mreturn\u001b[39;00m \u001b[38;5;28;01mawait\u001b[39;00m fut\n\u001b[0;32m    639\u001b[0m \u001b[38;5;28;01mfinally\u001b[39;00m:\n\u001b[0;32m    640\u001b[0m     \u001b[38;5;66;03m# Needed to break cycles when an exception occurs.\u001b[39;00m\n",
      "\u001b[1;31mCancelledError\u001b[0m: ",
      "\nDuring handling of the above exception, another exception occurred:\n",
      "\u001b[1;31mTimeoutError\u001b[0m                              Traceback (most recent call last)",
      "File \u001b[1;32m~\\anaconda3\\Lib\\site-packages\\httpcore\\_exceptions.py:8\u001b[0m, in \u001b[0;36mmap_exceptions\u001b[1;34m(map)\u001b[0m\n\u001b[0;32m      7\u001b[0m \u001b[38;5;28;01mtry\u001b[39;00m:\n\u001b[1;32m----> 8\u001b[0m     \u001b[38;5;28;01myield\u001b[39;00m\n\u001b[0;32m      9\u001b[0m \u001b[38;5;28;01mexcept\u001b[39;00m \u001b[38;5;167;01mException\u001b[39;00m \u001b[38;5;28;01mas\u001b[39;00m exc:  \u001b[38;5;66;03m# noqa: PIE786\u001b[39;00m\n",
      "File \u001b[1;32m~\\anaconda3\\Lib\\site-packages\\httpcore\\backends\\asyncio.py:108\u001b[0m, in \u001b[0;36mAsyncIOBackend.connect_tcp\u001b[1;34m(self, host, port, timeout, local_address)\u001b[0m\n\u001b[0;32m    107\u001b[0m \u001b[38;5;28;01mwith\u001b[39;00m map_exceptions(exc_map):\n\u001b[1;32m--> 108\u001b[0m     \u001b[38;5;28;01mwith\u001b[39;00m anyio\u001b[38;5;241m.\u001b[39mfail_after(timeout):\n\u001b[0;32m    109\u001b[0m         stream: anyio\u001b[38;5;241m.\u001b[39mabc\u001b[38;5;241m.\u001b[39mByteStream \u001b[38;5;241m=\u001b[39m \u001b[38;5;28;01mawait\u001b[39;00m anyio\u001b[38;5;241m.\u001b[39mconnect_tcp(\n\u001b[0;32m    110\u001b[0m             remote_host\u001b[38;5;241m=\u001b[39mhost,\n\u001b[0;32m    111\u001b[0m             remote_port\u001b[38;5;241m=\u001b[39mport,\n\u001b[0;32m    112\u001b[0m             local_host\u001b[38;5;241m=\u001b[39mlocal_address,\n\u001b[0;32m    113\u001b[0m         )\n",
      "File \u001b[1;32m~\\anaconda3\\Lib\\site-packages\\anyio\\_core\\_tasks.py:103\u001b[0m, in \u001b[0;36mFailAfterContextManager.__exit__\u001b[1;34m(self, exc_type, exc_val, exc_tb)\u001b[0m\n\u001b[0;32m    102\u001b[0m \u001b[38;5;28;01mif\u001b[39;00m \u001b[38;5;28mself\u001b[39m\u001b[38;5;241m.\u001b[39m_cancel_scope\u001b[38;5;241m.\u001b[39mcancel_called:\n\u001b[1;32m--> 103\u001b[0m     \u001b[38;5;28;01mraise\u001b[39;00m \u001b[38;5;167;01mTimeoutError\u001b[39;00m\n\u001b[0;32m    105\u001b[0m \u001b[38;5;28;01mreturn\u001b[39;00m retval\n",
      "\u001b[1;31mTimeoutError\u001b[0m: ",
      "\nDuring handling of the above exception, another exception occurred:\n",
      "\u001b[1;31mConnectTimeout\u001b[0m                            Traceback (most recent call last)",
      "File \u001b[1;32m~\\anaconda3\\Lib\\site-packages\\httpx\\_transports\\default.py:60\u001b[0m, in \u001b[0;36mmap_httpcore_exceptions\u001b[1;34m()\u001b[0m\n\u001b[0;32m     59\u001b[0m \u001b[38;5;28;01mtry\u001b[39;00m:\n\u001b[1;32m---> 60\u001b[0m     \u001b[38;5;28;01myield\u001b[39;00m\n\u001b[0;32m     61\u001b[0m \u001b[38;5;28;01mexcept\u001b[39;00m \u001b[38;5;167;01mException\u001b[39;00m \u001b[38;5;28;01mas\u001b[39;00m exc:  \u001b[38;5;66;03m# noqa: PIE-786\u001b[39;00m\n",
      "File \u001b[1;32m~\\anaconda3\\Lib\\site-packages\\httpx\\_transports\\default.py:353\u001b[0m, in \u001b[0;36mAsyncHTTPTransport.handle_async_request\u001b[1;34m(self, request)\u001b[0m\n\u001b[0;32m    352\u001b[0m \u001b[38;5;28;01mwith\u001b[39;00m map_httpcore_exceptions():\n\u001b[1;32m--> 353\u001b[0m     resp \u001b[38;5;241m=\u001b[39m \u001b[38;5;28;01mawait\u001b[39;00m \u001b[38;5;28mself\u001b[39m\u001b[38;5;241m.\u001b[39m_pool\u001b[38;5;241m.\u001b[39mhandle_async_request(req)\n\u001b[0;32m    355\u001b[0m \u001b[38;5;28;01massert\u001b[39;00m \u001b[38;5;28misinstance\u001b[39m(resp\u001b[38;5;241m.\u001b[39mstream, typing\u001b[38;5;241m.\u001b[39mAsyncIterable)\n",
      "File \u001b[1;32m~\\anaconda3\\Lib\\site-packages\\httpcore\\_async\\connection_pool.py:253\u001b[0m, in \u001b[0;36mAsyncConnectionPool.handle_async_request\u001b[1;34m(self, request)\u001b[0m\n\u001b[0;32m    252\u001b[0m     \u001b[38;5;28;01mawait\u001b[39;00m \u001b[38;5;28mself\u001b[39m\u001b[38;5;241m.\u001b[39mresponse_closed(status)\n\u001b[1;32m--> 253\u001b[0m     \u001b[38;5;28;01mraise\u001b[39;00m exc\n\u001b[0;32m    254\u001b[0m \u001b[38;5;28;01melse\u001b[39;00m:\n",
      "File \u001b[1;32m~\\anaconda3\\Lib\\site-packages\\httpcore\\_async\\connection_pool.py:237\u001b[0m, in \u001b[0;36mAsyncConnectionPool.handle_async_request\u001b[1;34m(self, request)\u001b[0m\n\u001b[0;32m    236\u001b[0m \u001b[38;5;28;01mtry\u001b[39;00m:\n\u001b[1;32m--> 237\u001b[0m     response \u001b[38;5;241m=\u001b[39m \u001b[38;5;28;01mawait\u001b[39;00m connection\u001b[38;5;241m.\u001b[39mhandle_async_request(request)\n\u001b[0;32m    238\u001b[0m \u001b[38;5;28;01mexcept\u001b[39;00m ConnectionNotAvailable:\n\u001b[0;32m    239\u001b[0m     \u001b[38;5;66;03m# The ConnectionNotAvailable exception is a special case, that\u001b[39;00m\n\u001b[0;32m    240\u001b[0m     \u001b[38;5;66;03m# indicates we need to retry the request on a new connection.\u001b[39;00m\n\u001b[1;32m   (...)\u001b[0m\n\u001b[0;32m    244\u001b[0m     \u001b[38;5;66;03m# might end up as an HTTP/2 connection, but which actually ends\u001b[39;00m\n\u001b[0;32m    245\u001b[0m     \u001b[38;5;66;03m# up as HTTP/1.1.\u001b[39;00m\n",
      "File \u001b[1;32m~\\anaconda3\\Lib\\site-packages\\httpcore\\_async\\connection.py:86\u001b[0m, in \u001b[0;36mAsyncHTTPConnection.handle_async_request\u001b[1;34m(self, request)\u001b[0m\n\u001b[0;32m     85\u001b[0m         \u001b[38;5;28mself\u001b[39m\u001b[38;5;241m.\u001b[39m_connect_failed \u001b[38;5;241m=\u001b[39m \u001b[38;5;28;01mTrue\u001b[39;00m\n\u001b[1;32m---> 86\u001b[0m         \u001b[38;5;28;01mraise\u001b[39;00m exc\n\u001b[0;32m     87\u001b[0m \u001b[38;5;28;01melif\u001b[39;00m \u001b[38;5;129;01mnot\u001b[39;00m \u001b[38;5;28mself\u001b[39m\u001b[38;5;241m.\u001b[39m_connection\u001b[38;5;241m.\u001b[39mis_available():\n",
      "File \u001b[1;32m~\\anaconda3\\Lib\\site-packages\\httpcore\\_async\\connection.py:63\u001b[0m, in \u001b[0;36mAsyncHTTPConnection.handle_async_request\u001b[1;34m(self, request)\u001b[0m\n\u001b[0;32m     62\u001b[0m \u001b[38;5;28;01mtry\u001b[39;00m:\n\u001b[1;32m---> 63\u001b[0m     stream \u001b[38;5;241m=\u001b[39m \u001b[38;5;28;01mawait\u001b[39;00m \u001b[38;5;28mself\u001b[39m\u001b[38;5;241m.\u001b[39m_connect(request)\n\u001b[0;32m     65\u001b[0m     ssl_object \u001b[38;5;241m=\u001b[39m stream\u001b[38;5;241m.\u001b[39mget_extra_info(\u001b[38;5;124m\"\u001b[39m\u001b[38;5;124mssl_object\u001b[39m\u001b[38;5;124m\"\u001b[39m)\n",
      "File \u001b[1;32m~\\anaconda3\\Lib\\site-packages\\httpcore\\_async\\connection.py:111\u001b[0m, in \u001b[0;36mAsyncHTTPConnection._connect\u001b[1;34m(self, request)\u001b[0m\n\u001b[0;32m    108\u001b[0m \u001b[38;5;28;01masync\u001b[39;00m \u001b[38;5;28;01mwith\u001b[39;00m Trace(\n\u001b[0;32m    109\u001b[0m     \u001b[38;5;124m\"\u001b[39m\u001b[38;5;124mconnection.connect_tcp\u001b[39m\u001b[38;5;124m\"\u001b[39m, request, kwargs\n\u001b[0;32m    110\u001b[0m ) \u001b[38;5;28;01mas\u001b[39;00m trace:\n\u001b[1;32m--> 111\u001b[0m     stream \u001b[38;5;241m=\u001b[39m \u001b[38;5;28;01mawait\u001b[39;00m \u001b[38;5;28mself\u001b[39m\u001b[38;5;241m.\u001b[39m_network_backend\u001b[38;5;241m.\u001b[39mconnect_tcp(\u001b[38;5;241m*\u001b[39m\u001b[38;5;241m*\u001b[39mkwargs)\n\u001b[0;32m    112\u001b[0m     trace\u001b[38;5;241m.\u001b[39mreturn_value \u001b[38;5;241m=\u001b[39m stream\n",
      "File \u001b[1;32m~\\anaconda3\\Lib\\site-packages\\httpcore\\backends\\auto.py:29\u001b[0m, in \u001b[0;36mAutoBackend.connect_tcp\u001b[1;34m(self, host, port, timeout, local_address)\u001b[0m\n\u001b[0;32m     28\u001b[0m \u001b[38;5;28;01mawait\u001b[39;00m \u001b[38;5;28mself\u001b[39m\u001b[38;5;241m.\u001b[39m_init_backend()\n\u001b[1;32m---> 29\u001b[0m \u001b[38;5;28;01mreturn\u001b[39;00m \u001b[38;5;28;01mawait\u001b[39;00m \u001b[38;5;28mself\u001b[39m\u001b[38;5;241m.\u001b[39m_backend\u001b[38;5;241m.\u001b[39mconnect_tcp(\n\u001b[0;32m     30\u001b[0m     host, port, timeout\u001b[38;5;241m=\u001b[39mtimeout, local_address\u001b[38;5;241m=\u001b[39mlocal_address\n\u001b[0;32m     31\u001b[0m )\n",
      "File \u001b[1;32m~\\anaconda3\\Lib\\site-packages\\httpcore\\backends\\asyncio.py:107\u001b[0m, in \u001b[0;36mAsyncIOBackend.connect_tcp\u001b[1;34m(self, host, port, timeout, local_address)\u001b[0m\n\u001b[0;32m    102\u001b[0m exc_map \u001b[38;5;241m=\u001b[39m {\n\u001b[0;32m    103\u001b[0m     \u001b[38;5;167;01mTimeoutError\u001b[39;00m: ConnectTimeout,\n\u001b[0;32m    104\u001b[0m     \u001b[38;5;167;01mOSError\u001b[39;00m: ConnectError,\n\u001b[0;32m    105\u001b[0m     anyio\u001b[38;5;241m.\u001b[39mBrokenResourceError: ConnectError,\n\u001b[0;32m    106\u001b[0m }\n\u001b[1;32m--> 107\u001b[0m \u001b[38;5;28;01mwith\u001b[39;00m map_exceptions(exc_map):\n\u001b[0;32m    108\u001b[0m     \u001b[38;5;28;01mwith\u001b[39;00m anyio\u001b[38;5;241m.\u001b[39mfail_after(timeout):\n",
      "File \u001b[1;32m~\\anaconda3\\Lib\\contextlib.py:158\u001b[0m, in \u001b[0;36m_GeneratorContextManager.__exit__\u001b[1;34m(self, typ, value, traceback)\u001b[0m\n\u001b[0;32m    157\u001b[0m \u001b[38;5;28;01mtry\u001b[39;00m:\n\u001b[1;32m--> 158\u001b[0m     \u001b[38;5;28mself\u001b[39m\u001b[38;5;241m.\u001b[39mgen\u001b[38;5;241m.\u001b[39mthrow(typ, value, traceback)\n\u001b[0;32m    159\u001b[0m \u001b[38;5;28;01mexcept\u001b[39;00m \u001b[38;5;167;01mStopIteration\u001b[39;00m \u001b[38;5;28;01mas\u001b[39;00m exc:\n\u001b[0;32m    160\u001b[0m     \u001b[38;5;66;03m# Suppress StopIteration *unless* it's the same exception that\u001b[39;00m\n\u001b[0;32m    161\u001b[0m     \u001b[38;5;66;03m# was passed to throw().  This prevents a StopIteration\u001b[39;00m\n\u001b[0;32m    162\u001b[0m     \u001b[38;5;66;03m# raised inside the \"with\" statement from being suppressed.\u001b[39;00m\n",
      "File \u001b[1;32m~\\anaconda3\\Lib\\site-packages\\httpcore\\_exceptions.py:12\u001b[0m, in \u001b[0;36mmap_exceptions\u001b[1;34m(map)\u001b[0m\n\u001b[0;32m     11\u001b[0m     \u001b[38;5;28;01mif\u001b[39;00m \u001b[38;5;28misinstance\u001b[39m(exc, from_exc):\n\u001b[1;32m---> 12\u001b[0m         \u001b[38;5;28;01mraise\u001b[39;00m to_exc(exc)\n\u001b[0;32m     13\u001b[0m \u001b[38;5;28;01mraise\u001b[39;00m\n",
      "\u001b[1;31mConnectTimeout\u001b[0m: ",
      "\nThe above exception was the direct cause of the following exception:\n",
      "\u001b[1;31mConnectTimeout\u001b[0m                            Traceback (most recent call last)",
      "Cell \u001b[1;32mIn[16], line 86\u001b[0m\n\u001b[0;32m     83\u001b[0m     \u001b[38;5;28;01mreturn\u001b[39;00m bid_result, ask_result\n\u001b[0;32m     85\u001b[0m \u001b[38;5;66;03m# Run the async function in Jupyter Notebook\u001b[39;00m\n\u001b[1;32m---> 86\u001b[0m bids, asks\u001b[38;5;241m=\u001b[39m\u001b[38;5;28;01mawait\u001b[39;00m fetch_order_book()\n",
      "Cell \u001b[1;32mIn[16], line 35\u001b[0m, in \u001b[0;36mfetch_order_book\u001b[1;34m()\u001b[0m\n\u001b[0;32m     28\u001b[0m ask_request \u001b[38;5;241m=\u001b[39m BookOffers(\n\u001b[0;32m     29\u001b[0m     taker_gets\u001b[38;5;241m=\u001b[39m{\u001b[38;5;124m\"\u001b[39m\u001b[38;5;124mcurrency\u001b[39m\u001b[38;5;124m\"\u001b[39m: USD_CURRENCY, \u001b[38;5;124m\"\u001b[39m\u001b[38;5;124missuer\u001b[39m\u001b[38;5;124m\"\u001b[39m: USD_ISSUER},  \u001b[38;5;66;03m# Sellers receive USD\u001b[39;00m\n\u001b[0;32m     30\u001b[0m     taker_pays\u001b[38;5;241m=\u001b[39m{\u001b[38;5;124m\"\u001b[39m\u001b[38;5;124mcurrency\u001b[39m\u001b[38;5;124m\"\u001b[39m: \u001b[38;5;124m\"\u001b[39m\u001b[38;5;124mXRP\u001b[39m\u001b[38;5;124m\"\u001b[39m},  \u001b[38;5;66;03m# Sellers pay XRP\u001b[39;00m\n\u001b[0;32m     31\u001b[0m     limit\u001b[38;5;241m=\u001b[39m\u001b[38;5;241m50\u001b[39m\n\u001b[0;32m     32\u001b[0m )\n\u001b[0;32m     34\u001b[0m \u001b[38;5;66;03m# Fetch order books concurrently\u001b[39;00m\n\u001b[1;32m---> 35\u001b[0m bid_response, ask_response \u001b[38;5;241m=\u001b[39m \u001b[38;5;28;01mawait\u001b[39;00m asyncio\u001b[38;5;241m.\u001b[39mgather(\n\u001b[0;32m     36\u001b[0m     client\u001b[38;5;241m.\u001b[39mrequest(bid_request), client\u001b[38;5;241m.\u001b[39mrequest(ask_request)\n\u001b[0;32m     37\u001b[0m )\n\u001b[0;32m     39\u001b[0m bid_dict \u001b[38;5;241m=\u001b[39m defaultdict(\u001b[38;5;28mfloat\u001b[39m)  \u001b[38;5;66;03m# Bids (Price -> Total XRP Amount)\u001b[39;00m\n\u001b[0;32m     40\u001b[0m ask_dict \u001b[38;5;241m=\u001b[39m defaultdict(\u001b[38;5;28mfloat\u001b[39m)  \u001b[38;5;66;03m# Asks (Price -> Total XRP Amount)\u001b[39;00m\n",
      "File \u001b[1;32m~\\anaconda3\\Lib\\site-packages\\xrpl\\asyncio\\clients\\async_client.py:29\u001b[0m, in \u001b[0;36mAsyncClient.request\u001b[1;34m(self, request)\u001b[0m\n\u001b[0;32m     19\u001b[0m \u001b[38;5;28;01masync\u001b[39;00m \u001b[38;5;28;01mdef\u001b[39;00m \u001b[38;5;21mrequest\u001b[39m(\u001b[38;5;28mself\u001b[39m: Self, request: Request) \u001b[38;5;241m-\u001b[39m\u001b[38;5;241m>\u001b[39m Response:\n\u001b[0;32m     20\u001b[0m \u001b[38;5;250m    \u001b[39m\u001b[38;5;124;03m\"\"\"\u001b[39;00m\n\u001b[0;32m     21\u001b[0m \u001b[38;5;124;03m    Makes a request with this client and returns the response.\u001b[39;00m\n\u001b[0;32m     22\u001b[0m \n\u001b[1;32m   (...)\u001b[0m\n\u001b[0;32m     27\u001b[0m \u001b[38;5;124;03m        The Response for the given Request.\u001b[39;00m\n\u001b[0;32m     28\u001b[0m \u001b[38;5;124;03m    \"\"\"\u001b[39;00m\n\u001b[1;32m---> 29\u001b[0m     \u001b[38;5;28;01mreturn\u001b[39;00m \u001b[38;5;28;01mawait\u001b[39;00m \u001b[38;5;28mself\u001b[39m\u001b[38;5;241m.\u001b[39m_request_impl(request)\n",
      "File \u001b[1;32m~\\anaconda3\\Lib\\site-packages\\xrpl\\asyncio\\clients\\json_rpc_base.py:44\u001b[0m, in \u001b[0;36mJsonRpcBase._request_impl\u001b[1;34m(self, request, timeout)\u001b[0m\n\u001b[0;32m     27\u001b[0m \u001b[38;5;250m\u001b[39m\u001b[38;5;124;03m\"\"\"\u001b[39;00m\n\u001b[0;32m     28\u001b[0m \u001b[38;5;124;03mBase ``_request_impl`` implementation for JSON RPC.\u001b[39;00m\n\u001b[0;32m     29\u001b[0m \n\u001b[1;32m   (...)\u001b[0m\n\u001b[0;32m     41\u001b[0m \u001b[38;5;124;03m:meta private:\u001b[39;00m\n\u001b[0;32m     42\u001b[0m \u001b[38;5;124;03m\"\"\"\u001b[39;00m\n\u001b[0;32m     43\u001b[0m \u001b[38;5;28;01masync\u001b[39;00m \u001b[38;5;28;01mwith\u001b[39;00m AsyncClient(timeout\u001b[38;5;241m=\u001b[39mtimeout) \u001b[38;5;28;01mas\u001b[39;00m http_client:\n\u001b[1;32m---> 44\u001b[0m     response \u001b[38;5;241m=\u001b[39m \u001b[38;5;28;01mawait\u001b[39;00m http_client\u001b[38;5;241m.\u001b[39mpost(\n\u001b[0;32m     45\u001b[0m         \u001b[38;5;28mself\u001b[39m\u001b[38;5;241m.\u001b[39murl,\n\u001b[0;32m     46\u001b[0m         json\u001b[38;5;241m=\u001b[39mrequest_to_json_rpc(request),\n\u001b[0;32m     47\u001b[0m     )\n\u001b[0;32m     48\u001b[0m     \u001b[38;5;28;01mtry\u001b[39;00m:\n\u001b[0;32m     49\u001b[0m         \u001b[38;5;28;01mreturn\u001b[39;00m json_to_response(response\u001b[38;5;241m.\u001b[39mjson())\n",
      "File \u001b[1;32m~\\anaconda3\\Lib\\site-packages\\httpx\\_client.py:1848\u001b[0m, in \u001b[0;36mAsyncClient.post\u001b[1;34m(self, url, content, data, files, json, params, headers, cookies, auth, follow_redirects, timeout, extensions)\u001b[0m\n\u001b[0;32m   1827\u001b[0m \u001b[38;5;28;01masync\u001b[39;00m \u001b[38;5;28;01mdef\u001b[39;00m \u001b[38;5;21mpost\u001b[39m(\n\u001b[0;32m   1828\u001b[0m     \u001b[38;5;28mself\u001b[39m,\n\u001b[0;32m   1829\u001b[0m     url: URLTypes,\n\u001b[1;32m   (...)\u001b[0m\n\u001b[0;32m   1841\u001b[0m     extensions: typing\u001b[38;5;241m.\u001b[39mOptional[RequestExtensions] \u001b[38;5;241m=\u001b[39m \u001b[38;5;28;01mNone\u001b[39;00m,\n\u001b[0;32m   1842\u001b[0m ) \u001b[38;5;241m-\u001b[39m\u001b[38;5;241m>\u001b[39m Response:\n\u001b[0;32m   1843\u001b[0m \u001b[38;5;250m    \u001b[39m\u001b[38;5;124;03m\"\"\"\u001b[39;00m\n\u001b[0;32m   1844\u001b[0m \u001b[38;5;124;03m    Send a `POST` request.\u001b[39;00m\n\u001b[0;32m   1845\u001b[0m \n\u001b[0;32m   1846\u001b[0m \u001b[38;5;124;03m    **Parameters**: See `httpx.request`.\u001b[39;00m\n\u001b[0;32m   1847\u001b[0m \u001b[38;5;124;03m    \"\"\"\u001b[39;00m\n\u001b[1;32m-> 1848\u001b[0m     \u001b[38;5;28;01mreturn\u001b[39;00m \u001b[38;5;28;01mawait\u001b[39;00m \u001b[38;5;28mself\u001b[39m\u001b[38;5;241m.\u001b[39mrequest(\n\u001b[0;32m   1849\u001b[0m         \u001b[38;5;124m\"\u001b[39m\u001b[38;5;124mPOST\u001b[39m\u001b[38;5;124m\"\u001b[39m,\n\u001b[0;32m   1850\u001b[0m         url,\n\u001b[0;32m   1851\u001b[0m         content\u001b[38;5;241m=\u001b[39mcontent,\n\u001b[0;32m   1852\u001b[0m         data\u001b[38;5;241m=\u001b[39mdata,\n\u001b[0;32m   1853\u001b[0m         files\u001b[38;5;241m=\u001b[39mfiles,\n\u001b[0;32m   1854\u001b[0m         json\u001b[38;5;241m=\u001b[39mjson,\n\u001b[0;32m   1855\u001b[0m         params\u001b[38;5;241m=\u001b[39mparams,\n\u001b[0;32m   1856\u001b[0m         headers\u001b[38;5;241m=\u001b[39mheaders,\n\u001b[0;32m   1857\u001b[0m         cookies\u001b[38;5;241m=\u001b[39mcookies,\n\u001b[0;32m   1858\u001b[0m         auth\u001b[38;5;241m=\u001b[39mauth,\n\u001b[0;32m   1859\u001b[0m         follow_redirects\u001b[38;5;241m=\u001b[39mfollow_redirects,\n\u001b[0;32m   1860\u001b[0m         timeout\u001b[38;5;241m=\u001b[39mtimeout,\n\u001b[0;32m   1861\u001b[0m         extensions\u001b[38;5;241m=\u001b[39mextensions,\n\u001b[0;32m   1862\u001b[0m     )\n",
      "File \u001b[1;32m~\\anaconda3\\Lib\\site-packages\\httpx\\_client.py:1530\u001b[0m, in \u001b[0;36mAsyncClient.request\u001b[1;34m(self, method, url, content, data, files, json, params, headers, cookies, auth, follow_redirects, timeout, extensions)\u001b[0m\n\u001b[0;32m   1501\u001b[0m \u001b[38;5;250m\u001b[39m\u001b[38;5;124;03m\"\"\"\u001b[39;00m\n\u001b[0;32m   1502\u001b[0m \u001b[38;5;124;03mBuild and send a request.\u001b[39;00m\n\u001b[0;32m   1503\u001b[0m \n\u001b[1;32m   (...)\u001b[0m\n\u001b[0;32m   1515\u001b[0m \u001b[38;5;124;03m[0]: /advanced/#merging-of-configuration\u001b[39;00m\n\u001b[0;32m   1516\u001b[0m \u001b[38;5;124;03m\"\"\"\u001b[39;00m\n\u001b[0;32m   1517\u001b[0m request \u001b[38;5;241m=\u001b[39m \u001b[38;5;28mself\u001b[39m\u001b[38;5;241m.\u001b[39mbuild_request(\n\u001b[0;32m   1518\u001b[0m     method\u001b[38;5;241m=\u001b[39mmethod,\n\u001b[0;32m   1519\u001b[0m     url\u001b[38;5;241m=\u001b[39murl,\n\u001b[1;32m   (...)\u001b[0m\n\u001b[0;32m   1528\u001b[0m     extensions\u001b[38;5;241m=\u001b[39mextensions,\n\u001b[0;32m   1529\u001b[0m )\n\u001b[1;32m-> 1530\u001b[0m \u001b[38;5;28;01mreturn\u001b[39;00m \u001b[38;5;28;01mawait\u001b[39;00m \u001b[38;5;28mself\u001b[39m\u001b[38;5;241m.\u001b[39msend(request, auth\u001b[38;5;241m=\u001b[39mauth, follow_redirects\u001b[38;5;241m=\u001b[39mfollow_redirects)\n",
      "File \u001b[1;32m~\\anaconda3\\Lib\\site-packages\\httpx\\_client.py:1617\u001b[0m, in \u001b[0;36mAsyncClient.send\u001b[1;34m(self, request, stream, auth, follow_redirects)\u001b[0m\n\u001b[0;32m   1609\u001b[0m follow_redirects \u001b[38;5;241m=\u001b[39m (\n\u001b[0;32m   1610\u001b[0m     \u001b[38;5;28mself\u001b[39m\u001b[38;5;241m.\u001b[39mfollow_redirects\n\u001b[0;32m   1611\u001b[0m     \u001b[38;5;28;01mif\u001b[39;00m \u001b[38;5;28misinstance\u001b[39m(follow_redirects, UseClientDefault)\n\u001b[0;32m   1612\u001b[0m     \u001b[38;5;28;01melse\u001b[39;00m follow_redirects\n\u001b[0;32m   1613\u001b[0m )\n\u001b[0;32m   1615\u001b[0m auth \u001b[38;5;241m=\u001b[39m \u001b[38;5;28mself\u001b[39m\u001b[38;5;241m.\u001b[39m_build_request_auth(request, auth)\n\u001b[1;32m-> 1617\u001b[0m response \u001b[38;5;241m=\u001b[39m \u001b[38;5;28;01mawait\u001b[39;00m \u001b[38;5;28mself\u001b[39m\u001b[38;5;241m.\u001b[39m_send_handling_auth(\n\u001b[0;32m   1618\u001b[0m     request,\n\u001b[0;32m   1619\u001b[0m     auth\u001b[38;5;241m=\u001b[39mauth,\n\u001b[0;32m   1620\u001b[0m     follow_redirects\u001b[38;5;241m=\u001b[39mfollow_redirects,\n\u001b[0;32m   1621\u001b[0m     history\u001b[38;5;241m=\u001b[39m[],\n\u001b[0;32m   1622\u001b[0m )\n\u001b[0;32m   1623\u001b[0m \u001b[38;5;28;01mtry\u001b[39;00m:\n\u001b[0;32m   1624\u001b[0m     \u001b[38;5;28;01mif\u001b[39;00m \u001b[38;5;129;01mnot\u001b[39;00m stream:\n",
      "File \u001b[1;32m~\\anaconda3\\Lib\\site-packages\\httpx\\_client.py:1645\u001b[0m, in \u001b[0;36mAsyncClient._send_handling_auth\u001b[1;34m(self, request, auth, follow_redirects, history)\u001b[0m\n\u001b[0;32m   1642\u001b[0m request \u001b[38;5;241m=\u001b[39m \u001b[38;5;28;01mawait\u001b[39;00m auth_flow\u001b[38;5;241m.\u001b[39m\u001b[38;5;21m__anext__\u001b[39m()\n\u001b[0;32m   1644\u001b[0m \u001b[38;5;28;01mwhile\u001b[39;00m \u001b[38;5;28;01mTrue\u001b[39;00m:\n\u001b[1;32m-> 1645\u001b[0m     response \u001b[38;5;241m=\u001b[39m \u001b[38;5;28;01mawait\u001b[39;00m \u001b[38;5;28mself\u001b[39m\u001b[38;5;241m.\u001b[39m_send_handling_redirects(\n\u001b[0;32m   1646\u001b[0m         request,\n\u001b[0;32m   1647\u001b[0m         follow_redirects\u001b[38;5;241m=\u001b[39mfollow_redirects,\n\u001b[0;32m   1648\u001b[0m         history\u001b[38;5;241m=\u001b[39mhistory,\n\u001b[0;32m   1649\u001b[0m     )\n\u001b[0;32m   1650\u001b[0m     \u001b[38;5;28;01mtry\u001b[39;00m:\n\u001b[0;32m   1651\u001b[0m         \u001b[38;5;28;01mtry\u001b[39;00m:\n",
      "File \u001b[1;32m~\\anaconda3\\Lib\\site-packages\\httpx\\_client.py:1682\u001b[0m, in \u001b[0;36mAsyncClient._send_handling_redirects\u001b[1;34m(self, request, follow_redirects, history)\u001b[0m\n\u001b[0;32m   1679\u001b[0m \u001b[38;5;28;01mfor\u001b[39;00m hook \u001b[38;5;129;01min\u001b[39;00m \u001b[38;5;28mself\u001b[39m\u001b[38;5;241m.\u001b[39m_event_hooks[\u001b[38;5;124m\"\u001b[39m\u001b[38;5;124mrequest\u001b[39m\u001b[38;5;124m\"\u001b[39m]:\n\u001b[0;32m   1680\u001b[0m     \u001b[38;5;28;01mawait\u001b[39;00m hook(request)\n\u001b[1;32m-> 1682\u001b[0m response \u001b[38;5;241m=\u001b[39m \u001b[38;5;28;01mawait\u001b[39;00m \u001b[38;5;28mself\u001b[39m\u001b[38;5;241m.\u001b[39m_send_single_request(request)\n\u001b[0;32m   1683\u001b[0m \u001b[38;5;28;01mtry\u001b[39;00m:\n\u001b[0;32m   1684\u001b[0m     \u001b[38;5;28;01mfor\u001b[39;00m hook \u001b[38;5;129;01min\u001b[39;00m \u001b[38;5;28mself\u001b[39m\u001b[38;5;241m.\u001b[39m_event_hooks[\u001b[38;5;124m\"\u001b[39m\u001b[38;5;124mresponse\u001b[39m\u001b[38;5;124m\"\u001b[39m]:\n",
      "File \u001b[1;32m~\\anaconda3\\Lib\\site-packages\\httpx\\_client.py:1719\u001b[0m, in \u001b[0;36mAsyncClient._send_single_request\u001b[1;34m(self, request)\u001b[0m\n\u001b[0;32m   1714\u001b[0m     \u001b[38;5;28;01mraise\u001b[39;00m \u001b[38;5;167;01mRuntimeError\u001b[39;00m(\n\u001b[0;32m   1715\u001b[0m         \u001b[38;5;124m\"\u001b[39m\u001b[38;5;124mAttempted to send an sync request with an AsyncClient instance.\u001b[39m\u001b[38;5;124m\"\u001b[39m\n\u001b[0;32m   1716\u001b[0m     )\n\u001b[0;32m   1718\u001b[0m \u001b[38;5;28;01mwith\u001b[39;00m request_context(request\u001b[38;5;241m=\u001b[39mrequest):\n\u001b[1;32m-> 1719\u001b[0m     response \u001b[38;5;241m=\u001b[39m \u001b[38;5;28;01mawait\u001b[39;00m transport\u001b[38;5;241m.\u001b[39mhandle_async_request(request)\n\u001b[0;32m   1721\u001b[0m \u001b[38;5;28;01massert\u001b[39;00m \u001b[38;5;28misinstance\u001b[39m(response\u001b[38;5;241m.\u001b[39mstream, AsyncByteStream)\n\u001b[0;32m   1722\u001b[0m response\u001b[38;5;241m.\u001b[39mrequest \u001b[38;5;241m=\u001b[39m request\n",
      "File \u001b[1;32m~\\anaconda3\\Lib\\site-packages\\httpx\\_transports\\default.py:352\u001b[0m, in \u001b[0;36mAsyncHTTPTransport.handle_async_request\u001b[1;34m(self, request)\u001b[0m\n\u001b[0;32m    338\u001b[0m \u001b[38;5;28;01massert\u001b[39;00m \u001b[38;5;28misinstance\u001b[39m(request\u001b[38;5;241m.\u001b[39mstream, AsyncByteStream)\n\u001b[0;32m    340\u001b[0m req \u001b[38;5;241m=\u001b[39m httpcore\u001b[38;5;241m.\u001b[39mRequest(\n\u001b[0;32m    341\u001b[0m     method\u001b[38;5;241m=\u001b[39mrequest\u001b[38;5;241m.\u001b[39mmethod,\n\u001b[0;32m    342\u001b[0m     url\u001b[38;5;241m=\u001b[39mhttpcore\u001b[38;5;241m.\u001b[39mURL(\n\u001b[1;32m   (...)\u001b[0m\n\u001b[0;32m    350\u001b[0m     extensions\u001b[38;5;241m=\u001b[39mrequest\u001b[38;5;241m.\u001b[39mextensions,\n\u001b[0;32m    351\u001b[0m )\n\u001b[1;32m--> 352\u001b[0m \u001b[38;5;28;01mwith\u001b[39;00m map_httpcore_exceptions():\n\u001b[0;32m    353\u001b[0m     resp \u001b[38;5;241m=\u001b[39m \u001b[38;5;28;01mawait\u001b[39;00m \u001b[38;5;28mself\u001b[39m\u001b[38;5;241m.\u001b[39m_pool\u001b[38;5;241m.\u001b[39mhandle_async_request(req)\n\u001b[0;32m    355\u001b[0m \u001b[38;5;28;01massert\u001b[39;00m \u001b[38;5;28misinstance\u001b[39m(resp\u001b[38;5;241m.\u001b[39mstream, typing\u001b[38;5;241m.\u001b[39mAsyncIterable)\n",
      "File \u001b[1;32m~\\anaconda3\\Lib\\contextlib.py:158\u001b[0m, in \u001b[0;36m_GeneratorContextManager.__exit__\u001b[1;34m(self, typ, value, traceback)\u001b[0m\n\u001b[0;32m    156\u001b[0m     value \u001b[38;5;241m=\u001b[39m typ()\n\u001b[0;32m    157\u001b[0m \u001b[38;5;28;01mtry\u001b[39;00m:\n\u001b[1;32m--> 158\u001b[0m     \u001b[38;5;28mself\u001b[39m\u001b[38;5;241m.\u001b[39mgen\u001b[38;5;241m.\u001b[39mthrow(typ, value, traceback)\n\u001b[0;32m    159\u001b[0m \u001b[38;5;28;01mexcept\u001b[39;00m \u001b[38;5;167;01mStopIteration\u001b[39;00m \u001b[38;5;28;01mas\u001b[39;00m exc:\n\u001b[0;32m    160\u001b[0m     \u001b[38;5;66;03m# Suppress StopIteration *unless* it's the same exception that\u001b[39;00m\n\u001b[0;32m    161\u001b[0m     \u001b[38;5;66;03m# was passed to throw().  This prevents a StopIteration\u001b[39;00m\n\u001b[0;32m    162\u001b[0m     \u001b[38;5;66;03m# raised inside the \"with\" statement from being suppressed.\u001b[39;00m\n\u001b[0;32m    163\u001b[0m     \u001b[38;5;28;01mreturn\u001b[39;00m exc \u001b[38;5;129;01mis\u001b[39;00m \u001b[38;5;129;01mnot\u001b[39;00m value\n",
      "File \u001b[1;32m~\\anaconda3\\Lib\\site-packages\\httpx\\_transports\\default.py:77\u001b[0m, in \u001b[0;36mmap_httpcore_exceptions\u001b[1;34m()\u001b[0m\n\u001b[0;32m     74\u001b[0m     \u001b[38;5;28;01mraise\u001b[39;00m\n\u001b[0;32m     76\u001b[0m message \u001b[38;5;241m=\u001b[39m \u001b[38;5;28mstr\u001b[39m(exc)\n\u001b[1;32m---> 77\u001b[0m \u001b[38;5;28;01mraise\u001b[39;00m mapped_exc(message) \u001b[38;5;28;01mfrom\u001b[39;00m \u001b[38;5;21;01mexc\u001b[39;00m\n",
      "\u001b[1;31mConnectTimeout\u001b[0m: "
     ]
    }
   ],
   "source": [
    "import asyncio\n",
    "from collections import defaultdict\n",
    "from itertools import accumulate\n",
    "from xrpl.asyncio.clients import AsyncJsonRpcClient\n",
    "from xrpl.models.requests import BookOffers\n",
    "\n",
    "# Define the XRP Ledger JSON-RPC endpoint\n",
    "XRP_LEDGER_RPC = \"https://xrplcluster.com\"  # Public XRP Ledger Full-History Server\n",
    "\n",
    "# Create an async XRP Ledger API client\n",
    "client = AsyncJsonRpcClient(XRP_LEDGER_RPC)\n",
    "\n",
    "# Define the market pair: XRP/USD (Bitstamp Issuer)\n",
    "USD_ISSUER = \"rvYAfWj5gh67oV6fW32ZzP3Aw4Eubs59B\"  # Bitstamp USD issuer\n",
    "USD_CURRENCY = \"USD\"\n",
    "\n",
    "async def fetch_order_book():\n",
    "    \"\"\" Fetches and displays separate bid and ask offers with cumulative sums. \"\"\"\n",
    "    \n",
    "    # Request bid orders (buy orders) → Users want to BUY XRP, paying USD\n",
    "    bid_request = BookOffers(\n",
    "        taker_gets={\"currency\": \"XRP\"},  # Buyers receive XRP\n",
    "        taker_pays={\"currency\": USD_CURRENCY, \"issuer\": USD_ISSUER},  # Buyers pay USD\n",
    "        limit=50\n",
    "    )\n",
    "\n",
    "    # Request ask orders (sell orders) → Users want to SELL XRP, receiving USD\n",
    "    ask_request = BookOffers(\n",
    "        taker_gets={\"currency\": USD_CURRENCY, \"issuer\": USD_ISSUER},  # Sellers receive USD\n",
    "        taker_pays={\"currency\": \"XRP\"},  # Sellers pay XRP\n",
    "        limit=50\n",
    "    )\n",
    "\n",
    "    # Fetch order books concurrently\n",
    "    bid_response, ask_response = await asyncio.gather(\n",
    "        client.request(bid_request), client.request(ask_request)\n",
    "    )\n",
    "\n",
    "    bid_dict = defaultdict(float)  # Bids (Price -> Total XRP Amount)\n",
    "    ask_dict = defaultdict(float)  # Asks (Price -> Total XRP Amount)\n",
    "\n",
    "    # Parse bid orders\n",
    "    for offer in bid_response.result[\"offers\"]:\n",
    "        price = round(float(offer[\"TakerPays\"][\"value\"]) / (float(offer[\"TakerGets\"])/1000000), 6)\n",
    "        bid_dict[price] += (float(offer[\"TakerGets\"])/1000000)  # Sum XRP amounts\n",
    "\n",
    "    # Parse ask orders\n",
    "    for offer in ask_response.result[\"offers\"]:\n",
    "        price = round(float(offer[\"TakerGets\"][\"value\"]) / (float(offer[\"TakerPays\"])/1000000), 6)\n",
    "        ask_dict[price] += (float(offer[\"TakerPays\"])/1000000)  # Sum XRP amounts\n",
    "\n",
    "    # Convert to sorted lists\n",
    "    bid_list = sorted(bid_dict.items(), key=lambda x: x[0], reverse=False)[:5]  # Highest bids first\n",
    "    ask_list = sorted(ask_dict.items(), key=lambda x: x[0], reverse=True)[:5]  # Lowest asks first\n",
    "\n",
    "    # Compute cumulative sums\n",
    "    bid_cumsum = list(accumulate(bid[1] for bid in bid_list))\n",
    "    ask_cumsum = list(accumulate(ask[1] for ask in ask_list))\n",
    "\n",
    "    # Print order book with bids on left, asks on right\n",
    "    print(mid_price)\n",
    "    print(\"\\n🔹 **ORDER BOOK (Bids on Left, Asks on Right) 🔸\")\n",
    "    print(f\"{'BID Amount (XRP)':<15} {'Cumulative XRP':<15} {'BID Price (USD/XRP)':<18} || {'ASK Price (USD/XRP)':<18} {'Cumulative XRP':<15} {'ASK Amount (XRP)':<15}\")\n",
    "    print(\"=\" * 85)\n",
    "\n",
    "    bid_result=[]\n",
    "    ask_result=[]\n",
    "\n",
    "    for i in range(max(len(ask_list), len(bid_list))):\n",
    "        bid_amount = f\"{ask_list[i][1]:.2f}\" if i < len(ask_list) else \"\"\n",
    "        bid_cumulative = f\"{ask_cumsum[i]:.2f}\" if i < len(ask_cumsum) else \"\"\n",
    "        bid_price = f\"{ask_list[i][0]:.6f}\" if i < len(ask_list) else \"\"\n",
    "\n",
    "        ask_price = f\"{bid_list[i][0]:.6f}\" if i < len(bid_list) else \"\"\n",
    "        ask_cumulative = f\"{bid_cumsum[i]:.2f}\" if i < len(bid_cumsum) else \"\"\n",
    "        ask_amount = f\"{bid_list[i][1]:.2f}\" if i < len(bid_list) else \"\"\n",
    "\n",
    "        print(f\"{bid_amount:<15} {bid_cumulative:<15} {bid_price:<18} || {ask_price:<18} {ask_cumulative:<15} {ask_amount:<15}\")\n",
    "        \n",
    "        bid_result.append((bid_price, bid_amount, bid_cumulative))\n",
    "        ask_result.append((ask_price, ask_amount, ask_cumulative))\n",
    "\n",
    "    return bid_result, ask_result\n",
    "\n",
    "# Run the async function in Jupyter Notebook\n",
    "bids, asks=await fetch_order_book()\n"
   ]
  },
  {
   "cell_type": "markdown",
   "id": "03d6d175",
   "metadata": {},
   "source": [
    "# Calculating opportunity"
   ]
  },
  {
   "cell_type": "code",
   "execution_count": null,
   "id": "c33dd8d1",
   "metadata": {
    "ExecuteTime": {
     "end_time": "2025-02-07T18:05:42.760668Z",
     "start_time": "2025-02-07T18:05:42.760668Z"
    }
   },
   "outputs": [],
   "source": [
    "best_bid=max([float(x[0]) for x in bids])\n",
    "best_ask=min([float(x[0]) for x in asks])"
   ]
  },
  {
   "cell_type": "code",
   "execution_count": null,
   "id": "bf655ef7",
   "metadata": {
    "ExecuteTime": {
     "end_time": "2025-02-07T18:05:42.761943Z",
     "start_time": "2025-02-07T18:05:42.761943Z"
    },
    "code_folding": []
   },
   "outputs": [],
   "source": [
    "bid_opportunity=0\n",
    "if mid_price>0.997*best_bid:\n",
    "    pass\n",
    "else:\n",
    "    for bid in bids:\n",
    "        if mid_price<=bid[0]:\n",
    "            bid_opportunity+=(0.997*bid[0]-mid_price)*bid[1]\n",
    "print(bid_opportunity)            "
   ]
  },
  {
   "cell_type": "code",
   "execution_count": null,
   "id": "069266bd",
   "metadata": {
    "ExecuteTime": {
     "end_time": "2025-02-07T18:05:42.763441Z",
     "start_time": "2025-02-07T18:05:42.763441Z"
    }
   },
   "outputs": [],
   "source": [
    "ask_opportunity=0\n",
    "if mid_price<1.003*best_ask:\n",
    "    pass\n",
    "else:\n",
    "    for ask in asks:\n",
    "        if mid_price>=ask[0]:\n",
    "            ask_opportunity+=(mid_price-1.003*ask[0])*ask[1]\n",
    "print(ask_opportunity)            "
   ]
  },
  {
   "cell_type": "code",
   "execution_count": null,
   "id": "07a4be18",
   "metadata": {
    "ExecuteTime": {
     "end_time": "2025-02-07T18:05:42.764446Z",
     "start_time": "2025-02-07T18:05:42.764446Z"
    }
   },
   "outputs": [],
   "source": [
    "from datetime import datetime\n",
    "\n",
    "def log_opportunity(filename, opportunity_value):\n",
    "    \"\"\"Appends a timestamp and opportunity value to a text file.\"\"\"\n",
    "    timestamp = datetime.now().strftime('%Y-%m-%d %H:%M:%S')\n",
    "    with open(filename, \"a\") as file:\n",
    "        file.write(f\"{timestamp}, {opportunity_value}\\n\")\n",
    "\n",
    "# Example usage\n",
    "log_opportunity(r'C:/Users/andrej/Projects/Untitled Folder/opportunities_log.txt', bid_opportunity+ask_opportunity)  # Replace with actual opportunity value"
   ]
  },
  {
   "cell_type": "markdown",
   "id": "1aa4b7cf",
   "metadata": {},
   "source": [
    "# Sending email"
   ]
  },
  {
   "cell_type": "code",
   "execution_count": null,
   "id": "b5233b02",
   "metadata": {
    "ExecuteTime": {
     "end_time": "2025-02-07T18:05:42.764446Z",
     "start_time": "2025-02-07T18:05:42.764446Z"
    }
   },
   "outputs": [],
   "source": [
    "html_content = f\"\"\"\\\n",
    "<html>\n",
    "    <body>\n",
    "        \n",
    "        <h1>The opportunity is high</h1>\n",
    "        <p>Opportunity: { bid_opportunity+ask_opportunity}</p> \n",
    "\n",
    "    </body>\n",
    "</html>\n",
    "\"\"\"\n",
    "\n",
    "\n",
    "if bid_opportunity+ask_opportunity>=100:\n",
    "    send_html_email(\n",
    "        RECIPIENT, \n",
    "        f\"XRP opportunity HIGH alert! {bid_opportunity+ask_opportunity}\", \"\", html_content, \"\",\n",
    "            email_password=EMAIL_PASSWORD\n",
    "\n",
    "            )"
   ]
  }
 ],
 "metadata": {
  "hide_input": false,
  "kernelspec": {
   "display_name": "Python 3 (ipykernel)",
   "language": "python",
   "name": "python3"
  },
  "language_info": {
   "codemirror_mode": {
    "name": "ipython",
    "version": 3
   },
   "file_extension": ".py",
   "mimetype": "text/x-python",
   "name": "python",
   "nbconvert_exporter": "python",
   "pygments_lexer": "ipython3",
   "version": "3.11.8"
  },
  "toc": {
   "base_numbering": 1,
   "nav_menu": {},
   "number_sections": true,
   "sideBar": true,
   "skip_h1_title": false,
   "title_cell": "Table of Contents",
   "title_sidebar": "Contents",
   "toc_cell": false,
   "toc_position": {},
   "toc_section_display": true,
   "toc_window_display": false
  },
  "varInspector": {
   "cols": {
    "lenName": 16,
    "lenType": 16,
    "lenVar": 40
   },
   "kernels_config": {
    "python": {
     "delete_cmd_postfix": "",
     "delete_cmd_prefix": "del ",
     "library": "var_list.py",
     "varRefreshCmd": "print(var_dic_list())"
    },
    "r": {
     "delete_cmd_postfix": ") ",
     "delete_cmd_prefix": "rm(",
     "library": "var_list.r",
     "varRefreshCmd": "cat(var_dic_list()) "
    }
   },
   "types_to_exclude": [
    "module",
    "function",
    "builtin_function_or_method",
    "instance",
    "_Feature"
   ],
   "window_display": false
  }
 },
 "nbformat": 4,
 "nbformat_minor": 5
}
