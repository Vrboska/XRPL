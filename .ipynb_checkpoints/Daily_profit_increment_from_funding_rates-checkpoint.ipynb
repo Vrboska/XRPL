{
 "cells": [
  {
   "cell_type": "code",
   "execution_count": 41,
   "id": "c1a5f6c9",
   "metadata": {
    "ExecuteTime": {
     "end_time": "2024-12-05T09:54:01.767632Z",
     "start_time": "2024-12-05T09:54:01.764096Z"
    }
   },
   "outputs": [],
   "source": [
    "import os"
   ]
  },
  {
   "cell_type": "code",
   "execution_count": 42,
   "id": "cc362751",
   "metadata": {
    "ExecuteTime": {
     "end_time": "2024-12-05T09:54:01.783758Z",
     "start_time": "2024-12-05T09:54:01.768644Z"
    }
   },
   "outputs": [],
   "source": [
    "from Utilities.email_sending import send_plain_email, send_html_email\n",
    "\n",
    "EMAIL_PASSWORD = os.getenv('EMAIL_PASSWORD') # the password needs to be set as EMAIL_PASSWORD in system variables of the computer where the process is running, it is located in S:/Algo/email_password.txt\n",
    "if EMAIL_PASSWORD is None:\n",
    "    raise ValueError(\"EMAIL_PASSWORD system variable not set\")\n",
    "\n",
    "RECIPIENT = [\"zubal_andrej@energytrading.sk\", \"azubal@seznam.cz\"] # can also be a list of recipients"
   ]
  },
  {
   "cell_type": "code",
   "execution_count": 43,
   "id": "c78f72d8",
   "metadata": {
    "ExecuteTime": {
     "end_time": "2024-12-05T09:54:01.791517Z",
     "start_time": "2024-12-05T09:54:01.783758Z"
    },
    "code_folding": [
     0,
     10
    ]
   },
   "outputs": [],
   "source": [
    "def convert_to_html_content(input_string):\n",
    "    # Split the input string by the newline character\n",
    "    lines = input_string.split('\\n')\n",
    "    # Wrap each line in a <p> tag\n",
    "    html_lines = [f\"<p>{line}</p>\" for line in lines]\n",
    "    # Join the lines into a single HTML string\n",
    "    html_content = '\\n'.join(html_lines)\n",
    "    return html_content\n",
    "\n",
    "\n",
    "def convert_dataframe_to_html_content(df):\n",
    "    # Convert the DataFrame to an HTML table\n",
    "    html_content = '<table border=\"1\" cellpadding=\"5\" cellspacing=\"0\" style=\"border-collapse: collapse;\">\\n'\n",
    "\n",
    "    # Add the header row\n",
    "    name = 'Order Book'\n",
    "    html_content += '  <tr>\\n'\n",
    "    html_content += f'    <th>{name}</th>\\n'\n",
    "    for column in df.columns:\n",
    "        html_content += f'    <th>{column}</th>\\n'\n",
    "    html_content += '  </tr>\\n'\n",
    "\n",
    "    # Add the data rows\n",
    "    for idx, row in df.iterrows():\n",
    "        html_content += '  <tr>\\n'\n",
    "        html_content += f'    <td>{idx}</td>\\n'  # Add the index as the first column\n",
    "        for item in row:\n",
    "            html_content += f'    <td>{item}</td>\\n'\n",
    "        html_content += '  </tr>\\n'\n",
    "\n",
    "    # Close the HTML table\n",
    "    html_content += '</table>'\n",
    "\n",
    "    return html_content"
   ]
  },
  {
   "cell_type": "code",
   "execution_count": 44,
   "id": "160d3233",
   "metadata": {
    "ExecuteTime": {
     "end_time": "2024-12-05T09:54:01.798224Z",
     "start_time": "2024-12-05T09:54:01.793523Z"
    }
   },
   "outputs": [],
   "source": [
    "import cfRestApiV3 as cfApi\n",
    "import datetime\n",
    "import pandas as pd\n",
    "import json\n",
    "import matplotlib.pyplot as plt"
   ]
  },
  {
   "cell_type": "code",
   "execution_count": 45,
   "id": "263c35ba",
   "metadata": {
    "ExecuteTime": {
     "end_time": "2024-12-05T09:54:01.802101Z",
     "start_time": "2024-12-05T09:54:01.799732Z"
    }
   },
   "outputs": [],
   "source": [
    "# accessible on your Account page under Settings -> API Keys\n",
    "apiPublicKey = \"X0J+mG76qUHLfr7G4Yk0/cSX7+T7cApznHo2opaEOOqNZKed2AmDFuMI\"\n",
    "# accessible on your Account page under Settings -> API Keys\n",
    "apiPrivateKey = \"YMyZG6GhXNmvW/ZvLzFp5zxTX+dmfPJCp8Vzamz8LJ+CBmQmloF7yBC3/sD3mNrMw8i8CtNqMnd9233v3+6kpUlT\""
   ]
  },
  {
   "cell_type": "code",
   "execution_count": 46,
   "id": "35d8f1b3",
   "metadata": {
    "ExecuteTime": {
     "end_time": "2024-12-05T09:54:01.806780Z",
     "start_time": "2024-12-05T09:54:01.802101Z"
    }
   },
   "outputs": [],
   "source": [
    "# use \"api.cryptofacilities.com\" if your IP is whitelisted (Settings -> API Keys -> IP Whitelist)\n",
    "apiPath = \"https://www.cryptofacilities.com\"\n",
    "timeout = 20\n",
    "checkCertificate = True  # when using the test environment, this must be set to \"False\"\n",
    "useNonce = False  # nonce is optional\n",
    "\n",
    "cfPublic = cfApi.cfApiMethods(\n",
    "    apiPath, timeout=timeout, checkCertificate=checkCertificate)\n",
    "cfPrivate = cfApi.cfApiMethods(apiPath, timeout=timeout, apiPublicKey=apiPublicKey,\n",
    "                               apiPrivateKey=apiPrivateKey, checkCertificate=checkCertificate, useNonce=useNonce)"
   ]
  },
  {
   "cell_type": "code",
   "execution_count": null,
   "id": "d534be85",
   "metadata": {
    "ExecuteTime": {
     "end_time": "2024-12-05T09:30:14.797327Z",
     "start_time": "2024-12-05T09:30:14.536145Z"
    }
   },
   "outputs": [],
   "source": []
  },
  {
   "cell_type": "code",
   "execution_count": 47,
   "id": "684bdb5f",
   "metadata": {
    "ExecuteTime": {
     "end_time": "2024-12-05T09:54:01.811809Z",
     "start_time": "2024-12-05T09:54:01.806780Z"
    }
   },
   "outputs": [
    {
     "data": {
      "text/plain": [
       "1"
      ]
     },
     "execution_count": 47,
     "metadata": {},
     "output_type": "execute_result"
    }
   ],
   "source": [
    "from datetime import datetime\n",
    "\n",
    "initial_value_usd=866.57\n",
    "initial_date=datetime.strptime(\"2024-12-04\", \"%Y-%m-%d\").date()\n",
    "today_date = datetime.today().date()\n",
    "\n",
    "# Calculate the difference in days\n",
    "days_difference = (today_date - initial_date).days\n",
    "days_difference"
   ]
  },
  {
   "cell_type": "code",
   "execution_count": 48,
   "id": "88a22f4f",
   "metadata": {
    "ExecuteTime": {
     "end_time": "2024-12-05T09:54:01.815745Z",
     "start_time": "2024-12-05T09:54:01.812817Z"
    }
   },
   "outputs": [],
   "source": [
    "%store -r yesterdays_value_usd"
   ]
  },
  {
   "cell_type": "code",
   "execution_count": 49,
   "id": "be184607",
   "metadata": {
    "ExecuteTime": {
     "end_time": "2024-12-05T09:54:02.134153Z",
     "start_time": "2024-12-05T09:54:01.816272Z"
    }
   },
   "outputs": [],
   "source": [
    "todays_value_usd=json.loads(cfPrivate.get_accounts())['accounts']['flex']['currencies']['USD']['value']"
   ]
  },
  {
   "cell_type": "code",
   "execution_count": 50,
   "id": "86c861aa",
   "metadata": {
    "ExecuteTime": {
     "end_time": "2024-12-05T09:54:02.142138Z",
     "start_time": "2024-12-05T09:54:02.135675Z"
    }
   },
   "outputs": [
    {
     "data": {
      "text/plain": [
       "886.19533310485"
      ]
     },
     "execution_count": 50,
     "metadata": {},
     "output_type": "execute_result"
    }
   ],
   "source": [
    "todays_value_usd"
   ]
  },
  {
   "cell_type": "code",
   "execution_count": 51,
   "id": "c4b11c2c",
   "metadata": {
    "ExecuteTime": {
     "end_time": "2024-12-05T09:54:02.146157Z",
     "start_time": "2024-12-05T09:54:02.142138Z"
    }
   },
   "outputs": [],
   "source": [
    "profit_24h=todays_value_usd-yesterdays_value_usd\n",
    "interest_rate_24h=(1+profit_24h/yesterdays_value_usd)**365.0\n",
    "profit_overall=todays_value_usd-initial_value_usd\n",
    "avg_daily_profit=profit_overall/days_difference\n",
    "interest_rate_overall=(1+profit_overall/initial_value_usd)**(365/days_difference)"
   ]
  },
  {
   "cell_type": "code",
   "execution_count": 52,
   "id": "c9c06e4d",
   "metadata": {
    "ExecuteTime": {
     "end_time": "2024-12-05T09:54:05.086736Z",
     "start_time": "2024-12-05T09:54:02.146157Z"
    }
   },
   "outputs": [],
   "source": [
    "html_content = f\"\"\"\\\n",
    "<html>\n",
    "    <body>\n",
    "        <h1>The job was successful </h1>\n",
    "        <p>profit_24h: {profit_24h}</p>\n",
    "        <p>interest_rate_24h: {interest_rate_24h}</p>\n",
    "\n",
    "        <p>profit_overall: {profit_overall}</p>\n",
    "        <p>interest_rate_overall: {interest_rate_overall}</p>\n",
    "\n",
    "        <p>avg_daily_profit: {avg_daily_profit}</p>\n",
    "\n",
    "    </body>\n",
    "</html>\n",
    "\"\"\"\n",
    "\n",
    "send_html_email(\n",
    "    RECIPIENT, \n",
    "    \"AUTOMATIC JOBS - SUCCESS daily_profit_increment\", \"\", html_content, \"\",\n",
    "        email_password=EMAIL_PASSWORD\n",
    "\n",
    "        )"
   ]
  }
 ],
 "metadata": {
  "hide_input": false,
  "kernelspec": {
   "display_name": "Python 3 (ipykernel)",
   "language": "python",
   "name": "python3"
  },
  "language_info": {
   "codemirror_mode": {
    "name": "ipython",
    "version": 3
   },
   "file_extension": ".py",
   "mimetype": "text/x-python",
   "name": "python",
   "nbconvert_exporter": "python",
   "pygments_lexer": "ipython3",
   "version": "3.11.8"
  },
  "toc": {
   "base_numbering": 1,
   "nav_menu": {},
   "number_sections": true,
   "sideBar": true,
   "skip_h1_title": false,
   "title_cell": "Table of Contents",
   "title_sidebar": "Contents",
   "toc_cell": false,
   "toc_position": {},
   "toc_section_display": true,
   "toc_window_display": false
  },
  "varInspector": {
   "cols": {
    "lenName": 16,
    "lenType": 16,
    "lenVar": 40
   },
   "kernels_config": {
    "python": {
     "delete_cmd_postfix": "",
     "delete_cmd_prefix": "del ",
     "library": "var_list.py",
     "varRefreshCmd": "print(var_dic_list())"
    },
    "r": {
     "delete_cmd_postfix": ") ",
     "delete_cmd_prefix": "rm(",
     "library": "var_list.r",
     "varRefreshCmd": "cat(var_dic_list()) "
    }
   },
   "types_to_exclude": [
    "module",
    "function",
    "builtin_function_or_method",
    "instance",
    "_Feature"
   ],
   "window_display": false
  }
 },
 "nbformat": 4,
 "nbformat_minor": 5
}
