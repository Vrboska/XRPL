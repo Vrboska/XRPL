{
 "cells": [
  {
   "cell_type": "markdown",
   "id": "eaa4810a",
   "metadata": {},
   "source": [
    "# XRP"
   ]
  },
  {
   "cell_type": "code",
   "execution_count": 5,
   "id": "27eb8161",
   "metadata": {
    "ExecuteTime": {
     "end_time": "2025-02-23T17:49:44.290666Z",
     "start_time": "2025-02-23T17:49:43.686874Z"
    }
   },
   "outputs": [
    {
     "name": "stdout",
     "output_type": "stream",
     "text": [
      "Balance: 500.153169 XRP\n"
     ]
    }
   ],
   "source": [
    "import asyncio\n",
    "import xrpl\n",
    "from xrpl.asyncio.clients import AsyncJsonRpcClient\n",
    "\n",
    "async def get_xrp_balance(wallet_address):\n",
    "    client = AsyncJsonRpcClient(\"https://s.altnet.rippletest.net:51234\")  # Testnet\n",
    "    client = AsyncJsonRpcClient(\"https://xrplcluster.com\")  # Mainnet\n",
    "\n",
    "    account_info = xrpl.models.requests.AccountInfo(\n",
    "        account=wallet_address,\n",
    "        ledger_index=\"validated\"\n",
    "    )\n",
    "\n",
    "    response = await client.request(account_info)\n",
    "        \n",
    "    if \"account_data\" in response.result:\n",
    "        balance = response.result[\"account_data\"][\"Balance\"]\n",
    "        print(f\"Balance: {int(balance) / 1_000_000} XRP\")  # Convert from drops to XRP\n",
    "    else:\n",
    "        print(\"Error retrieving account balance:\", response.result)\n",
    "\n",
    "# Replace with your XRP wallet address\n",
    "wallet_address = \"rN1oqezvgJJpHxD4sGy5XrszBd79SugkMY\"\n",
    "\n",
    "# Run the async function properly\n",
    "await get_xrp_balance(wallet_address)"
   ]
  },
  {
   "cell_type": "markdown",
   "id": "8d8f7fec",
   "metadata": {},
   "source": [
    "# Other tokens"
   ]
  },
  {
   "cell_type": "code",
   "execution_count": 6,
   "id": "8708997f",
   "metadata": {
    "ExecuteTime": {
     "end_time": "2025-02-23T17:50:40.545274Z",
     "start_time": "2025-02-23T17:50:39.884979Z"
    }
   },
   "outputs": [
    {
     "name": "stdout",
     "output_type": "stream",
     "text": [
      "\n",
      "Balances for rN1oqezvgJJpHxD4sGy5XrszBd79SugkMY:\n",
      "\n",
      "Token: BTC, Issuer: rvYAfWj5gh67oV6fW32ZzP3Aw4Eubs59B, Balance: 0.000001270528\n",
      "Token: XLM, Issuer: rKiCet8SdvWxPXnAgYarFUXMh1zCPz432Y, Balance: 0\n",
      "Token: USD, Issuer: rvYAfWj5gh67oV6fW32ZzP3Aw4Eubs59B, Balance: 837.925948706157\n",
      "Token: EUR, Issuer: rhotcWYdfn6qxhVMbPKGDF3XCKqwXar5J4, Balance: 0\n",
      "Token: ETH, Issuer: rKiCet8SdvWxPXnAgYarFUXMh1zCPz432Y, Balance: 0\n",
      "Token: CNY, Issuer: rKiCet8SdvWxPXnAgYarFUXMh1zCPz432Y, Balance: 2.4868640782135\n",
      "Token: USD, Issuer: rKiCet8SdvWxPXnAgYarFUXMh1zCPz432Y, Balance: 0\n",
      "Token: CNY, Issuer: razqQKzJRdB4UxFPWf5NEpEG3WMkmwgcXA, Balance: 0.348892946369264\n",
      "Token: EUR, Issuer: rhub8VRN55s94qWKDv6jmDy1pUykJzF3wq, Balance: 0.027571203283257\n",
      "Token: ETH, Issuer: rvYAfWj5gh67oV6fW32ZzP3Aw4Eubs59B, Balance: 0\n",
      "Token: EUR, Issuer: rvYAfWj5gh67oV6fW32ZzP3Aw4Eubs59B, Balance: 0\n",
      "Token: USD, Issuer: rhub8VRN55s94qWKDv6jmDy1pUykJzF3wq, Balance: 0\n"
     ]
    }
   ],
   "source": [
    "import asyncio\n",
    "import xrpl\n",
    "\n",
    "async def get_issued_balances(wallet_address):\n",
    "    client = AsyncJsonRpcClient(\"https://xrplcluster.com\")  # Mainnet\n",
    "    #client = AsyncJsonRpcClient(\"https://s.altnet.rippletest.net:51234\")  # Testnet\n",
    "\n",
    "    # Create an AccountLines request to get trust lines (issued token balances)\n",
    "    account_lines = xrpl.models.requests.AccountLines(\n",
    "        account=wallet_address,\n",
    "        ledger_index=\"validated\"\n",
    "    )\n",
    "\n",
    "    response = await client.request(account_lines)\n",
    "    #print(response)\n",
    "    if \"lines\" in response.result:\n",
    "        print(f\"\\nBalances for {wallet_address}:\\n\")\n",
    "        for line in response.result[\"lines\"]:\n",
    "            currency = line[\"currency\"]\n",
    "            issuer = line[\"account\"]\n",
    "            balance = line[\"balance\"]\n",
    "            print(f\"Token: {currency}, Issuer: {issuer}, Balance: {balance}\")\n",
    "    else:\n",
    "        print(\"Error retrieving token balances:\", response.result)\n",
    "\n",
    "# Replace with your correct XRP wallet address\n",
    "wallet_address = \"rN1oqezvgJJpHxD4sGy5XrszBd79SugkMY\"\n",
    "\n",
    "# Run the async function properly\n",
    "await get_issued_balances(wallet_address)"
   ]
  },
  {
   "cell_type": "code",
   "execution_count": null,
   "id": "575ac5f8",
   "metadata": {},
   "outputs": [],
   "source": []
  }
 ],
 "metadata": {
  "hide_input": false,
  "kernelspec": {
   "display_name": "Python 3 (ipykernel)",
   "language": "python",
   "name": "python3"
  },
  "language_info": {
   "codemirror_mode": {
    "name": "ipython",
    "version": 3
   },
   "file_extension": ".py",
   "mimetype": "text/x-python",
   "name": "python",
   "nbconvert_exporter": "python",
   "pygments_lexer": "ipython3",
   "version": "3.9.13"
  },
  "toc": {
   "base_numbering": 1,
   "nav_menu": {},
   "number_sections": true,
   "sideBar": true,
   "skip_h1_title": false,
   "title_cell": "Table of Contents",
   "title_sidebar": "Contents",
   "toc_cell": false,
   "toc_position": {},
   "toc_section_display": true,
   "toc_window_display": false
  },
  "varInspector": {
   "cols": {
    "lenName": 16,
    "lenType": 16,
    "lenVar": 40
   },
   "kernels_config": {
    "python": {
     "delete_cmd_postfix": "",
     "delete_cmd_prefix": "del ",
     "library": "var_list.py",
     "varRefreshCmd": "print(var_dic_list())"
    },
    "r": {
     "delete_cmd_postfix": ") ",
     "delete_cmd_prefix": "rm(",
     "library": "var_list.r",
     "varRefreshCmd": "cat(var_dic_list()) "
    }
   },
   "types_to_exclude": [
    "module",
    "function",
    "builtin_function_or_method",
    "instance",
    "_Feature"
   ],
   "window_display": false
  }
 },
 "nbformat": 4,
 "nbformat_minor": 5
}
