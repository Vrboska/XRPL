{
 "cells": [
  {
   "cell_type": "code",
   "execution_count": 128,
   "id": "662a3358",
   "metadata": {
    "ExecuteTime": {
     "end_time": "2025-02-23T19:35:03.838063Z",
     "start_time": "2025-02-23T19:35:03.827792Z"
    }
   },
   "outputs": [],
   "source": [
    "import requests\n",
    "import asyncio\n",
    "import xrpl\n",
    "import os\n",
    "from xrpl.wallet import Wallet\n",
    "from xrpl.models.transactions import OfferCreate, OfferCancel\n",
    "from xrpl.models.requests import AccountOffers\n",
    "from xrpl.transaction import submit_and_wait\n",
    "from xrpl.ledger import get_latest_validated_ledger_sequence\n",
    "from xrpl.asyncio.clients import AsyncJsonRpcClient\n",
    "from xrpl.account import get_next_valid_seq_number\n",
    "from datetime import datetime\n",
    "import time"
   ]
  },
  {
   "cell_type": "code",
   "execution_count": 129,
   "id": "03dbda70",
   "metadata": {
    "ExecuteTime": {
     "end_time": "2025-02-23T19:35:03.846054Z",
     "start_time": "2025-02-23T19:35:03.839825Z"
    }
   },
   "outputs": [],
   "source": [
    "wallet_seed = os.getenv(\"XRPL_ACCOUNT_SECRET\")\n",
    "percent_from_mid=10\n",
    "volume=10\n",
    "\n",
    "env='test'"
   ]
  },
  {
   "cell_type": "code",
   "execution_count": 130,
   "id": "c699b6c9",
   "metadata": {
    "ExecuteTime": {
     "end_time": "2025-02-23T19:35:03.852069Z",
     "start_time": "2025-02-23T19:35:03.847575Z"
    }
   },
   "outputs": [],
   "source": [
    "if env=='test':\n",
    "    client = AsyncJsonRpcClient(\"https://s.altnet.rippletest.net:51234\")\n",
    "elif env=='prod':\n",
    "    client = AsyncJsonRpcClient(\"https://xrplcluster.com\")"
   ]
  },
  {
   "cell_type": "code",
   "execution_count": 131,
   "id": "f7d79ea3",
   "metadata": {
    "ExecuteTime": {
     "end_time": "2025-02-23T19:35:03.870359Z",
     "start_time": "2025-02-23T19:35:03.852858Z"
    },
    "code_folding": [
     0,
     47,
     53,
     74,
     91
    ]
   },
   "outputs": [],
   "source": [
    "def get_xrp_price():\n",
    "    url = \"https://api.kraken.com/0/public/Ticker?pair=XRPUSD\"\n",
    "    response = requests.get(url)\n",
    "    data = response.json()\n",
    "\n",
    "    #print(data)\n",
    "    # Extract price from response\n",
    "    if \"error\" in data and data[\"error\"]:\n",
    "        print(\"Error:\", data[\"error\"])\n",
    "        return None\n",
    "    \n",
    "    xrp_price = float(data[\"result\"][\"XXRPZUSD\"][\"a\"][0])/2+float(data[\"result\"][\"XXRPZUSD\"][\"b\"][0])/2  # \"c\" contains [last trade price, volume]\n",
    "    return float(round(xrp_price,4))\n",
    "\n",
    "async def place_order(seed, taker_gets, taker_pays):\n",
    "\n",
    "    # Load wallet from the seed\n",
    "    wallet = Wallet.from_seed(seed, algorithm=\"secp256k1\")\n",
    "\n",
    "    #print(wallet.classic_address)\n",
    "    # Get the latest ledger index\n",
    "    latest_ledger = await asyncio.to_thread(get_latest_validated_ledger_sequence, client)\n",
    "    sequence = await asyncio.to_thread(get_next_valid_seq_number, wallet.classic_address, client)\n",
    "\n",
    "    # Create the OfferCreate transaction\n",
    "    offer_tx = OfferCreate(\n",
    "        account=wallet.classic_address,\n",
    "        taker_gets=taker_gets,  # What you are selling\n",
    "        taker_pays=taker_pays,  # What you want in return\n",
    "        sequence=sequence,  # Ensure sequence is set\n",
    "        last_ledger_sequence=latest_ledger + 5  # Valid for the next 5 ledgers\n",
    "    )\n",
    "\n",
    "    # Submit the transaction and wait for a result\n",
    "    response = await asyncio.to_thread(submit_and_wait, offer_tx, client, wallet)\n",
    "\n",
    "#     # Display transaction response\n",
    "#     print(\"\\nTransaction Response:\")\n",
    "#     print(response)\n",
    "\n",
    "    if response.is_successful():\n",
    "        print(f\"Transaction succeeded!\")\n",
    "    \n",
    "\n",
    "    return response.result['tx_json']['Sequence']\n",
    "\n",
    "async def check_order_status(seed, offer_sequence):\n",
    "\n",
    "    # Load wallet from the seed\n",
    "    wallet = Wallet.from_seed(seed, algorithm=\"secp256k1\")\n",
    "\n",
    "    # Create the AccountOffers request\n",
    "    account_offers = AccountOffers(\n",
    "        account=wallet.classic_address,  # Use wallet address\n",
    "        ledger_index=\"validated\"\n",
    "    )\n",
    "\n",
    "    # Send request to XRPL\n",
    "    response = await client.request(account_offers)\n",
    "    result = response.result\n",
    "\n",
    "    if \"offers\" in result:\n",
    "        for offer in result[\"offers\"]:\n",
    "            if offer[\"seq\"] == offer_sequence:\n",
    "                print(f\"🚀 Order {offer_sequence} is still open.\")\n",
    "                print(f\"Remaining Amount: {offer['taker_gets']} | Price: {offer['taker_pays']}\")\n",
    "                return\n",
    "        print(f\"✅ Order {offer_sequence} has been **fully traded** (removed from open offers).\")\n",
    "    else:\n",
    "        print(f\"✅ Order {offer_sequence} has been **fully traded** or never existed.\")\n",
    "\n",
    "    await client.close()\n",
    "\n",
    "async def cancel_order(wallet_seed, offer_sequence):\n",
    "   # Load the wallet\n",
    "    wallet = Wallet.from_seed(wallet_seed, algorithm=\"secp256k1\")  # Ensure correct key type\n",
    "\n",
    "    # Fetch the correct sequence number\n",
    "    account_sequence = await asyncio.to_thread(get_next_valid_seq_number, wallet.classic_address, client)\n",
    "\n",
    "    # Create the OfferCancel transaction\n",
    "    cancel_tx = OfferCancel(\n",
    "        account=wallet.classic_address,\n",
    "        offer_sequence=offer_sequence,\n",
    "        sequence=account_sequence\n",
    "    )\n",
    "\n",
    "    # Submit the transaction and wait for confirmation\n",
    "    response = await asyncio.to_thread(submit_and_wait, cancel_tx, client, wallet) \n",
    "        \n",
    "async def get_open_orders(seed):\n",
    "\n",
    "    # Load wallet from the seed\n",
    "    wallet = Wallet.from_seed(seed, algorithm=\"secp256k1\")\n",
    "\n",
    "    #print(wallet.classic_address)\n",
    "\n",
    "    # Create the OfferCreate transaction\n",
    "    offer_tx = AccountOffers(\n",
    "                account=wallet.classic_address,\n",
    "                ledger_index=\"validated\",\n",
    "    )\n",
    "\n",
    "    # Submit the transaction and wait for a result\n",
    "    response = await client.request(offer_tx)\n",
    "\n",
    "    # Display transaction response\n",
    "    print(\"\\nOpen Orders:\")\n",
    "\n",
    "    return response\n",
    "\n",
    "def create_order_payload(price, volume):\n",
    "    taker_gets = str(volume*1000000)  # Amount in drops (10 XRP = 10,000,000 drops)\n",
    "    taker_pays = {\n",
    "        \"currency\": \"USD\",\n",
    "        \"issuer\": \"rvYAfWj5gh67oV6fW32ZzP3Aw4Eubs59B\",\n",
    "        \"value\": round(volume*price*(1+percent_from_mid/100),4)  # Receiving 10 USD\n",
    "    }\n",
    "    \n",
    "    return taker_gets, taker_pays"
   ]
  },
  {
   "cell_type": "code",
   "execution_count": 132,
   "id": "5b7163b1",
   "metadata": {
    "ExecuteTime": {
     "end_time": "2025-02-23T19:35:18.340472Z",
     "start_time": "2025-02-23T19:35:03.872390Z"
    },
    "scrolled": false
   },
   "outputs": [
    {
     "name": "stdout",
     "output_type": "stream",
     "text": [
      "\n",
      "\n",
      "\n",
      "2025-02-23 20:35:08.882137: Current XRP price on Kraken: $2.5574\n",
      "\n",
      "Open Orders:\n",
      "The ID of last order does not match the one in open_orders, aborting!\n",
      "None\n"
     ]
    }
   ],
   "source": [
    "last_order_seq=0\n",
    "multiple_orders=False\n",
    "\n",
    "while True:\n",
    "    time.sleep(5)\n",
    "    now = datetime.now()  # Get current local time\n",
    "    price = get_xrp_price()\n",
    "    print('\\n\\n')\n",
    "    print(f\"{now}: Current XRP price on Kraken: ${price}\")\n",
    "    \n",
    "    open_order_list=await get_open_orders(wallet_seed)\n",
    "    \n",
    "    if open_order_list.is_successful():\n",
    "        open_orders=open_order_list.result['offers']\n",
    "        if len(open_orders)==0:\n",
    "            if last_order_seq==0:\n",
    "                print('No orders posted yet, we are creating first order!')\n",
    "                taker_gets, taker_pays=create_order_payload(price, volume)\n",
    "                last_order_seq=await place_order(wallet_seed, taker_gets, taker_pays)\n",
    "                print(f'The new order ID is {last_order_seq}!')\n",
    "            else:\n",
    "                print(f'The last order ID {last_order_seq} is not present, the transaction was probably fulfilled, closing down!')\n",
    "                break\n",
    "                \n",
    "        elif len(open_orders)==1:\n",
    "            o=open_orders[0]\n",
    "            seq=o['seq']\n",
    "            order_price=1000000*float(o['taker_pays']['value'])/float(o['taker_gets'])\n",
    "            optimal_price=price*(1+percent_from_mid/100)\n",
    "            if last_order_seq!=o['seq']:\n",
    "                print('The ID of last order does not match the one in open_orders, aborting!')\n",
    "                print(await cancel_order(wallet_seed, o['seq']))\n",
    "                break\n",
    "                \n",
    "            elif abs((optimal_price-order_price)>0.01):\n",
    "                print(f'The order {seq} price {order_price} is too far from optimal price {optimal_price}, updating order!')\n",
    "                cancel_order=await cancel_order(wallet_seed, o['seq'])\n",
    "                if cancel_order.is_successful():\n",
    "                    print('Order cancellation was successful, placing new order!')\n",
    "                    taker_gets, taker_pays=create_order_payload(price, volume)\n",
    "                    last_order_seq=await place_order(wallet_seed, taker_gets, taker_pays)\n",
    "                    print(f'The new order ID is {last_order_seq}!')                    \n",
    "                    \n",
    "                else:\n",
    "                    print('Order cancellation was not successful, aborting!')\n",
    "                    print(cancel_order)\n",
    "                    break\n",
    "            \n",
    "            else:\n",
    "                print(f'The order {seq} price {order_price} is close to the optimal price {optimal_price}, doing nothing!')\n",
    "            \n",
    "        else:\n",
    "            print('Error: More than one order found, cancelling orders and aborting execution!')\n",
    "            for o in open_orders:\n",
    "                print(await cancel_order(wallet_seed, o['seq']))\n",
    "                \n",
    "            multiple_orders=True\n",
    "            break\n",
    "        \n",
    "    else:\n",
    "        print('Error: Could not fetch the open orders')\n",
    "        continue"
   ]
  }
 ],
 "metadata": {
  "hide_input": false,
  "kernelspec": {
   "display_name": "Python 3 (ipykernel)",
   "language": "python",
   "name": "python3"
  },
  "language_info": {
   "codemirror_mode": {
    "name": "ipython",
    "version": 3
   },
   "file_extension": ".py",
   "mimetype": "text/x-python",
   "name": "python",
   "nbconvert_exporter": "python",
   "pygments_lexer": "ipython3",
   "version": "3.9.13"
  },
  "toc": {
   "base_numbering": 1,
   "nav_menu": {},
   "number_sections": true,
   "sideBar": true,
   "skip_h1_title": false,
   "title_cell": "Table of Contents",
   "title_sidebar": "Contents",
   "toc_cell": false,
   "toc_position": {},
   "toc_section_display": true,
   "toc_window_display": false
  },
  "varInspector": {
   "cols": {
    "lenName": 16,
    "lenType": 16,
    "lenVar": 40
   },
   "kernels_config": {
    "python": {
     "delete_cmd_postfix": "",
     "delete_cmd_prefix": "del ",
     "library": "var_list.py",
     "varRefreshCmd": "print(var_dic_list())"
    },
    "r": {
     "delete_cmd_postfix": ") ",
     "delete_cmd_prefix": "rm(",
     "library": "var_list.r",
     "varRefreshCmd": "cat(var_dic_list()) "
    }
   },
   "types_to_exclude": [
    "module",
    "function",
    "builtin_function_or_method",
    "instance",
    "_Feature"
   ],
   "window_display": false
  }
 },
 "nbformat": 4,
 "nbformat_minor": 5
}
