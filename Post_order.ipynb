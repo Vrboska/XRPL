{
 "cells": [
  {
   "cell_type": "markdown",
   "id": "29956edc",
   "metadata": {},
   "source": [
    "### Post order"
   ]
  },
  {
   "cell_type": "code",
   "execution_count": 26,
   "id": "7b67a07c",
   "metadata": {
    "ExecuteTime": {
     "end_time": "2025-02-10T19:12:23.033559Z",
     "start_time": "2025-02-10T19:12:14.035165Z"
    }
   },
   "outputs": [
    {
     "name": "stdout",
     "output_type": "stream",
     "text": [
      "rN1oqezvgJJpHxD4sGy5XrszBd79SugkMY\n",
      "\n",
      "Transaction Response:\n",
      "Response(status=<ResponseStatus.SUCCESS: 'success'>, result={'close_time_iso': '2025-02-10T19:12:20Z', 'ctid': 'C59B344600320000', 'hash': '24F3F3D24274D5FDCE0EF360F58AA194199C97DA1A73B558907EBA5B719C8297', 'ledger_hash': 'DF0DC27A750D524C4FA756CB505A9A4248A43C0A6CD0DC583858B30397179838', 'ledger_index': 94057542, 'meta': {'AffectedNodes': [{'ModifiedNode': {'FinalFields': {'Account': 'rN1oqezvgJJpHxD4sGy5XrszBd79SugkMY', 'Balance': '500153210', 'Flags': 0, 'OwnerCount': 12, 'Sequence': 366}, 'LedgerEntryType': 'AccountRoot', 'LedgerIndex': '621598FB064E9B32493510B18D16957679C5BCC6D47554A500480972D8D9F151', 'PreviousFields': {'Balance': '500153220', 'OwnerCount': 11, 'Sequence': 365}, 'PreviousTxnID': 'B7F716AC10947AAFFDF802E922CF0BFF6EF4DEC96F7336B94059C4D03904DACC', 'PreviousTxnLgrSeq': 94056239}}, {'CreatedNode': {'LedgerEntryType': 'Offer', 'LedgerIndex': '6E4C28F6008E4D580B79CC5FD9D2873F855064BD7D7484CB6D738526A1869A50', 'NewFields': {'Account': 'rN1oqezvgJJpHxD4sGy5XrszBd79SugkMY', 'BookDirectory': 'DFA3B6DDAB58C7E8E5D944E736DA4B7046C30E4F460FD9DE4F09A2DD083BBA00', 'Sequence': 365, 'TakerGets': '10000000', 'TakerPays': {'currency': 'USD', 'issuer': 'rvYAfWj5gh67oV6fW32ZzP3Aw4Eubs59B', 'value': '27.12345'}}}}, {'ModifiedNode': {'FinalFields': {'Flags': 0, 'Owner': 'rN1oqezvgJJpHxD4sGy5XrszBd79SugkMY', 'RootIndex': '73B27B4F47016BCDE3C98A89D311F4D012ECAABF79D6AD12E9DB6F37B2D9F3FD'}, 'LedgerEntryType': 'DirectoryNode', 'LedgerIndex': '73B27B4F47016BCDE3C98A89D311F4D012ECAABF79D6AD12E9DB6F37B2D9F3FD', 'PreviousTxnID': '1DEF2C8B6F1C8B0BA9FEB59617292ACE0E49D929B28539E95A47E90F36C46CE6', 'PreviousTxnLgrSeq': 92540889}}, {'CreatedNode': {'LedgerEntryType': 'DirectoryNode', 'LedgerIndex': 'DFA3B6DDAB58C7E8E5D944E736DA4B7046C30E4F460FD9DE4F09A2DD083BBA00', 'NewFields': {'ExchangeRate': '4f09a2dd083bba00', 'RootIndex': 'DFA3B6DDAB58C7E8E5D944E736DA4B7046C30E4F460FD9DE4F09A2DD083BBA00', 'TakerPaysCurrency': '0000000000000000000000005553440000000000', 'TakerPaysIssuer': '0A20B3C85F482532A9578DBB3950B85CA06594D1'}}}], 'TransactionIndex': 50, 'TransactionResult': 'tesSUCCESS'}, 'tx_json': {'Account': 'rN1oqezvgJJpHxD4sGy5XrszBd79SugkMY', 'Fee': '10', 'Flags': 0, 'LastLedgerSequence': 94057545, 'Sequence': 365, 'SigningPubKey': '031B9D47540080B8E574BEE025A84D1D76241C1DE58AAE39165DA6C464071F067D', 'TakerGets': '10000000', 'TakerPays': {'currency': 'USD', 'issuer': 'rvYAfWj5gh67oV6fW32ZzP3Aw4Eubs59B', 'value': '27.12345'}, 'TransactionType': 'OfferCreate', 'TxnSignature': '304402207321B1F74D522FDD3464A88B8BD9C8425E023828DC89072281DC484D44758113022013FE7C4EFB95D8E68098409E358C82DF06BD56299A574D439FA50E765E065643', 'date': 792529940, 'ledger_index': 94057542}, 'validated': True}, id=None, type=<ResponseType.RESPONSE: 'response'>)\n"
     ]
    }
   ],
   "source": [
    "import asyncio\n",
    "import xrpl\n",
    "import os\n",
    "from xrpl.wallet import Wallet\n",
    "from xrpl.models.transactions import OfferCreate\n",
    "from xrpl.transaction import submit_and_wait\n",
    "from xrpl.ledger import get_latest_validated_ledger_sequence\n",
    "from xrpl.asyncio.clients import AsyncJsonRpcClient\n",
    "from xrpl.account import get_next_valid_seq_number\n",
    "\n",
    "\n",
    "\n",
    "async def place_order(seed, taker_gets, taker_pays):\n",
    "    client = AsyncJsonRpcClient(\"https://xrplcluster.com\")  # Mainnet\n",
    "    client = AsyncJsonRpcClient(\"https://s.altnet.rippletest.net:51234\")  # Testnet\n",
    "\n",
    "    # Load wallet from the seed\n",
    "    wallet = Wallet.from_seed(seed, algorithm=\"secp256k1\")\n",
    "\n",
    "    print(wallet.classic_address)\n",
    "    # Get the latest ledger index\n",
    "    latest_ledger = await asyncio.to_thread(get_latest_validated_ledger_sequence, client)\n",
    "    sequence = await asyncio.to_thread(get_next_valid_seq_number, wallet.classic_address, client)\n",
    "\n",
    "    # Create the OfferCreate transaction\n",
    "    offer_tx = OfferCreate(\n",
    "        account=wallet.classic_address,\n",
    "        taker_gets=taker_gets,  # What you are selling\n",
    "        taker_pays=taker_pays,  # What you want in return\n",
    "        sequence=sequence,  # Ensure sequence is set\n",
    "        last_ledger_sequence=latest_ledger + 5  # Valid for the next 5 ledgers\n",
    "    )\n",
    "\n",
    "    # Submit the transaction and wait for a result\n",
    "    response = await asyncio.to_thread(submit_and_wait, offer_tx, client, wallet)\n",
    "\n",
    "    # Display transaction response\n",
    "    print(\"\\nTransaction Response:\")\n",
    "    print(response)\n",
    "\n",
    "     \n",
    "# 🔥 Example: Selling 10 XRP for 10 USD issued by an issuer\n",
    "seed = os.getenv(\"XRPL_ACCOUNT_SECRET\")  # Replace with your real wallet seed\n",
    "taker_gets = \"10000000\"  # Amount in drops (10 XRP = 10,000,000 drops)\n",
    "taker_pays = {\n",
    "    \"currency\": \"USD\",\n",
    "    \"issuer\": \"rvYAfWj5gh67oV6fW32ZzP3Aw4Eubs59B\",\n",
    "    \"value\": \"27.12345\"  # Receiving 10 USD\n",
    "}\n",
    "\n",
    "# Run the async function\n",
    "await place_order(seed, taker_gets, taker_pays)"
   ]
  },
  {
   "cell_type": "markdown",
   "id": "f47496f9",
   "metadata": {},
   "source": [
    "### Delete order"
   ]
  },
  {
   "cell_type": "code",
   "execution_count": 27,
   "id": "b0e7866b",
   "metadata": {
    "ExecuteTime": {
     "end_time": "2025-02-10T19:13:12.928492Z",
     "start_time": "2025-02-10T19:13:06.308759Z"
    }
   },
   "outputs": [
    {
     "name": "stdout",
     "output_type": "stream",
     "text": [
      "\n",
      "Transaction Response:\n",
      "Response(status=<ResponseStatus.SUCCESS: 'success'>, result={'close_time_iso': '2025-02-10T19:13:11Z', 'ctid': 'C59B345300000000', 'hash': '8F8FC2001C1B3152023621585B5B261F0CF78EFF29D7121304DCBD881C531591', 'ledger_hash': '9620BF52B8A426F6972186761344A9208E9FD37B0EC995F72B4B49576498BCCE', 'ledger_index': 94057555, 'meta': {'AffectedNodes': [{'ModifiedNode': {'FinalFields': {'Account': 'rN1oqezvgJJpHxD4sGy5XrszBd79SugkMY', 'Balance': '500153200', 'Flags': 0, 'OwnerCount': 11, 'Sequence': 367}, 'LedgerEntryType': 'AccountRoot', 'LedgerIndex': '621598FB064E9B32493510B18D16957679C5BCC6D47554A500480972D8D9F151', 'PreviousFields': {'Balance': '500153210', 'OwnerCount': 12, 'Sequence': 366}, 'PreviousTxnID': '24F3F3D24274D5FDCE0EF360F58AA194199C97DA1A73B558907EBA5B719C8297', 'PreviousTxnLgrSeq': 94057542}}, {'DeletedNode': {'FinalFields': {'Account': 'rN1oqezvgJJpHxD4sGy5XrszBd79SugkMY', 'BookDirectory': 'DFA3B6DDAB58C7E8E5D944E736DA4B7046C30E4F460FD9DE4F09A2DD083BBA00', 'BookNode': '0', 'Flags': 0, 'OwnerNode': '0', 'PreviousTxnID': '24F3F3D24274D5FDCE0EF360F58AA194199C97DA1A73B558907EBA5B719C8297', 'PreviousTxnLgrSeq': 94057542, 'Sequence': 365, 'TakerGets': '10000000', 'TakerPays': {'currency': 'USD', 'issuer': 'rvYAfWj5gh67oV6fW32ZzP3Aw4Eubs59B', 'value': '27.12345'}}, 'LedgerEntryType': 'Offer', 'LedgerIndex': '6E4C28F6008E4D580B79CC5FD9D2873F855064BD7D7484CB6D738526A1869A50'}}, {'ModifiedNode': {'FinalFields': {'Flags': 0, 'Owner': 'rN1oqezvgJJpHxD4sGy5XrszBd79SugkMY', 'RootIndex': '73B27B4F47016BCDE3C98A89D311F4D012ECAABF79D6AD12E9DB6F37B2D9F3FD'}, 'LedgerEntryType': 'DirectoryNode', 'LedgerIndex': '73B27B4F47016BCDE3C98A89D311F4D012ECAABF79D6AD12E9DB6F37B2D9F3FD', 'PreviousTxnID': '24F3F3D24274D5FDCE0EF360F58AA194199C97DA1A73B558907EBA5B719C8297', 'PreviousTxnLgrSeq': 94057542}}, {'DeletedNode': {'FinalFields': {'ExchangeRate': '4f09a2dd083bba00', 'Flags': 0, 'PreviousTxnID': '24F3F3D24274D5FDCE0EF360F58AA194199C97DA1A73B558907EBA5B719C8297', 'PreviousTxnLgrSeq': 94057542, 'RootIndex': 'DFA3B6DDAB58C7E8E5D944E736DA4B7046C30E4F460FD9DE4F09A2DD083BBA00', 'TakerGetsCurrency': '0000000000000000000000000000000000000000', 'TakerGetsIssuer': '0000000000000000000000000000000000000000', 'TakerPaysCurrency': '0000000000000000000000005553440000000000', 'TakerPaysIssuer': '0A20B3C85F482532A9578DBB3950B85CA06594D1'}, 'LedgerEntryType': 'DirectoryNode', 'LedgerIndex': 'DFA3B6DDAB58C7E8E5D944E736DA4B7046C30E4F460FD9DE4F09A2DD083BBA00'}}], 'TransactionIndex': 0, 'TransactionResult': 'tesSUCCESS'}, 'tx_json': {'Account': 'rN1oqezvgJJpHxD4sGy5XrszBd79SugkMY', 'Fee': '10', 'Flags': 0, 'LastLedgerSequence': 94057573, 'OfferSequence': 365, 'Sequence': 366, 'SigningPubKey': '031B9D47540080B8E574BEE025A84D1D76241C1DE58AAE39165DA6C464071F067D', 'TransactionType': 'OfferCancel', 'TxnSignature': '304402200D5891C1A122DED1D83C4376503A6ECE0C61AF0276350C715BF5E8C405D040D80220101E1C0720FB3232F3FD54F4B79B77A74E6BCE3BC7DAFC4154FBD01C73C7ACD1', 'date': 792529991, 'ledger_index': 94057555}, 'validated': True}, id=None, type=<ResponseType.RESPONSE: 'response'>)\n"
     ]
    }
   ],
   "source": [
    "import asyncio\n",
    "import xrpl\n",
    "from xrpl.wallet import Wallet\n",
    "from xrpl.models.transactions import OfferCancel\n",
    "from xrpl.transaction import submit_and_wait\n",
    "from xrpl.account import get_next_valid_seq_number\n",
    "\n",
    "async def cancel_order(wallet_seed, offer_sequence):\n",
    "    client = xrpl.clients.JsonRpcClient(\"https://xrplcluster.com\")  # Mainnet\n",
    "    client = xrpl.clients.JsonRpcClient(\"https://s.altnet.rippletest.net:51234\")  # Testnet\n",
    "\n",
    "    # Load the wallet\n",
    "    wallet = Wallet.from_seed(wallet_seed, algorithm=\"secp256k1\")  # Ensure correct key type\n",
    "\n",
    "    # Fetch the correct sequence number\n",
    "    account_sequence = await asyncio.to_thread(get_next_valid_seq_number, wallet.classic_address, client)\n",
    "\n",
    "    # Create the OfferCancel transaction\n",
    "    cancel_tx = OfferCancel(\n",
    "        account=wallet.classic_address,\n",
    "        offer_sequence=offer_sequence,\n",
    "        sequence=account_sequence\n",
    "    )\n",
    "\n",
    "    # Submit the transaction and wait for confirmation\n",
    "    response = await asyncio.to_thread(submit_and_wait, cancel_tx, client, wallet)\n",
    "\n",
    "    # Display transaction response\n",
    "    print(\"\\nTransaction Response:\")\n",
    "    print(response)\n",
    "\n",
    "# 🔥 Example: Cancel an order with sequence number 123456\n",
    "wallet_seed = os.getenv(\"XRPL_ACCOUNT_SECRET\")  # Replace with your real wallet seed\n",
    "offer_sequence = 365  # Replace with the sequence number of the order to cancel\n",
    "\n",
    "\n",
    "await cancel_order(wallet_seed, offer_sequence)"
   ]
  }
 ],
 "metadata": {
  "hide_input": false,
  "kernelspec": {
   "display_name": "Python 3 (ipykernel)",
   "language": "python",
   "name": "python3"
  },
  "language_info": {
   "codemirror_mode": {
    "name": "ipython",
    "version": 3
   },
   "file_extension": ".py",
   "mimetype": "text/x-python",
   "name": "python",
   "nbconvert_exporter": "python",
   "pygments_lexer": "ipython3",
   "version": "3.9.13"
  },
  "toc": {
   "base_numbering": 1,
   "nav_menu": {},
   "number_sections": true,
   "sideBar": true,
   "skip_h1_title": false,
   "title_cell": "Table of Contents",
   "title_sidebar": "Contents",
   "toc_cell": false,
   "toc_position": {},
   "toc_section_display": true,
   "toc_window_display": false
  },
  "varInspector": {
   "cols": {
    "lenName": 16,
    "lenType": 16,
    "lenVar": 40
   },
   "kernels_config": {
    "python": {
     "delete_cmd_postfix": "",
     "delete_cmd_prefix": "del ",
     "library": "var_list.py",
     "varRefreshCmd": "print(var_dic_list())"
    },
    "r": {
     "delete_cmd_postfix": ") ",
     "delete_cmd_prefix": "rm(",
     "library": "var_list.r",
     "varRefreshCmd": "cat(var_dic_list()) "
    }
   },
   "types_to_exclude": [
    "module",
    "function",
    "builtin_function_or_method",
    "instance",
    "_Feature"
   ],
   "window_display": false
  }
 },
 "nbformat": 4,
 "nbformat_minor": 5
}
