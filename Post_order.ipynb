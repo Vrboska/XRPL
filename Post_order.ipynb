{
 "cells": [
  {
   "cell_type": "markdown",
   "id": "29956edc",
   "metadata": {},
   "source": [
    "### Post order"
   ]
  },
  {
   "cell_type": "code",
   "execution_count": 61,
   "id": "7b67a07c",
   "metadata": {
    "ExecuteTime": {
     "end_time": "2025-02-12T19:00:45.252799Z",
     "start_time": "2025-02-12T19:00:34.790177Z"
    }
   },
   "outputs": [
    {
     "name": "stdout",
     "output_type": "stream",
     "text": [
      "rN1oqezvgJJpHxD4sGy5XrszBd79SugkMY\n"
     ]
    },
    {
     "name": "stderr",
     "output_type": "stream",
     "text": [
      "C:\\Users\\AZUBA\\anaconda3\\lib\\urllib\\parse.py:112: RuntimeWarning: coroutine 'check_order_status' was never awaited\n",
      "  return tuple(x.decode(encoding, errors) if x else '' for x in args)\n",
      "RuntimeWarning: Enable tracemalloc to get the object allocation traceback\n",
      "C:\\Users\\AZUBA\\anaconda3\\lib\\site-packages\\httpcore\\_backends\\anyio.py:114: RuntimeWarning: coroutine 'AsyncClient.request' was never awaited\n",
      "  with anyio.fail_after(timeout):\n",
      "RuntimeWarning: Enable tracemalloc to get the object allocation traceback\n"
     ]
    },
    {
     "name": "stdout",
     "output_type": "stream",
     "text": [
      "\n",
      "Transaction Response:\n",
      "Response(status=<ResponseStatus.SUCCESS: 'success'>, result={'close_time_iso': '2025-02-12T19:00:42Z', 'ctid': 'C04915F200000001', 'hash': '7654950322BDD83EBFDF9777CB024FEFAD5B3C3C77FBD003030A0281D35FC60D', 'ledger_hash': 'C26096C019AD139E4EC3B56E1360F9C61ACC370DF913E645B44CA92FFAA8C7D8', 'ledger_index': 4789746, 'meta': {'AffectedNodes': [{'CreatedNode': {'LedgerEntryType': 'Offer', 'LedgerIndex': '38326784D9ADEB7FFB5B2C054B82102E4E1CD6EA9866575DFA47553E3266614A', 'NewFields': {'Account': 'rN1oqezvgJJpHxD4sGy5XrszBd79SugkMY', 'BookDirectory': 'DFA3B6DDAB58C7E8E5D944E736DA4B7046C30E4F460FD9DE4F09A2DD083BBA00', 'Sequence': 4732687, 'TakerGets': '10000000', 'TakerPays': {'currency': 'USD', 'issuer': 'rvYAfWj5gh67oV6fW32ZzP3Aw4Eubs59B', 'value': '27.12345'}}}}, {'ModifiedNode': {'FinalFields': {'Account': 'rN1oqezvgJJpHxD4sGy5XrszBd79SugkMY', 'Balance': '99999920', 'Flags': 0, 'OwnerCount': 4, 'Sequence': 4732688}, 'LedgerEntryType': 'AccountRoot', 'LedgerIndex': '621598FB064E9B32493510B18D16957679C5BCC6D47554A500480972D8D9F151', 'PreviousFields': {'Balance': '99999930', 'OwnerCount': 3, 'Sequence': 4732687}, 'PreviousTxnID': '4F366AD57312D20426CA8AFAA1EF1D2B35197A38263AA3685B2FB080227A77FB', 'PreviousTxnLgrSeq': 4789519}}, {'ModifiedNode': {'FinalFields': {'Flags': 0, 'Owner': 'rN1oqezvgJJpHxD4sGy5XrszBd79SugkMY', 'RootIndex': '73B27B4F47016BCDE3C98A89D311F4D012ECAABF79D6AD12E9DB6F37B2D9F3FD'}, 'LedgerEntryType': 'DirectoryNode', 'LedgerIndex': '73B27B4F47016BCDE3C98A89D311F4D012ECAABF79D6AD12E9DB6F37B2D9F3FD', 'PreviousTxnID': '4F366AD57312D20426CA8AFAA1EF1D2B35197A38263AA3685B2FB080227A77FB', 'PreviousTxnLgrSeq': 4789519}}, {'ModifiedNode': {'FinalFields': {'ExchangeRate': '4f09a2dd083bba00', 'Flags': 0, 'RootIndex': 'DFA3B6DDAB58C7E8E5D944E736DA4B7046C30E4F460FD9DE4F09A2DD083BBA00', 'TakerGetsCurrency': '0000000000000000000000000000000000000000', 'TakerGetsIssuer': '0000000000000000000000000000000000000000', 'TakerPaysCurrency': '0000000000000000000000005553440000000000', 'TakerPaysIssuer': '0A20B3C85F482532A9578DBB3950B85CA06594D1'}, 'LedgerEntryType': 'DirectoryNode', 'LedgerIndex': 'DFA3B6DDAB58C7E8E5D944E736DA4B7046C30E4F460FD9DE4F09A2DD083BBA00', 'PreviousTxnID': '4F366AD57312D20426CA8AFAA1EF1D2B35197A38263AA3685B2FB080227A77FB', 'PreviousTxnLgrSeq': 4789519}}], 'TransactionIndex': 0, 'TransactionResult': 'tesSUCCESS'}, 'tx_json': {'Account': 'rN1oqezvgJJpHxD4sGy5XrszBd79SugkMY', 'Fee': '10', 'Flags': 0, 'LastLedgerSequence': 4789747, 'Sequence': 4732687, 'SigningPubKey': '031B9D47540080B8E574BEE025A84D1D76241C1DE58AAE39165DA6C464071F067D', 'TakerGets': '10000000', 'TakerPays': {'currency': 'USD', 'issuer': 'rvYAfWj5gh67oV6fW32ZzP3Aw4Eubs59B', 'value': '27.12345'}, 'TransactionType': 'OfferCreate', 'TxnSignature': '304402205F2B705934A83097A5B185623C248F71761CB023E2FCACE1D36C01945C74F59802205F8393413E471495414B8280E1F473567C27ECD443CFF67723CF9DF41D98C786', 'date': 792702042, 'ledger_index': 4789746}, 'validated': True}, id=None, type=<ResponseType.RESPONSE: 'response'>)\n"
     ]
    }
   ],
   "source": [
    "import asyncio\n",
    "import xrpl\n",
    "import os\n",
    "from xrpl.wallet import Wallet\n",
    "from xrpl.models.transactions import OfferCreate\n",
    "from xrpl.transaction import submit_and_wait\n",
    "from xrpl.ledger import get_latest_validated_ledger_sequence\n",
    "from xrpl.asyncio.clients import AsyncJsonRpcClient\n",
    "from xrpl.account import get_next_valid_seq_number\n",
    "\n",
    "\n",
    "\n",
    "async def place_order(seed, taker_gets, taker_pays):\n",
    "    client = AsyncJsonRpcClient(\"https://xrplcluster.com\")  # Mainnet\n",
    "    client = AsyncJsonRpcClient(\"https://s.altnet.rippletest.net:51234\")  # Testnet\n",
    "\n",
    "    # Load wallet from the seed\n",
    "    wallet = Wallet.from_seed(seed, algorithm=\"secp256k1\")\n",
    "\n",
    "    print(wallet.classic_address)\n",
    "    # Get the latest ledger index\n",
    "    latest_ledger = await asyncio.to_thread(get_latest_validated_ledger_sequence, client)\n",
    "    sequence = await asyncio.to_thread(get_next_valid_seq_number, wallet.classic_address, client)\n",
    "\n",
    "    # Create the OfferCreate transaction\n",
    "    offer_tx = OfferCreate(\n",
    "        account=wallet.classic_address,\n",
    "        taker_gets=taker_gets,  # What you are selling\n",
    "        taker_pays=taker_pays,  # What you want in return\n",
    "        sequence=sequence,  # Ensure sequence is set\n",
    "        last_ledger_sequence=latest_ledger + 5  # Valid for the next 5 ledgers\n",
    "    )\n",
    "\n",
    "    # Submit the transaction and wait for a result\n",
    "    response = await asyncio.to_thread(submit_and_wait, offer_tx, client, wallet)\n",
    "\n",
    "    # Display transaction response\n",
    "    print(\"\\nTransaction Response:\")\n",
    "    print(response)\n",
    "\n",
    "    return response\n",
    "     \n",
    "# 🔥 Example: Selling 10 XRP for 10 USD issued by an issuer\n",
    "seed = os.getenv(\"XRPL_ACCOUNT_SECRET\")  # Replace with your real wallet seed\n",
    "taker_gets = \"10000000\"  # Amount in drops (10 XRP = 10,000,000 drops)\n",
    "taker_pays = {\n",
    "    \"currency\": \"USD\",\n",
    "    \"issuer\": \"rvYAfWj5gh67oV6fW32ZzP3Aw4Eubs59B\",\n",
    "    \"value\": \"27.12345\"  # Receiving 10 USD\n",
    "}\n",
    "\n",
    "# Run the async function\n",
    "response=await place_order(seed, taker_gets, taker_pays)"
   ]
  },
  {
   "cell_type": "code",
   "execution_count": 62,
   "id": "3cdad766",
   "metadata": {
    "ExecuteTime": {
     "end_time": "2025-02-12T19:00:45.267045Z",
     "start_time": "2025-02-12T19:00:45.254423Z"
    }
   },
   "outputs": [
    {
     "data": {
      "text/plain": [
       "True"
      ]
     },
     "execution_count": 62,
     "metadata": {},
     "output_type": "execute_result"
    }
   ],
   "source": [
    "response.is_successful()"
   ]
  },
  {
   "cell_type": "code",
   "execution_count": 63,
   "id": "878a65f4",
   "metadata": {
    "ExecuteTime": {
     "end_time": "2025-02-12T19:00:45.288385Z",
     "start_time": "2025-02-12T19:00:45.269099Z"
    }
   },
   "outputs": [],
   "source": [
    "if response.is_successful():\n",
    "    offer_sequence=response.result['tx_json']['Sequence']"
   ]
  },
  {
   "cell_type": "markdown",
   "id": "ef02c6b2",
   "metadata": {},
   "source": [
    "### Check order"
   ]
  },
  {
   "cell_type": "code",
   "execution_count": 64,
   "id": "e26d228e",
   "metadata": {
    "ExecuteTime": {
     "end_time": "2025-02-12T19:00:46.184932Z",
     "start_time": "2025-02-12T19:00:45.288385Z"
    },
    "scrolled": false
   },
   "outputs": [
    {
     "name": "stdout",
     "output_type": "stream",
     "text": [
      "🚀 Order 4732687 is still open.\n",
      "Remaining Amount: 10000000 | Price: {'currency': 'USD', 'issuer': 'rvYAfWj5gh67oV6fW32ZzP3Aw4Eubs59B', 'value': '27.12345'}\n"
     ]
    }
   ],
   "source": [
    "import asyncio\n",
    "import os\n",
    "from xrpl.asyncio.clients import AsyncJsonRpcClient\n",
    "from xrpl.wallet import Wallet\n",
    "from xrpl.models.requests import AccountOffers\n",
    "\n",
    "async def check_order_status(seed, offer_sequence):\n",
    "    client = AsyncJsonRpcClient(\"https://xrplcluster.com\")  # Mainnet\n",
    "    client = AsyncJsonRpcClient(\"https://s.altnet.rippletest.net:51234\")  # Testnet\n",
    "\n",
    "    # Load wallet from the seed\n",
    "    wallet = Wallet.from_seed(seed, algorithm=\"secp256k1\")\n",
    "\n",
    "    # Create the AccountOffers request\n",
    "    account_offers = AccountOffers(\n",
    "        account=wallet.classic_address,  # Use wallet address\n",
    "        ledger_index=\"validated\"\n",
    "    )\n",
    "\n",
    "    # Send request to XRPL\n",
    "    response = await client.request(account_offers)\n",
    "    result = response.result\n",
    "\n",
    "    if \"offers\" in result:\n",
    "        for offer in result[\"offers\"]:\n",
    "            if offer[\"seq\"] == offer_sequence:\n",
    "                print(f\"🚀 Order {offer_sequence} is still open.\")\n",
    "                print(f\"Remaining Amount: {offer['taker_gets']} | Price: {offer['taker_pays']}\")\n",
    "                return\n",
    "        print(f\"✅ Order {offer_sequence} has been **fully traded** (removed from open offers).\")\n",
    "    else:\n",
    "        print(f\"✅ Order {offer_sequence} has been **fully traded** or never existed.\")\n",
    "\n",
    "    await client.close()\n",
    "\n",
    "# Replace with your XRP wallet secret and order sequence number\n",
    "wallet_seed = os.getenv(\"XRPL_ACCOUNT_SECRET\")  # Load from environment variable\n",
    "\n",
    "# Run the async function\n",
    "await check_order_status(wallet_seed, offer_sequence)"
   ]
  },
  {
   "cell_type": "markdown",
   "id": "f47496f9",
   "metadata": {},
   "source": [
    "### Delete order"
   ]
  },
  {
   "cell_type": "code",
   "execution_count": 66,
   "id": "b0e7866b",
   "metadata": {
    "ExecuteTime": {
     "end_time": "2025-02-12T19:01:54.712013Z",
     "start_time": "2025-02-12T19:01:41.211802Z"
    }
   },
   "outputs": [
    {
     "name": "stdout",
     "output_type": "stream",
     "text": [
      "\n",
      "Transaction Response:\n",
      "Response(status=<ResponseStatus.SUCCESS: 'success'>, result={'close_time_iso': '2025-02-12T19:01:51Z', 'ctid': 'C049160800000001', 'hash': '49FC5437C332F92C09E0FC745546B24B641DDD851730AB3BCA54CAC673A26A20', 'ledger_hash': 'BC682371C042E9E9A89EE9B0D7D8CBBD0C866B7B01728FB2BD38C708324442D2', 'ledger_index': 4789768, 'meta': {'AffectedNodes': [{'ModifiedNode': {'FinalFields': {'Account': 'rN1oqezvgJJpHxD4sGy5XrszBd79SugkMY', 'Balance': '99999900', 'Flags': 0, 'OwnerCount': 3, 'Sequence': 4732690}, 'LedgerEntryType': 'AccountRoot', 'LedgerIndex': '621598FB064E9B32493510B18D16957679C5BCC6D47554A500480972D8D9F151', 'PreviousFields': {'Balance': '99999910', 'Sequence': 4732689}, 'PreviousTxnID': '037BA5A4AE17B5F1EF53394520EEF33A0644507A71BE136FE1CF2137DCE9BB65', 'PreviousTxnLgrSeq': 4789749}}], 'TransactionIndex': 0, 'TransactionResult': 'tesSUCCESS'}, 'tx_json': {'Account': 'rN1oqezvgJJpHxD4sGy5XrszBd79SugkMY', 'Fee': '10', 'Flags': 0, 'LastLedgerSequence': 4789786, 'OfferSequence': 4732687, 'Sequence': 4732689, 'SigningPubKey': '031B9D47540080B8E574BEE025A84D1D76241C1DE58AAE39165DA6C464071F067D', 'TransactionType': 'OfferCancel', 'TxnSignature': '30440220387F46EA5906AC418C65373BCFD1B3290EE7902849007BD9E40DB4EC9CFD1597022026726D297018E67205BDB9AB6C9D4A9DF8161A1E491A6F2AC3E2E3647308C7E7', 'date': 792702111, 'ledger_index': 4789768}, 'validated': True}, id=None, type=<ResponseType.RESPONSE: 'response'>)\n"
     ]
    }
   ],
   "source": [
    "import asyncio\n",
    "import xrpl\n",
    "from xrpl.wallet import Wallet\n",
    "from xrpl.models.transactions import OfferCancel\n",
    "from xrpl.transaction import submit_and_wait\n",
    "from xrpl.account import get_next_valid_seq_number\n",
    "\n",
    "async def cancel_order(wallet_seed, offer_sequence):\n",
    "    client = xrpl.clients.JsonRpcClient(\"https://xrplcluster.com\")  # Mainnet\n",
    "    client = xrpl.clients.JsonRpcClient(\"https://s.altnet.rippletest.net:51234\")  # Testnet\n",
    "\n",
    "    # Load the wallet\n",
    "    wallet = Wallet.from_seed(wallet_seed, algorithm=\"secp256k1\")  # Ensure correct key type\n",
    "\n",
    "    # Fetch the correct sequence number\n",
    "    account_sequence = await asyncio.to_thread(get_next_valid_seq_number, wallet.classic_address, client)\n",
    "\n",
    "    # Create the OfferCancel transaction\n",
    "    cancel_tx = OfferCancel(\n",
    "        account=wallet.classic_address,\n",
    "        offer_sequence=offer_sequence,\n",
    "        sequence=account_sequence\n",
    "    )\n",
    "\n",
    "    # Submit the transaction and wait for confirmation\n",
    "    response = await asyncio.to_thread(submit_and_wait, cancel_tx, client, wallet)\n",
    "\n",
    "    # Display transaction response\n",
    "    print(\"\\nTransaction Response:\")\n",
    "    print(response)\n",
    "\n",
    "# 🔥 Example: Cancel an order with sequence number 123456\n",
    "wallet_seed = os.getenv(\"XRPL_ACCOUNT_SECRET\")  # Replace with your real wallet seed\n",
    "\n",
    "\n",
    "await cancel_order(wallet_seed, offer_sequence)"
   ]
  }
 ],
 "metadata": {
  "hide_input": false,
  "kernelspec": {
   "display_name": "Python 3 (ipykernel)",
   "language": "python",
   "name": "python3"
  },
  "language_info": {
   "codemirror_mode": {
    "name": "ipython",
    "version": 3
   },
   "file_extension": ".py",
   "mimetype": "text/x-python",
   "name": "python",
   "nbconvert_exporter": "python",
   "pygments_lexer": "ipython3",
   "version": "3.9.13"
  },
  "toc": {
   "base_numbering": 1,
   "nav_menu": {},
   "number_sections": true,
   "sideBar": true,
   "skip_h1_title": false,
   "title_cell": "Table of Contents",
   "title_sidebar": "Contents",
   "toc_cell": false,
   "toc_position": {},
   "toc_section_display": true,
   "toc_window_display": false
  },
  "varInspector": {
   "cols": {
    "lenName": 16,
    "lenType": 16,
    "lenVar": 40
   },
   "kernels_config": {
    "python": {
     "delete_cmd_postfix": "",
     "delete_cmd_prefix": "del ",
     "library": "var_list.py",
     "varRefreshCmd": "print(var_dic_list())"
    },
    "r": {
     "delete_cmd_postfix": ") ",
     "delete_cmd_prefix": "rm(",
     "library": "var_list.r",
     "varRefreshCmd": "cat(var_dic_list()) "
    }
   },
   "types_to_exclude": [
    "module",
    "function",
    "builtin_function_or_method",
    "instance",
    "_Feature"
   ],
   "window_display": false
  }
 },
 "nbformat": 4,
 "nbformat_minor": 5
}
