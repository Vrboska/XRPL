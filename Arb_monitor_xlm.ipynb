{
 "cells": [
  {
   "cell_type": "code",
   "execution_count": 9,
   "id": "26c5d096",
   "metadata": {
    "ExecuteTime": {
     "end_time": "2025-02-10T17:38:57.291532Z",
     "start_time": "2025-02-10T17:38:57.279705Z"
    }
   },
   "outputs": [],
   "source": [
    "import sys\n",
    "sys.path.append(r'C:/Users/andrej/Projects/Untitled Folder/')"
   ]
  },
  {
   "cell_type": "code",
   "execution_count": 10,
   "id": "599a14e4",
   "metadata": {
    "ExecuteTime": {
     "end_time": "2025-02-10T17:38:57.764382Z",
     "start_time": "2025-02-10T17:38:57.759688Z"
    }
   },
   "outputs": [],
   "source": [
    "import cfRestApiV3 as cfApi\n",
    "import datetime\n",
    "import pandas as pd\n",
    "import json\n",
    "import matplotlib.pyplot as plt\n",
    "import os"
   ]
  },
  {
   "cell_type": "code",
   "execution_count": 3,
   "id": "8f4ae0f3",
   "metadata": {
    "ExecuteTime": {
     "end_time": "2025-02-10T17:37:43.281012Z",
     "start_time": "2025-02-10T17:37:43.088127Z"
    },
    "code_folding": [
     3
    ]
   },
   "outputs": [
    {
     "ename": "ValueError",
     "evalue": "EMAIL_PASSWORD system variable not set",
     "output_type": "error",
     "traceback": [
      "\u001b[1;31m---------------------------------------------------------------------------\u001b[0m",
      "\u001b[1;31mValueError\u001b[0m                                Traceback (most recent call last)",
      "\u001b[1;32m~\\AppData\\Local\\Temp\\ipykernel_32096\\3715466355.py\u001b[0m in \u001b[0;36m<module>\u001b[1;34m\u001b[0m\n\u001b[0;32m      3\u001b[0m \u001b[0mEMAIL_PASSWORD\u001b[0m \u001b[1;33m=\u001b[0m \u001b[0mos\u001b[0m\u001b[1;33m.\u001b[0m\u001b[0mgetenv\u001b[0m\u001b[1;33m(\u001b[0m\u001b[1;34m'EMAIL_PASSWORD'\u001b[0m\u001b[1;33m)\u001b[0m \u001b[1;31m# the password needs to be set as EMAIL_PASSWORD in system variables of the computer where the process is running, it is located in S:/Algo/email_password.txt\u001b[0m\u001b[1;33m\u001b[0m\u001b[1;33m\u001b[0m\u001b[0m\n\u001b[0;32m      4\u001b[0m \u001b[1;32mif\u001b[0m \u001b[0mEMAIL_PASSWORD\u001b[0m \u001b[1;32mis\u001b[0m \u001b[1;32mNone\u001b[0m\u001b[1;33m:\u001b[0m\u001b[1;33m\u001b[0m\u001b[1;33m\u001b[0m\u001b[0m\n\u001b[1;32m----> 5\u001b[1;33m     \u001b[1;32mraise\u001b[0m \u001b[0mValueError\u001b[0m\u001b[1;33m(\u001b[0m\u001b[1;34m\"EMAIL_PASSWORD system variable not set\"\u001b[0m\u001b[1;33m)\u001b[0m\u001b[1;33m\u001b[0m\u001b[1;33m\u001b[0m\u001b[0m\n\u001b[0m\u001b[0;32m      6\u001b[0m \u001b[1;33m\u001b[0m\u001b[0m\n\u001b[0;32m      7\u001b[0m \u001b[0mRECIPIENT\u001b[0m \u001b[1;33m=\u001b[0m \u001b[1;33m[\u001b[0m\u001b[1;34m\"azubal@hotmail.com\"\u001b[0m\u001b[1;33m]\u001b[0m \u001b[1;31m# can also be a list of recipients\u001b[0m\u001b[1;33m\u001b[0m\u001b[1;33m\u001b[0m\u001b[0m\n",
      "\u001b[1;31mValueError\u001b[0m: EMAIL_PASSWORD system variable not set"
     ]
    }
   ],
   "source": [
    "from Utilities.email_sending import send_plain_email, send_html_email\n",
    "\n",
    "EMAIL_PASSWORD = os.getenv('EMAIL_PASSWORD') # the password needs to be set as EMAIL_PASSWORD in system variables of the computer where the process is running, it is located in S:/Algo/email_password.txt\n",
    "if EMAIL_PASSWORD is None:\n",
    "    raise ValueError(\"EMAIL_PASSWORD system variable not set\")\n",
    "\n",
    "RECIPIENT = [\"azubal@hotmail.com\"] # can also be a list of recipients"
   ]
  },
  {
   "cell_type": "code",
   "execution_count": 4,
   "id": "08460ec3",
   "metadata": {
    "ExecuteTime": {
     "end_time": "2025-02-10T17:38:17.705937Z",
     "start_time": "2025-02-10T17:38:17.700369Z"
    },
    "code_folding": [
     0,
     10
    ]
   },
   "outputs": [],
   "source": [
    "def convert_to_html_content(input_string):\n",
    "    # Split the input string by the newline character\n",
    "    lines = input_string.split('\\n')\n",
    "    # Wrap each line in a <p> tag\n",
    "    html_lines = [f\"<p>{line}</p>\" for line in lines]\n",
    "    # Join the lines into a single HTML string\n",
    "    html_content = '\\n'.join(html_lines)\n",
    "    return html_content\n",
    "\n",
    "\n",
    "def convert_dataframe_to_html_content(df):\n",
    "    # Convert the DataFrame to an HTML table\n",
    "    html_content = '<table border=\"1\" cellpadding=\"5\" cellspacing=\"0\" style=\"border-collapse: collapse;\">\\n'\n",
    "\n",
    "    # Add the header row\n",
    "    name = 'Order Book'\n",
    "    html_content += '  <tr>\\n'\n",
    "    html_content += f'    <th>{name}</th>\\n'\n",
    "    for column in df.columns:\n",
    "        html_content += f'    <th>{column}</th>\\n'\n",
    "    html_content += '  </tr>\\n'\n",
    "\n",
    "    # Add the data rows\n",
    "    for idx, row in df.iterrows():\n",
    "        html_content += '  <tr>\\n'\n",
    "        html_content += f'    <td>{idx}</td>\\n'  # Add the index as the first column\n",
    "        for item in row:\n",
    "            html_content += f'    <td>{item}</td>\\n'\n",
    "        html_content += '  </tr>\\n'\n",
    "\n",
    "    # Close the HTML table\n",
    "    html_content += '</table>'\n",
    "\n",
    "    return html_content"
   ]
  },
  {
   "cell_type": "code",
   "execution_count": 5,
   "id": "b8f2d3b0",
   "metadata": {
    "ExecuteTime": {
     "end_time": "2025-02-10T17:38:18.161757Z",
     "start_time": "2025-02-10T17:38:18.156745Z"
    },
    "code_folding": [
     0
    ]
   },
   "outputs": [],
   "source": [
    "# accessible on your Account page under Settings -> API Keys\n",
    "apiPublicKey = \"X0J+mG76qUHLfr7G4Yk0/cSX7+T7cApznHo2opaEOOqNZKed2AmDFuMI\"\n",
    "# accessible on your Account page under Settings -> API Keys\n",
    "apiPrivateKey = \"YMyZG6GhXNmvW/ZvLzFp5zxTX+dmfPJCp8Vzamz8LJ+CBmQmloF7yBC3/sD3mNrMw8i8CtNqMnd9233v3+6kpUlT\""
   ]
  },
  {
   "cell_type": "code",
   "execution_count": 6,
   "id": "c85a6c61",
   "metadata": {
    "ExecuteTime": {
     "end_time": "2025-02-10T17:38:18.592492Z",
     "start_time": "2025-02-10T17:38:18.588946Z"
    },
    "code_folding": [
     0
    ]
   },
   "outputs": [],
   "source": [
    "# use \"api.cryptofacilities.com\" if your IP is whitelisted (Settings -> API Keys -> IP Whitelist)\n",
    "apiPath = \"https://www.cryptofacilities.com\"\n",
    "timeout = 20\n",
    "checkCertificate = True  # when using the test environment, this must be set to \"False\"\n",
    "useNonce = False  # nonce is optional\n",
    "\n",
    "cfPublic = cfApi.cfApiMethods(\n",
    "    apiPath, timeout=timeout, checkCertificate=checkCertificate)\n",
    "cfPrivate = cfApi.cfApiMethods(apiPath, timeout=timeout, apiPublicKey=apiPublicKey,\n",
    "                               apiPrivateKey=apiPrivateKey, checkCertificate=checkCertificate, useNonce=useNonce)"
   ]
  },
  {
   "cell_type": "markdown",
   "id": "b53e0948",
   "metadata": {
    "ExecuteTime": {
     "end_time": "2025-02-07T14:37:52.449006Z",
     "start_time": "2025-02-07T14:37:52.443394Z"
    }
   },
   "source": [
    "# XRP FUTURE PRICE ON KRAKEN"
   ]
  },
  {
   "cell_type": "code",
   "execution_count": 7,
   "id": "eee95733",
   "metadata": {
    "ExecuteTime": {
     "end_time": "2025-02-10T17:38:19.955424Z",
     "start_time": "2025-02-10T17:38:19.299817Z"
    }
   },
   "outputs": [
    {
     "name": "stdout",
     "output_type": "stream",
     "text": [
      "0.315785\n"
     ]
    },
    {
     "data": {
      "text/html": [
       "<div>\n",
       "<style scoped>\n",
       "    .dataframe tbody tr th:only-of-type {\n",
       "        vertical-align: middle;\n",
       "    }\n",
       "\n",
       "    .dataframe tbody tr th {\n",
       "        vertical-align: top;\n",
       "    }\n",
       "\n",
       "    .dataframe thead th {\n",
       "        text-align: right;\n",
       "    }\n",
       "</style>\n",
       "<table border=\"1\" class=\"dataframe\">\n",
       "  <thead>\n",
       "    <tr style=\"text-align: right;\">\n",
       "      <th></th>\n",
       "      <th>0</th>\n",
       "      <th>1</th>\n",
       "      <th>2</th>\n",
       "      <th>3</th>\n",
       "    </tr>\n",
       "  </thead>\n",
       "  <tbody>\n",
       "    <tr>\n",
       "      <th>0</th>\n",
       "      <td>PF_XLMUSD</td>\n",
       "      <td>0.31593</td>\n",
       "      <td>0.31559</td>\n",
       "      <td>0.31598</td>\n",
       "    </tr>\n",
       "  </tbody>\n",
       "</table>\n",
       "</div>"
      ],
      "text/plain": [
       "           0        1        2        3\n",
       "0  PF_XLMUSD  0.31593  0.31559  0.31598"
      ]
     },
     "execution_count": 7,
     "metadata": {},
     "output_type": "execute_result"
    }
   ],
   "source": [
    "# # get prices\n",
    "symbol='PF_XLMUSD'\n",
    "tickers=json.loads(cfPublic.get_tickers())['tickers'] \n",
    "result =[(x['symbol'], x.get('last', None), x.get('bid', None),  x.get('ask', None)) for x in tickers if x['symbol']==symbol]\n",
    "mid_price=(result[0][3]+result[0][2])/2\n",
    "print(mid_price)\n",
    "pd.DataFrame(result)"
   ]
  },
  {
   "cell_type": "markdown",
   "id": "64a49dcc",
   "metadata": {},
   "source": [
    "# XRP LEDGER ORDERBOOK"
   ]
  },
  {
   "cell_type": "code",
   "execution_count": 11,
   "id": "94d5b619",
   "metadata": {
    "ExecuteTime": {
     "end_time": "2025-02-10T17:39:04.083328Z",
     "start_time": "2025-02-10T17:39:01.051483Z"
    },
    "code_folding": [
     67
    ],
    "scrolled": false
   },
   "outputs": [
    {
     "name": "stdout",
     "output_type": "stream",
     "text": [
      "{'Account': 'raHmRZScJY6cGBxQajh1fzcR5m5kPimhjs', 'BookDirectory': '6CBB129B3E0CFA256B1B850725F7FAF62F4EA634A79FB2F554187152D40E0000', 'BookNode': '0', 'Flags': 131072, 'LedgerEntryType': 'Offer', 'OwnerNode': '1a', 'PreviousTxnID': 'AC6B30BDF1FA3680173764FC8F4D7E2F9CB9343517A9F91385B6AD35CD88CB6C', 'PreviousTxnLgrSeq': 92306933, 'Sequence': 4880, 'TakerGets': {'currency': 'XLM', 'issuer': 'rKiCet8SdvWxPXnAgYarFUXMh1zCPz432Y', 'value': '25000'}, 'TakerPays': {'currency': 'USD', 'issuer': 'rvYAfWj5gh67oV6fW32ZzP3Aw4Eubs59B', 'value': '17200'}, 'index': '8350025230C8F85F541612BFB92D9A47E6A39DC9D738046DB31DCE9D394E986C', 'owner_funds': '472395.7222100121', 'quality': '0.688'}\n",
      "{'Account': 'raHmRZScJY6cGBxQajh1fzcR5m5kPimhjs', 'BookDirectory': '6CBB129B3E0CFA256B1B850725F7FAF62F4EA634A79FB2F55422BEDBB1E74000', 'BookNode': '0', 'Flags': 131072, 'LedgerEntryType': 'Offer', 'OwnerNode': '0', 'PreviousTxnID': '1A9C69D36895E9BFDBF2CC2927494732F3F7F7E45A3A31116943B87D88A5A50A', 'PreviousTxnLgrSeq': 47859610, 'Sequence': 37, 'TakerGets': {'currency': 'XLM', 'issuer': 'rKiCet8SdvWxPXnAgYarFUXMh1zCPz432Y', 'value': '50000'}, 'TakerPays': {'currency': 'USD', 'issuer': 'rvYAfWj5gh67oV6fW32ZzP3Aw4Eubs59B', 'value': '48900'}, 'index': '9560CFC5485CE0DDAC01AD8B051830480B07757EDCEB15F6646DBE43A76AED18', 'quality': '0.978'}\n",
      "{'Account': 'raHmRZScJY6cGBxQajh1fzcR5m5kPimhjs', 'BookDirectory': '6CBB129B3E0CFA256B1B850725F7FAF62F4EA634A79FB2F55505420D5A448000', 'BookNode': '0', 'Flags': 131072, 'LedgerEntryType': 'Offer', 'OwnerNode': '0', 'PreviousTxnID': '187F35975C08A7FFAB3A8FF6BFC15AB5CE6BD59B34F5B237D2AEA661C051C468', 'PreviousTxnLgrSeq': 47859619, 'Sequence': 38, 'TakerGets': {'currency': 'XLM', 'issuer': 'rKiCet8SdvWxPXnAgYarFUXMh1zCPz432Y', 'value': '50000'}, 'TakerPays': {'currency': 'USD', 'issuer': 'rvYAfWj5gh67oV6fW32ZzP3Aw4Eubs59B', 'value': '74000'}, 'index': 'A27B390A31D66EBEDDCAC01FEB6968B3584E41D12733AF6B6B451CEA78EF789B', 'quality': '1.48'}\n",
      "{'Account': 'rUMPg9YKN9s3crUMnYL9DeyrxktUFaurGV', 'BookDirectory': '6CBB129B3E0CFA256B1B850725F7FAF62F4EA634A79FB2F5550A3B5840F40000', 'BookNode': '0', 'Flags': 131072, 'LedgerEntryType': 'Offer', 'OwnerNode': 'bf', 'PreviousTxnID': 'F32AD3CE1735BF959732D2D43CFC42C194DA4B9CB28EF46631FFFF7A67DED521', 'PreviousTxnLgrSeq': 38961647, 'Sequence': 40531, 'TakerGets': {'currency': 'XLM', 'issuer': 'rKiCet8SdvWxPXnAgYarFUXMh1zCPz432Y', 'value': '10000'}, 'TakerPays': {'currency': 'USD', 'issuer': 'rvYAfWj5gh67oV6fW32ZzP3Aw4Eubs59B', 'value': '28800'}, 'index': '69BA111EFD7C620C477614405F1BD5D2D21AEB5F2CEE43BBE668E26716A07DF3', 'owner_funds': '26.8164327669', 'quality': '2.88', 'taker_gets_funded': {'currency': 'XLM', 'issuer': 'rKiCet8SdvWxPXnAgYarFUXMh1zCPz432Y', 'value': '26.8164327669'}, 'taker_pays_funded': {'currency': 'USD', 'issuer': 'rvYAfWj5gh67oV6fW32ZzP3Aw4Eubs59B', 'value': '77.231326368672'}}\n",
      "{'Account': 'rBHbfQ9qYeaWestVred9zSxzt9ccxWrW8H', 'BookDirectory': '6CBB129B3E0CFA256B1B850725F7FAF62F4EA634A79FB2F5550DD01D8AE30000', 'BookNode': '0', 'Flags': 131072, 'LedgerEntryType': 'Offer', 'OwnerNode': '71', 'PreviousTxnID': '6D2C83C5489142A995A4E5D1101958E135E29BE65C9BDAAA1412912B7161A437', 'PreviousTxnLgrSeq': 41907435, 'Sequence': 26033, 'TakerGets': {'currency': 'XLM', 'issuer': 'rKiCet8SdvWxPXnAgYarFUXMh1zCPz432Y', 'value': '19888'}, 'TakerPays': {'currency': 'USD', 'issuer': 'rvYAfWj5gh67oV6fW32ZzP3Aw4Eubs59B', 'value': '77324.544'}, 'index': '38E1EB678CEAE7B14C0BB46941603D92B87E832CDE991F317CF35867C1865409', 'owner_funds': '14.32416721588864', 'quality': '3.888', 'taker_gets_funded': {'currency': 'XLM', 'issuer': 'rKiCet8SdvWxPXnAgYarFUXMh1zCPz432Y', 'value': '14.32416721588864'}, 'taker_pays_funded': {'currency': 'USD', 'issuer': 'rvYAfWj5gh67oV6fW32ZzP3Aw4Eubs59B', 'value': '55.69236213537503'}}\n",
      "{'Account': 'raHmRZScJY6cGBxQajh1fzcR5m5kPimhjs', 'BookDirectory': '6CBB129B3E0CFA256B1B850725F7FAF62F4EA634A79FB2F55510FB627A06C000', 'BookNode': '0', 'Flags': 131072, 'LedgerEntryType': 'Offer', 'OwnerNode': '0', 'PreviousTxnID': 'B0B4F1A6D7F3F70335E48C8B27C2E3018D43F8372D5E99F6BEE0A3F15F496D69', 'PreviousTxnLgrSeq': 47859624, 'Sequence': 39, 'TakerGets': {'currency': 'XLM', 'issuer': 'rKiCet8SdvWxPXnAgYarFUXMh1zCPz432Y', 'value': '50000'}, 'TakerPays': {'currency': 'USD', 'issuer': 'rvYAfWj5gh67oV6fW32ZzP3Aw4Eubs59B', 'value': '239000'}, 'index': '4D94B2F06E41C8A5D580D2E00F2C773C8A20AC46FC5A39361F1F7E444ED11BF9', 'quality': '4.78'}\n",
      "{'Account': 'rUMPg9YKN9s3crUMnYL9DeyrxktUFaurGV', 'BookDirectory': '6CBB129B3E0CFA256B1B850725F7FAF62F4EA634A79FB2F5551F8C501D9B0000', 'BookNode': '0', 'Flags': 131072, 'LedgerEntryType': 'Offer', 'OwnerNode': 'bf', 'PreviousTxnID': '51398DDD20741A8854DFC4E4612F6C950986A38B26A2ACFB6C0297347924C675', 'PreviousTxnLgrSeq': 38961651, 'Sequence': 40532, 'TakerGets': {'currency': 'XLM', 'issuer': 'rKiCet8SdvWxPXnAgYarFUXMh1zCPz432Y', 'value': '10000'}, 'TakerPays': {'currency': 'USD', 'issuer': 'rvYAfWj5gh67oV6fW32ZzP3Aw4Eubs59B', 'value': '88800'}, 'index': 'CAF1E3857956DF43A95B54A65939E43DF492B9081F306EC6FE5DE9EBFFB4EA50', 'quality': '8.88', 'taker_gets_funded': {'currency': 'XLM', 'issuer': 'rKiCet8SdvWxPXnAgYarFUXMh1zCPz432Y', 'value': '0'}, 'taker_pays_funded': {'currency': 'USD', 'issuer': 'rvYAfWj5gh67oV6fW32ZzP3Aw4Eubs59B', 'value': '0'}}\n",
      "{'Account': 'rUMPg9YKN9s3crUMnYL9DeyrxktUFaurGV', 'BookDirectory': '6CBB129B3E0CFA256B1B850725F7FAF62F4EA634A79FB2F5560820EC833F0000', 'BookNode': '0', 'Flags': 131072, 'LedgerEntryType': 'Offer', 'OwnerNode': 'bf', 'PreviousTxnID': '0AB561E6622BE4D880E9C8F2EE8EA5927FFAE5313077EAFC06AA3F48CBCF6FED', 'PreviousTxnLgrSeq': 38961656, 'Sequence': 40533, 'TakerGets': {'currency': 'XLM', 'issuer': 'rKiCet8SdvWxPXnAgYarFUXMh1zCPz432Y', 'value': '10000'}, 'TakerPays': {'currency': 'USD', 'issuer': 'rvYAfWj5gh67oV6fW32ZzP3Aw4Eubs59B', 'value': '228800'}, 'index': 'C444DBFD9925406F49BB5CB88EAD4DADC89BA82639ECA4993D4528438A119DFB', 'quality': '22.88', 'taker_gets_funded': {'currency': 'XLM', 'issuer': 'rKiCet8SdvWxPXnAgYarFUXMh1zCPz432Y', 'value': '0'}, 'taker_pays_funded': {'currency': 'USD', 'issuer': 'rvYAfWj5gh67oV6fW32ZzP3Aw4Eubs59B', 'value': '0'}}\n",
      "{'Account': 'rUMPg9YKN9s3crUMnYL9DeyrxktUFaurGV', 'BookDirectory': '6CBB129B3E0CFA256B1B850725F7FAF62F4EA634A79FB2F5560F96DCDD464000', 'BookNode': '0', 'Flags': 131072, 'LedgerEntryType': 'Offer', 'OwnerNode': 'bf', 'PreviousTxnID': '44E9CC145BD584809737338F1B84181AA1E6CDE59E75B21C4C1A245CD554748C', 'PreviousTxnLgrSeq': 38961660, 'Sequence': 40534, 'TakerGets': {'currency': 'XLM', 'issuer': 'rKiCet8SdvWxPXnAgYarFUXMh1zCPz432Y', 'value': '10000'}, 'TakerPays': {'currency': 'USD', 'issuer': 'rvYAfWj5gh67oV6fW32ZzP3Aw4Eubs59B', 'value': '438800'}, 'index': '2A620A7904CBD234BB1309FC0B46DE70676F5AAC0B019BDBB94F223FFB661D35', 'quality': '43.88', 'taker_gets_funded': {'currency': 'XLM', 'issuer': 'rKiCet8SdvWxPXnAgYarFUXMh1zCPz432Y', 'value': '0'}, 'taker_pays_funded': {'currency': 'USD', 'issuer': 'rvYAfWj5gh67oV6fW32ZzP3Aw4Eubs59B', 'value': '0'}}\n",
      "{'Account': 'rUMPg9YKN9s3crUMnYL9DeyrxktUFaurGV', 'BookDirectory': '6CBB129B3E0CFA256B1B850725F7FAF62F4EA634A79FB2F55620FF6304AC8000', 'BookNode': '0', 'Flags': 131072, 'LedgerEntryType': 'Offer', 'OwnerNode': 'bf', 'PreviousTxnID': '8F80AACE6D64E9119E876C312EAF5F5059D6032DC6D2A4C7D7A434F66D30CB27', 'PreviousTxnLgrSeq': 38961666, 'Sequence': 40535, 'TakerGets': {'currency': 'XLM', 'issuer': 'rKiCet8SdvWxPXnAgYarFUXMh1zCPz432Y', 'value': '10000'}, 'TakerPays': {'currency': 'USD', 'issuer': 'rvYAfWj5gh67oV6fW32ZzP3Aw4Eubs59B', 'value': '928800'}, 'index': '05B9571BBE8E7C056E694C78D6C5CE617389FBAB662D2A25C1C300F5C2A81654', 'quality': '92.88', 'taker_gets_funded': {'currency': 'XLM', 'issuer': 'rKiCet8SdvWxPXnAgYarFUXMh1zCPz432Y', 'value': '0'}, 'taker_pays_funded': {'currency': 'USD', 'issuer': 'rvYAfWj5gh67oV6fW32ZzP3Aw4Eubs59B', 'value': '0'}}\n",
      "{'Account': 'r36pnHUHaQfpjFbCVrJXfCHqzJTE8JiY2T', 'BookDirectory': '6CBB129B3E0CFA256B1B850725F7FAF62F4EA634A79FB2F5580E35FA931A0000', 'BookNode': '0', 'Flags': 131072, 'LedgerEntryType': 'Offer', 'OwnerNode': '0', 'PreviousTxnID': '2E06AA2C7A6A380715313EBEE43F5F884355843522C788C38C985A86F0D12265', 'PreviousTxnLgrSeq': 62546359, 'Sequence': 60151617, 'TakerGets': {'currency': 'XLM', 'issuer': 'rKiCet8SdvWxPXnAgYarFUXMh1zCPz432Y', 'value': '100.001'}, 'TakerPays': {'currency': 'USD', 'issuer': 'rvYAfWj5gh67oV6fW32ZzP3Aw4Eubs59B', 'value': '400004'}, 'index': '2918DD62605A34251ED2EE06F802B39192E6C096743347BC175DB47438D8B634', 'owner_funds': '0.000000003655', 'quality': '4000', 'taker_gets_funded': {'currency': 'XLM', 'issuer': 'rKiCet8SdvWxPXnAgYarFUXMh1zCPz432Y', 'value': '0.000000003655'}, 'taker_pays_funded': {'currency': 'USD', 'issuer': 'rvYAfWj5gh67oV6fW32ZzP3Aw4Eubs59B', 'value': '0.00001462'}}\n",
      "0.315785\n",
      "\n",
      "🔹 **ORDER BOOK (Bids on Left, Asks on Right) 🔸\n",
      "BID Amount (XRP) Cumulative XRP  BID Price (USD/XRP) || ASK Price (USD/XRP) Cumulative XRP  ASK Amount (XRP)\n",
      "=====================================================================================\n",
      "99987.81        99987.81        0.012270           || 0.688000           25000.00        25000.00       \n",
      "1000000.00      1099987.81      0.001580           || 0.978000           75000.00        50000.00       \n",
      "                                                   || 1.480000           125000.00       50000.00       \n",
      "                                                   || 2.880000           135000.00       10000.00       \n",
      "                                                   || 3.888000           154888.00       19888.00       \n"
     ]
    }
   ],
   "source": [
    "import asyncio\n",
    "from collections import defaultdict\n",
    "from itertools import accumulate\n",
    "from xrpl.asyncio.clients import AsyncJsonRpcClient\n",
    "from xrpl.models.requests import BookOffers\n",
    "\n",
    "# Define the XRP Ledger JSON-RPC endpoint\n",
    "XRP_LEDGER_RPC = \"https://xrplcluster.com\"  # Public XRP Ledger Full-History Server\n",
    "\n",
    "# Create an async XRP Ledger API client\n",
    "client = AsyncJsonRpcClient(XRP_LEDGER_RPC)\n",
    "\n",
    "# Define the market pair: XRP/USD (Bitstamp Issuer)\n",
    "USD_ISSUER = \"rvYAfWj5gh67oV6fW32ZzP3Aw4Eubs59B\"  # Bitstamp USD issuer\n",
    "USD_CURRENCY = \"USD\"\n",
    "\n",
    "XLM_ISSUER = \"rKiCet8SdvWxPXnAgYarFUXMh1zCPz432Y\"  # Bitstamp USD issuer\n",
    "\n",
    "async def fetch_order_book():\n",
    "    \"\"\" Fetches and displays separate bid and ask offers with cumulative sums. \"\"\"\n",
    "    \n",
    "    # Request bid orders (buy orders) → Users want to BUY XRP, paying USD\n",
    "    bid_request = BookOffers(\n",
    "        taker_gets={\"currency\": \"XLM\", \"issuer\": XLM_ISSUER},  # Buyers receive XRP\n",
    "        taker_pays={\"currency\": USD_CURRENCY, \"issuer\": USD_ISSUER},  # Buyers pay USD\n",
    "        limit=50\n",
    "    )\n",
    "\n",
    "    # Request ask orders (sell orders) → Users want to SELL XRP, receiving USD\n",
    "    ask_request = BookOffers(\n",
    "        taker_gets={\"currency\": USD_CURRENCY, \"issuer\": USD_ISSUER},  # Sellers receive USD\n",
    "        taker_pays={\"currency\": \"XLM\", \"issuer\": XLM_ISSUER},  # Sellers pay XRP\n",
    "        limit=50\n",
    "    )\n",
    "\n",
    "    # Fetch order books concurrently\n",
    "    bid_response, ask_response = await asyncio.gather(\n",
    "        client.request(bid_request), client.request(ask_request)\n",
    "    )\n",
    "\n",
    "    bid_dict = defaultdict(float)  # Bids (Price -> Total XRP Amount)\n",
    "    ask_dict = defaultdict(float)  # Asks (Price -> Total XRP Amount)\n",
    "\n",
    "    # Parse bid orders\n",
    "    for offer in bid_response.result[\"offers\"]:\n",
    "        print(offer)\n",
    "        price = round(float(offer[\"TakerPays\"][\"value\"]) / (float(offer[\"TakerGets\"][\"value\"])), 6)\n",
    "        bid_dict[price] += (float(offer[\"TakerGets\"][\"value\"]))  # Sum XRP amounts\n",
    "\n",
    "    # Parse ask orders\n",
    "    for offer in ask_response.result[\"offers\"]:\n",
    "        price = round(float(offer[\"TakerGets\"][\"value\"]) / (float(offer[\"TakerPays\"][\"value\"])), 6)\n",
    "        ask_dict[price] += (float(offer[\"TakerPays\"][\"value\"]))  # Sum XRP amounts\n",
    "\n",
    "    # Convert to sorted lists\n",
    "    bid_list = sorted(bid_dict.items(), key=lambda x: x[0], reverse=False)[:5]  # Highest bids first\n",
    "    ask_list = sorted(ask_dict.items(), key=lambda x: x[0], reverse=True)[:5]  # Lowest asks first\n",
    "\n",
    "    # Compute cumulative sums\n",
    "    bid_cumsum = list(accumulate(bid[1] for bid in bid_list))\n",
    "    ask_cumsum = list(accumulate(ask[1] for ask in ask_list))\n",
    "\n",
    "    # Print order book with bids on left, asks on right\n",
    "    print(mid_price)\n",
    "    print(\"\\n🔹 **ORDER BOOK (Bids on Left, Asks on Right) 🔸\")\n",
    "    print(f\"{'BID Amount (XRP)':<15} {'Cumulative XRP':<15} {'BID Price (USD/XRP)':<18} || {'ASK Price (USD/XRP)':<18} {'Cumulative XRP':<15} {'ASK Amount (XRP)':<15}\")\n",
    "    print(\"=\" * 85)\n",
    "\n",
    "    bid_result=[]\n",
    "    ask_result=[]\n",
    "\n",
    "    for i in range(max(len(ask_list), len(bid_list))):\n",
    "        bid_amount = f\"{ask_list[i][1]:.2f}\" if i < len(ask_list) else \"\"\n",
    "        bid_cumulative = f\"{ask_cumsum[i]:.2f}\" if i < len(ask_cumsum) else \"\"\n",
    "        bid_price = f\"{ask_list[i][0]:.6f}\" if i < len(ask_list) else \"\"\n",
    "\n",
    "        ask_price = f\"{bid_list[i][0]:.6f}\" if i < len(bid_list) else \"\"\n",
    "        ask_cumulative = f\"{bid_cumsum[i]:.2f}\" if i < len(bid_cumsum) else \"\"\n",
    "        ask_amount = f\"{bid_list[i][1]:.2f}\" if i < len(bid_list) else \"\"\n",
    "\n",
    "        print(f\"{bid_amount:<15} {bid_cumulative:<15} {bid_price:<18} || {ask_price:<18} {ask_cumulative:<15} {ask_amount:<15}\")\n",
    "        \n",
    "        bid_result.append((bid_price, bid_amount, bid_cumulative))\n",
    "        ask_result.append((ask_price, ask_amount, ask_cumulative))\n",
    "\n",
    "    return bid_result, ask_result\n",
    "\n",
    "# Run the async function in Jupyter Notebook\n",
    "bids, asks=await fetch_order_book()\n"
   ]
  },
  {
   "cell_type": "markdown",
   "id": "03d6d175",
   "metadata": {},
   "source": [
    "# Calculating opportunity"
   ]
  },
  {
   "cell_type": "code",
   "execution_count": null,
   "id": "c33dd8d1",
   "metadata": {
    "ExecuteTime": {
     "end_time": "2025-02-10T17:37:43.288540Z",
     "start_time": "2025-02-10T17:37:43.288540Z"
    }
   },
   "outputs": [],
   "source": [
    "best_bid=max([float(x[0]) for x in bids])\n",
    "best_ask=min([float(x[0]) for x in asks])"
   ]
  },
  {
   "cell_type": "code",
   "execution_count": null,
   "id": "bf655ef7",
   "metadata": {
    "ExecuteTime": {
     "end_time": "2025-02-10T17:37:43.289547Z",
     "start_time": "2025-02-10T17:37:43.289547Z"
    },
    "code_folding": []
   },
   "outputs": [],
   "source": [
    "bid_opportunity=0\n",
    "if mid_price>0.997*best_bid:\n",
    "    pass\n",
    "else:\n",
    "    for bid in bids:\n",
    "        if mid_price<=bid[0]:\n",
    "            bid_opportunity+=(0.997*bid[0]-mid_price)*bid[1]\n",
    "print(bid_opportunity)            "
   ]
  },
  {
   "cell_type": "code",
   "execution_count": null,
   "id": "069266bd",
   "metadata": {
    "ExecuteTime": {
     "end_time": "2025-02-10T17:37:43.290553Z",
     "start_time": "2025-02-10T17:37:43.289547Z"
    }
   },
   "outputs": [],
   "source": [
    "ask_opportunity=0\n",
    "if mid_price<1.003*best_ask:\n",
    "    pass\n",
    "else:\n",
    "    for ask in asks:\n",
    "        if mid_price>=ask[0]:\n",
    "            ask_opportunity+=(mid_price-1.003*ask[0])*ask[1]\n",
    "print(ask_opportunity)            "
   ]
  },
  {
   "cell_type": "code",
   "execution_count": null,
   "id": "07a4be18",
   "metadata": {
    "ExecuteTime": {
     "end_time": "2025-02-10T17:37:43.290553Z",
     "start_time": "2025-02-10T17:37:43.290553Z"
    }
   },
   "outputs": [],
   "source": [
    "from datetime import datetime\n",
    "\n",
    "def log_opportunity(filename, opportunity_value):\n",
    "    \"\"\"Appends a timestamp and opportunity value to a text file.\"\"\"\n",
    "    timestamp = datetime.now().strftime('%Y-%m-%d %H:%M:%S')\n",
    "    with open(filename, \"a\") as file:\n",
    "        file.write(f\"{timestamp}, {opportunity_value}\\n\")\n",
    "\n",
    "# Example usage\n",
    "log_opportunity(r'C:/Users/andrej/Projects/Untitled Folder/opportunities_log.txt', bid_opportunity+ask_opportunity)  # Replace with actual opportunity value"
   ]
  },
  {
   "cell_type": "markdown",
   "id": "1aa4b7cf",
   "metadata": {},
   "source": [
    "# Sending email"
   ]
  },
  {
   "cell_type": "code",
   "execution_count": null,
   "id": "b5233b02",
   "metadata": {
    "ExecuteTime": {
     "end_time": "2025-02-10T17:37:43.291539Z",
     "start_time": "2025-02-10T17:37:43.291539Z"
    }
   },
   "outputs": [],
   "source": [
    "html_content = f\"\"\"\\\n",
    "<html>\n",
    "    <body>\n",
    "        \n",
    "        <h1>The opportunity is high</h1>\n",
    "        <p>Opportunity: { bid_opportunity+ask_opportunity}</p> \n",
    "\n",
    "    </body>\n",
    "</html>\n",
    "\"\"\"\n",
    "\n",
    "\n",
    "if bid_opportunity+ask_opportunity>=100:\n",
    "    send_html_email(\n",
    "        RECIPIENT, \n",
    "        f\"XRP opportunity HIGH alert! {bid_opportunity+ask_opportunity}\", \"\", html_content, \"\",\n",
    "            email_password=EMAIL_PASSWORD\n",
    "\n",
    "            )"
   ]
  }
 ],
 "metadata": {
  "hide_input": false,
  "kernelspec": {
   "display_name": "Python 3 (ipykernel)",
   "language": "python",
   "name": "python3"
  },
  "language_info": {
   "codemirror_mode": {
    "name": "ipython",
    "version": 3
   },
   "file_extension": ".py",
   "mimetype": "text/x-python",
   "name": "python",
   "nbconvert_exporter": "python",
   "pygments_lexer": "ipython3",
   "version": "3.9.13"
  },
  "toc": {
   "base_numbering": 1,
   "nav_menu": {},
   "number_sections": true,
   "sideBar": true,
   "skip_h1_title": false,
   "title_cell": "Table of Contents",
   "title_sidebar": "Contents",
   "toc_cell": false,
   "toc_position": {},
   "toc_section_display": true,
   "toc_window_display": false
  },
  "varInspector": {
   "cols": {
    "lenName": 16,
    "lenType": 16,
    "lenVar": 40
   },
   "kernels_config": {
    "python": {
     "delete_cmd_postfix": "",
     "delete_cmd_prefix": "del ",
     "library": "var_list.py",
     "varRefreshCmd": "print(var_dic_list())"
    },
    "r": {
     "delete_cmd_postfix": ") ",
     "delete_cmd_prefix": "rm(",
     "library": "var_list.r",
     "varRefreshCmd": "cat(var_dic_list()) "
    }
   },
   "types_to_exclude": [
    "module",
    "function",
    "builtin_function_or_method",
    "instance",
    "_Feature"
   ],
   "window_display": false
  }
 },
 "nbformat": 4,
 "nbformat_minor": 5
}
