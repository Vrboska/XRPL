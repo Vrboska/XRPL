{
 "cells": [
  {
   "cell_type": "code",
   "execution_count": 1,
   "id": "26c5d096",
   "metadata": {
    "ExecuteTime": {
     "end_time": "2025-02-10T09:34:36.330251Z",
     "start_time": "2025-02-10T09:34:36.326822Z"
    }
   },
   "outputs": [],
   "source": [
    "import sys\n",
    "sys.path.append(r'C:/Users/andrej/Projects/Untitled Folder/')"
   ]
  },
  {
   "cell_type": "code",
   "execution_count": 2,
   "id": "599a14e4",
   "metadata": {
    "ExecuteTime": {
     "end_time": "2025-02-10T09:34:37.041414Z",
     "start_time": "2025-02-10T09:34:36.332256Z"
    }
   },
   "outputs": [],
   "source": [
    "import cfRestApiV3 as cfApi\n",
    "import datetime\n",
    "import pandas as pd\n",
    "import json\n",
    "import matplotlib.pyplot as plt\n",
    "import os"
   ]
  },
  {
   "cell_type": "code",
   "execution_count": 3,
   "id": "8f4ae0f3",
   "metadata": {
    "ExecuteTime": {
     "end_time": "2025-02-10T09:34:37.053012Z",
     "start_time": "2025-02-10T09:34:37.045446Z"
    }
   },
   "outputs": [],
   "source": [
    "from Utilities.email_sending import send_plain_email, send_html_email\n",
    "\n",
    "EMAIL_PASSWORD = os.getenv('EMAIL_PASSWORD') # the password needs to be set as EMAIL_PASSWORD in system variables of the computer where the process is running, it is located in S:/Algo/email_password.txt\n",
    "if EMAIL_PASSWORD is None:\n",
    "    raise ValueError(\"EMAIL_PASSWORD system variable not set\")\n",
    "\n",
    "RECIPIENT = [\"azubal@hotmail.com\"] # can also be a list of recipients"
   ]
  },
  {
   "cell_type": "code",
   "execution_count": 4,
   "id": "08460ec3",
   "metadata": {
    "ExecuteTime": {
     "end_time": "2025-02-10T09:34:37.059813Z",
     "start_time": "2025-02-10T09:34:37.054533Z"
    },
    "code_folding": [
     0,
     10
    ]
   },
   "outputs": [],
   "source": [
    "def convert_to_html_content(input_string):\n",
    "    # Split the input string by the newline character\n",
    "    lines = input_string.split('\\n')\n",
    "    # Wrap each line in a <p> tag\n",
    "    html_lines = [f\"<p>{line}</p>\" for line in lines]\n",
    "    # Join the lines into a single HTML string\n",
    "    html_content = '\\n'.join(html_lines)\n",
    "    return html_content\n",
    "\n",
    "\n",
    "def convert_dataframe_to_html_content(df):\n",
    "    # Convert the DataFrame to an HTML table\n",
    "    html_content = '<table border=\"1\" cellpadding=\"5\" cellspacing=\"0\" style=\"border-collapse: collapse;\">\\n'\n",
    "\n",
    "    # Add the header row\n",
    "    name = 'Order Book'\n",
    "    html_content += '  <tr>\\n'\n",
    "    html_content += f'    <th>{name}</th>\\n'\n",
    "    for column in df.columns:\n",
    "        html_content += f'    <th>{column}</th>\\n'\n",
    "    html_content += '  </tr>\\n'\n",
    "\n",
    "    # Add the data rows\n",
    "    for idx, row in df.iterrows():\n",
    "        html_content += '  <tr>\\n'\n",
    "        html_content += f'    <td>{idx}</td>\\n'  # Add the index as the first column\n",
    "        for item in row:\n",
    "            html_content += f'    <td>{item}</td>\\n'\n",
    "        html_content += '  </tr>\\n'\n",
    "\n",
    "    # Close the HTML table\n",
    "    html_content += '</table>'\n",
    "\n",
    "    return html_content"
   ]
  },
  {
   "cell_type": "code",
   "execution_count": 5,
   "id": "b8f2d3b0",
   "metadata": {
    "ExecuteTime": {
     "end_time": "2025-02-10T09:34:37.065192Z",
     "start_time": "2025-02-10T09:34:37.061823Z"
    },
    "code_folding": [
     0
    ]
   },
   "outputs": [],
   "source": [
    "# accessible on your Account page under Settings -> API Keys\n",
    "apiPublicKey = \"X0J+mG76qUHLfr7G4Yk0/cSX7+T7cApznHo2opaEOOqNZKed2AmDFuMI\"\n",
    "# accessible on your Account page under Settings -> API Keys\n",
    "apiPrivateKey = \"YMyZG6GhXNmvW/ZvLzFp5zxTX+dmfPJCp8Vzamz8LJ+CBmQmloF7yBC3/sD3mNrMw8i8CtNqMnd9233v3+6kpUlT\""
   ]
  },
  {
   "cell_type": "code",
   "execution_count": 6,
   "id": "c85a6c61",
   "metadata": {
    "ExecuteTime": {
     "end_time": "2025-02-10T09:34:37.071704Z",
     "start_time": "2025-02-10T09:34:37.066711Z"
    },
    "code_folding": [
     0
    ]
   },
   "outputs": [],
   "source": [
    "# use \"api.cryptofacilities.com\" if your IP is whitelisted (Settings -> API Keys -> IP Whitelist)\n",
    "apiPath = \"https://www.cryptofacilities.com\"\n",
    "timeout = 20\n",
    "checkCertificate = True  # when using the test environment, this must be set to \"False\"\n",
    "useNonce = False  # nonce is optional\n",
    "\n",
    "cfPublic = cfApi.cfApiMethods(\n",
    "    apiPath, timeout=timeout, checkCertificate=checkCertificate)\n",
    "cfPrivate = cfApi.cfApiMethods(apiPath, timeout=timeout, apiPublicKey=apiPublicKey,\n",
    "                               apiPrivateKey=apiPrivateKey, checkCertificate=checkCertificate, useNonce=useNonce)"
   ]
  },
  {
   "cell_type": "markdown",
   "id": "b53e0948",
   "metadata": {
    "ExecuteTime": {
     "end_time": "2025-02-07T14:37:52.449006Z",
     "start_time": "2025-02-07T14:37:52.443394Z"
    }
   },
   "source": [
    "# XRP FUTURE PRICE ON KRAKEN"
   ]
  },
  {
   "cell_type": "code",
   "execution_count": 7,
   "id": "eee95733",
   "metadata": {
    "ExecuteTime": {
     "end_time": "2025-02-10T09:34:37.547632Z",
     "start_time": "2025-02-10T09:34:37.072709Z"
    }
   },
   "outputs": [
    {
     "name": "stdout",
     "output_type": "stream",
     "text": [
      "0.31813\n"
     ]
    },
    {
     "data": {
      "text/html": [
       "<div>\n",
       "<style scoped>\n",
       "    .dataframe tbody tr th:only-of-type {\n",
       "        vertical-align: middle;\n",
       "    }\n",
       "\n",
       "    .dataframe tbody tr th {\n",
       "        vertical-align: top;\n",
       "    }\n",
       "\n",
       "    .dataframe thead th {\n",
       "        text-align: right;\n",
       "    }\n",
       "</style>\n",
       "<table border=\"1\" class=\"dataframe\">\n",
       "  <thead>\n",
       "    <tr style=\"text-align: right;\">\n",
       "      <th></th>\n",
       "      <th>0</th>\n",
       "      <th>1</th>\n",
       "      <th>2</th>\n",
       "      <th>3</th>\n",
       "    </tr>\n",
       "  </thead>\n",
       "  <tbody>\n",
       "    <tr>\n",
       "      <th>0</th>\n",
       "      <td>PF_XLMUSD</td>\n",
       "      <td>0.31846</td>\n",
       "      <td>0.31794</td>\n",
       "      <td>0.31832</td>\n",
       "    </tr>\n",
       "  </tbody>\n",
       "</table>\n",
       "</div>"
      ],
      "text/plain": [
       "           0        1        2        3\n",
       "0  PF_XLMUSD  0.31846  0.31794  0.31832"
      ]
     },
     "execution_count": 7,
     "metadata": {},
     "output_type": "execute_result"
    }
   ],
   "source": [
    "# # get prices\n",
    "symbol='PF_XLMUSD'\n",
    "tickers=json.loads(cfPublic.get_tickers())['tickers'] \n",
    "result =[(x['symbol'], x.get('last', None), x.get('bid', None),  x.get('ask', None)) for x in tickers if x['symbol']==symbol]\n",
    "mid_price=(result[0][3]+result[0][2])/2\n",
    "print(mid_price)\n",
    "pd.DataFrame(result)"
   ]
  },
  {
   "cell_type": "markdown",
   "id": "64a49dcc",
   "metadata": {},
   "source": [
    "# XRP LEDGER ORDERBOOK"
   ]
  },
  {
   "cell_type": "code",
   "execution_count": 10,
   "id": "94d5b619",
   "metadata": {
    "ExecuteTime": {
     "end_time": "2025-02-10T09:37:24.847361Z",
     "start_time": "2025-02-10T09:37:24.076802Z"
    },
    "code_folding": [
     67
    ],
    "scrolled": false
   },
   "outputs": [
    {
     "name": "stdout",
     "output_type": "stream",
     "text": [
      "\n",
      "🔹 **ORDER BOOK (Bids on Left, Asks on Right) 🔸\n",
      "BID Amount (XLM) Cumulative XLM  BID Price (USD/XLM) || ASK Price (USD/XLM) Cumulative XLM  ASK Amount (XLM)\n",
      "=====================================================================================\n",
      "100.00          100.00          4000.000000        || 0.001580           1000000.00      1000000.00     \n",
      "10000.00        10100.00        92.880000          || 0.012270           1099987.81      99987.81       \n",
      "10000.00        20100.00        43.880000          ||                                                   \n",
      "10000.00        30100.00        22.880000          ||                                                   \n",
      "10000.00        40100.00        8.880000           ||                                                   \n"
     ]
    }
   ],
   "source": [
    "import asyncio\n",
    "from collections import defaultdict\n",
    "from itertools import accumulate\n",
    "from xrpl.asyncio.clients import AsyncJsonRpcClient\n",
    "from xrpl.models.requests import BookOffers\n",
    "\n",
    "# Define the XRP Ledger JSON-RPC endpoint\n",
    "XRP_LEDGER_RPC = \"https://xrplcluster.com\"  # Public XRP Ledger Full-History Server\n",
    "\n",
    "# Create an async XRP Ledger API client\n",
    "client = AsyncJsonRpcClient(XRP_LEDGER_RPC)\n",
    "\n",
    "# Define the market pair: XRP/USD (Bitstamp Issuer)\n",
    "USD_ISSUER = \"rvYAfWj5gh67oV6fW32ZzP3Aw4Eubs59B\"  # Bitstamp USD issuer\n",
    "USD_CURRENCY = \"USD\"\n",
    "\n",
    "XLM_ISSUER = \"rKiCet8SdvWxPXnAgYarFUXMh1zCPz432Y\"  # Bitstamp USD issuer\n",
    "\n",
    "async def fetch_order_book():\n",
    "    \"\"\" Fetches and displays separate bid and ask offers with cumulative sums. \"\"\"\n",
    "    \n",
    "    # Request bid orders (buy orders) → Users want to BUY XRP, paying USD\n",
    "    bid_request = BookOffers(\n",
    "        taker_gets={\"currency\": \"XLM\", \"issuer\": XLM_ISSUER},  # Buyers receive XRP\n",
    "        taker_pays={\"currency\": USD_CURRENCY, \"issuer\": USD_ISSUER},  # Buyers pay USD\n",
    "        limit=50\n",
    "    )\n",
    "\n",
    "    # Request ask orders (sell orders) → Users want to SELL XRP, receiving USD\n",
    "    ask_request = BookOffers(\n",
    "        taker_gets={\"currency\": USD_CURRENCY, \"issuer\": USD_ISSUER},  # Sellers receive USD\n",
    "        taker_pays={\"currency\": \"XLM\", \"issuer\": XLM_ISSUER},  # Sellers pay XRP\n",
    "        limit=50\n",
    "    )\n",
    "\n",
    "    # Fetch order books concurrently\n",
    "    bid_response, ask_response = await asyncio.gather(\n",
    "        client.request(bid_request), client.request(ask_request)\n",
    "    )\n",
    "\n",
    "    bid_dict = defaultdict(float)  # Bids (Price -> Total XRP Amount)\n",
    "    ask_dict = defaultdict(float)  # Asks (Price -> Total XRP Amount)\n",
    "\n",
    "    # Parse bid orders\n",
    "    for offer in bid_response.result[\"offers\"]:\n",
    "        print(offer)\n",
    "        price = round(float(offer[\"TakerPays\"][\"value\"]) / (float(offer[\"TakerGets\"][\"value\"])), 6)\n",
    "        bid_dict[price] += (float(offer[\"TakerGets\"][\"value\"]))  # Sum XRP amounts\n",
    "\n",
    "    # Parse ask orders\n",
    "    for offer in ask_response.result[\"offers\"]:\n",
    "        price = round(float(offer[\"TakerGets\"][\"value\"]) / (float(offer[\"TakerPays\"][\"value\"])), 6)\n",
    "        ask_dict[price] += (float(offer[\"TakerPays\"][\"value\"]))  # Sum XRP amounts\n",
    "\n",
    "    # Convert to sorted lists\n",
    "    bid_list = sorted(bid_dict.items(), key=lambda x: x[0], reverse=False)[:5]  # Highest bids first\n",
    "    ask_list = sorted(ask_dict.items(), key=lambda x: x[0], reverse=True)[:5]  # Lowest asks first\n",
    "\n",
    "    # Compute cumulative sums\n",
    "    bid_cumsum = list(accumulate(bid[1] for bid in bid_list))\n",
    "    ask_cumsum = list(accumulate(ask[1] for ask in ask_list))\n",
    "\n",
    "    # Print order book with bids on left, asks on right\n",
    "    print(mid_price)\n",
    "    print(\"\\n🔹 **ORDER BOOK (Bids on Left, Asks on Right) 🔸\")\n",
    "    print(f\"{'BID Amount (XRP)':<15} {'Cumulative XRP':<15} {'BID Price (USD/XRP)':<18} || {'ASK Price (USD/XRP)':<18} {'Cumulative XRP':<15} {'ASK Amount (XRP)':<15}\")\n",
    "    print(\"=\" * 85)\n",
    "\n",
    "    bid_result=[]\n",
    "    ask_result=[]\n",
    "\n",
    "    for i in range(max(len(ask_list), len(bid_list))):\n",
    "        bid_amount = f\"{ask_list[i][1]:.2f}\" if i < len(ask_list) else \"\"\n",
    "        bid_cumulative = f\"{ask_cumsum[i]:.2f}\" if i < len(ask_cumsum) else \"\"\n",
    "        bid_price = f\"{ask_list[i][0]:.6f}\" if i < len(ask_list) else \"\"\n",
    "\n",
    "        ask_price = f\"{bid_list[i][0]:.6f}\" if i < len(bid_list) else \"\"\n",
    "        ask_cumulative = f\"{bid_cumsum[i]:.2f}\" if i < len(bid_cumsum) else \"\"\n",
    "        ask_amount = f\"{bid_list[i][1]:.2f}\" if i < len(bid_list) else \"\"\n",
    "\n",
    "        print(f\"{bid_amount:<15} {bid_cumulative:<15} {bid_price:<18} || {ask_price:<18} {ask_cumulative:<15} {ask_amount:<15}\")\n",
    "        \n",
    "        bid_result.append((bid_price, bid_amount, bid_cumulative))\n",
    "        ask_result.append((ask_price, ask_amount, ask_cumulative))\n",
    "\n",
    "    return bid_result, ask_result\n",
    "\n",
    "# Run the async function in Jupyter Notebook\n",
    "bids, asks=await fetch_order_book()\n"
   ]
  },
  {
   "cell_type": "markdown",
   "id": "03d6d175",
   "metadata": {},
   "source": [
    "# Calculating opportunity"
   ]
  },
  {
   "cell_type": "code",
   "execution_count": 9,
   "id": "c33dd8d1",
   "metadata": {
    "ExecuteTime": {
     "end_time": "2025-02-10T09:34:39.303894Z",
     "start_time": "2025-02-10T09:34:38.715106Z"
    }
   },
   "outputs": [
    {
     "ename": "ValueError",
     "evalue": "could not convert string to float: ''",
     "output_type": "error",
     "traceback": [
      "\u001b[1;31m---------------------------------------------------------------------------\u001b[0m",
      "\u001b[1;31mValueError\u001b[0m                                Traceback (most recent call last)",
      "Cell \u001b[1;32mIn[9], line 1\u001b[0m\n\u001b[1;32m----> 1\u001b[0m best_bid\u001b[38;5;241m=\u001b[39m\u001b[38;5;28mmax\u001b[39m([\u001b[38;5;28mfloat\u001b[39m(x[\u001b[38;5;241m0\u001b[39m]) \u001b[38;5;28;01mfor\u001b[39;00m x \u001b[38;5;129;01min\u001b[39;00m bids])\n\u001b[0;32m      2\u001b[0m best_ask\u001b[38;5;241m=\u001b[39m\u001b[38;5;28mmin\u001b[39m([\u001b[38;5;28mfloat\u001b[39m(x[\u001b[38;5;241m0\u001b[39m]) \u001b[38;5;28;01mfor\u001b[39;00m x \u001b[38;5;129;01min\u001b[39;00m asks])\n",
      "Cell \u001b[1;32mIn[9], line 1\u001b[0m, in \u001b[0;36m<listcomp>\u001b[1;34m(.0)\u001b[0m\n\u001b[1;32m----> 1\u001b[0m best_bid\u001b[38;5;241m=\u001b[39m\u001b[38;5;28mmax\u001b[39m([\u001b[38;5;28mfloat\u001b[39m(x[\u001b[38;5;241m0\u001b[39m]) \u001b[38;5;28;01mfor\u001b[39;00m x \u001b[38;5;129;01min\u001b[39;00m bids])\n\u001b[0;32m      2\u001b[0m best_ask\u001b[38;5;241m=\u001b[39m\u001b[38;5;28mmin\u001b[39m([\u001b[38;5;28mfloat\u001b[39m(x[\u001b[38;5;241m0\u001b[39m]) \u001b[38;5;28;01mfor\u001b[39;00m x \u001b[38;5;129;01min\u001b[39;00m asks])\n",
      "\u001b[1;31mValueError\u001b[0m: could not convert string to float: ''"
     ]
    }
   ],
   "source": [
    "best_bid=max([float(x[0]) for x in bids])\n",
    "best_ask=min([float(x[0]) for x in asks])"
   ]
  },
  {
   "cell_type": "code",
   "execution_count": null,
   "id": "bf655ef7",
   "metadata": {
    "ExecuteTime": {
     "end_time": "2025-02-10T09:34:39.305877Z",
     "start_time": "2025-02-10T09:34:39.305877Z"
    },
    "code_folding": []
   },
   "outputs": [],
   "source": [
    "bid_opportunity=0\n",
    "if mid_price>0.997*best_bid:\n",
    "    pass\n",
    "else:\n",
    "    for bid in bids:\n",
    "        if mid_price<=bid[0]:\n",
    "            bid_opportunity+=(0.997*bid[0]-mid_price)*bid[1]\n",
    "print(bid_opportunity)            "
   ]
  },
  {
   "cell_type": "code",
   "execution_count": null,
   "id": "069266bd",
   "metadata": {
    "ExecuteTime": {
     "end_time": "2025-02-10T09:34:39.307386Z",
     "start_time": "2025-02-10T09:34:39.307386Z"
    }
   },
   "outputs": [],
   "source": [
    "ask_opportunity=0\n",
    "if mid_price<1.003*best_ask:\n",
    "    pass\n",
    "else:\n",
    "    for ask in asks:\n",
    "        if mid_price>=ask[0]:\n",
    "            ask_opportunity+=(mid_price-1.003*ask[0])*ask[1]\n",
    "print(ask_opportunity)            "
   ]
  },
  {
   "cell_type": "code",
   "execution_count": null,
   "id": "07a4be18",
   "metadata": {
    "ExecuteTime": {
     "end_time": "2025-02-10T09:34:39.308101Z",
     "start_time": "2025-02-10T09:34:39.308101Z"
    }
   },
   "outputs": [],
   "source": [
    "from datetime import datetime\n",
    "\n",
    "def log_opportunity(filename, opportunity_value):\n",
    "    \"\"\"Appends a timestamp and opportunity value to a text file.\"\"\"\n",
    "    timestamp = datetime.now().strftime('%Y-%m-%d %H:%M:%S')\n",
    "    with open(filename, \"a\") as file:\n",
    "        file.write(f\"{timestamp}, {opportunity_value}\\n\")\n",
    "\n",
    "# Example usage\n",
    "log_opportunity(r'C:/Users/andrej/Projects/Untitled Folder/opportunities_log.txt', bid_opportunity+ask_opportunity)  # Replace with actual opportunity value"
   ]
  },
  {
   "cell_type": "markdown",
   "id": "1aa4b7cf",
   "metadata": {},
   "source": [
    "# Sending email"
   ]
  },
  {
   "cell_type": "code",
   "execution_count": null,
   "id": "b5233b02",
   "metadata": {
    "ExecuteTime": {
     "end_time": "2025-02-10T09:34:39.309674Z",
     "start_time": "2025-02-10T09:34:39.309674Z"
    }
   },
   "outputs": [],
   "source": [
    "html_content = f\"\"\"\\\n",
    "<html>\n",
    "    <body>\n",
    "        \n",
    "        <h1>The opportunity is high</h1>\n",
    "        <p>Opportunity: { bid_opportunity+ask_opportunity}</p> \n",
    "\n",
    "    </body>\n",
    "</html>\n",
    "\"\"\"\n",
    "\n",
    "\n",
    "if bid_opportunity+ask_opportunity>=100:\n",
    "    send_html_email(\n",
    "        RECIPIENT, \n",
    "        f\"XRP opportunity HIGH alert! {bid_opportunity+ask_opportunity}\", \"\", html_content, \"\",\n",
    "            email_password=EMAIL_PASSWORD\n",
    "\n",
    "            )"
   ]
  }
 ],
 "metadata": {
  "hide_input": false,
  "kernelspec": {
   "display_name": "Python 3 (ipykernel)",
   "language": "python",
   "name": "python3"
  },
  "language_info": {
   "codemirror_mode": {
    "name": "ipython",
    "version": 3
   },
   "file_extension": ".py",
   "mimetype": "text/x-python",
   "name": "python",
   "nbconvert_exporter": "python",
   "pygments_lexer": "ipython3",
   "version": "3.11.8"
  },
  "toc": {
   "base_numbering": 1,
   "nav_menu": {},
   "number_sections": true,
   "sideBar": true,
   "skip_h1_title": false,
   "title_cell": "Table of Contents",
   "title_sidebar": "Contents",
   "toc_cell": false,
   "toc_position": {},
   "toc_section_display": true,
   "toc_window_display": false
  },
  "varInspector": {
   "cols": {
    "lenName": 16,
    "lenType": 16,
    "lenVar": 40
   },
   "kernels_config": {
    "python": {
     "delete_cmd_postfix": "",
     "delete_cmd_prefix": "del ",
     "library": "var_list.py",
     "varRefreshCmd": "print(var_dic_list())"
    },
    "r": {
     "delete_cmd_postfix": ") ",
     "delete_cmd_prefix": "rm(",
     "library": "var_list.r",
     "varRefreshCmd": "cat(var_dic_list()) "
    }
   },
   "types_to_exclude": [
    "module",
    "function",
    "builtin_function_or_method",
    "instance",
    "_Feature"
   ],
   "window_display": false
  }
 },
 "nbformat": 4,
 "nbformat_minor": 5
}
